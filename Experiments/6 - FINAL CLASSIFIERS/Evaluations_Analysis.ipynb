{
  "nbformat": 4,
  "nbformat_minor": 0,
  "metadata": {
    "colab": {
      "name": "Evaluations Analysis.ipynb",
      "provenance": [],
      "collapsed_sections": [
        "38fD5QtgoNH9",
        "rzDM9jV4jFW2"
      ],
      "toc_visible": true
    },
    "kernelspec": {
      "name": "python3",
      "display_name": "Python 3"
    }
  },
  "cells": [
    {
      "cell_type": "markdown",
      "metadata": {
        "id": "zgdSkhxZdv0_"
      },
      "source": [
        "## Conexión a google drive"
      ]
    },
    {
      "cell_type": "code",
      "metadata": {
        "colab": {
          "base_uri": "https://localhost:8080/"
        },
        "id": "3rEA8wkz2HzN",
        "outputId": "32024083-5f8d-4d5a-e204-9d0110a163ce"
      },
      "source": [
        "from google.colab import drive\n",
        "drive.mount('/content/drive')"
      ],
      "execution_count": null,
      "outputs": [
        {
          "output_type": "stream",
          "text": [
            "Mounted at /content/drive\n"
          ],
          "name": "stdout"
        }
      ]
    },
    {
      "cell_type": "code",
      "metadata": {
        "id": "Crq_ww9d2GNh",
        "colab": {
          "base_uri": "https://localhost:8080/"
        },
        "outputId": "a2968666-7f49-41ea-9da2-a3b75fab4664"
      },
      "source": [
        "%cd ./drive/MyDrive/Colab Notebooks/"
      ],
      "execution_count": null,
      "outputs": [
        {
          "output_type": "stream",
          "text": [
            "/content/drive/MyDrive/Colab Notebooks\n"
          ],
          "name": "stdout"
        }
      ]
    },
    {
      "cell_type": "code",
      "metadata": {
        "colab": {
          "base_uri": "https://localhost:8080/",
          "height": 35
        },
        "id": "2hzv_IBdGWQQ",
        "outputId": "80d47e4b-922d-42d7-c2ab-2290d2050be9"
      },
      "source": [
        "%pwd"
      ],
      "execution_count": null,
      "outputs": [
        {
          "output_type": "execute_result",
          "data": {
            "application/vnd.google.colaboratory.intrinsic+json": {
              "type": "string"
            },
            "text/plain": [
              "'/content/drive/MyDrive/Colab Notebooks'"
            ]
          },
          "metadata": {
            "tags": []
          },
          "execution_count": 3
        }
      ]
    },
    {
      "cell_type": "code",
      "metadata": {
        "id": "Pdhp7o_w6SQK"
      },
      "source": [
        "import pickle"
      ],
      "execution_count": null,
      "outputs": []
    },
    {
      "cell_type": "markdown",
      "metadata": {
        "id": "zIjLQTVp48tW"
      },
      "source": [
        "# Importar los resultados"
      ]
    },
    {
      "cell_type": "markdown",
      "metadata": {
        "id": "cbD-9kp4wtaH"
      },
      "source": [
        "## CNN"
      ]
    },
    {
      "cell_type": "markdown",
      "metadata": {
        "id": "JhAL5sJgxDWa"
      },
      "source": [
        "## Experimentos A"
      ]
    },
    {
      "cell_type": "code",
      "metadata": {
        "id": "1q7B7uE66GKW"
      },
      "source": [
        "with open('./systems_evaluations/CNN_S2_CROSS_VALIDATION.dict', 'rb') as file_handler:\n",
        "  cnn_cv_A = pickle.load(file_handler)"
      ],
      "execution_count": null,
      "outputs": []
    },
    {
      "cell_type": "code",
      "metadata": {
        "id": "5iG68WxlFyg9"
      },
      "source": [
        "cnn_val_A = dict(zip(cnn_cv_A.keys(), [v[1] for v in cnn_cv_A.values()]))"
      ],
      "execution_count": null,
      "outputs": []
    },
    {
      "cell_type": "code",
      "metadata": {
        "id": "T0Za17sb5l4R"
      },
      "source": [
        "with open('./systems_evaluations/CNN_S2_TEST_RESULTS.dict', 'rb') as file_handler:\n",
        "  cnn_test_A = pickle.load(file_handler)"
      ],
      "execution_count": null,
      "outputs": []
    },
    {
      "cell_type": "code",
      "metadata": {
        "colab": {
          "base_uri": "https://localhost:8080/"
        },
        "id": "5m93WcCyG97I",
        "outputId": "979a5678-aae1-4d4f-c4e9-d8621555f5e7"
      },
      "source": [
        "list(cnn_val_A.values())[5].mean(axis=0)"
      ],
      "execution_count": null,
      "outputs": [
        {
          "output_type": "execute_result",
          "data": {
            "text/plain": [
              "A_acc       0.827800\n",
              "B1_acc      0.909998\n",
              "B2_acc      0.836998\n",
              "A1_f1       0.818048\n",
              "B1_f1       0.880401\n",
              "B2_f1       0.815091\n",
              "F1_multi    0.837846\n",
              "EMR         0.788597\n",
              "dtype: float64"
            ]
          },
          "metadata": {
            "tags": []
          },
          "execution_count": 37
        }
      ]
    },
    {
      "cell_type": "markdown",
      "metadata": {
        "id": "IhFV45Ppw7Bw"
      },
      "source": [
        "## Experimentos B"
      ]
    },
    {
      "cell_type": "markdown",
      "metadata": {
        "id": "ZuKn7i3GGcjf"
      },
      "source": [
        "### ADAM 4"
      ]
    },
    {
      "cell_type": "code",
      "metadata": {
        "id": "nrA4qMUtlyVB"
      },
      "source": [
        "import pickle"
      ],
      "execution_count": null,
      "outputs": []
    },
    {
      "cell_type": "code",
      "metadata": {
        "id": "ctrY7zWDxL02"
      },
      "source": [
        "with open('./systems_evaluations/CNN_ADAM4_CV_EXP_B.dict', 'rb') as file_handler:\n",
        "  cnn_cv_B1 = pickle.load(file_handler)"
      ],
      "execution_count": null,
      "outputs": []
    },
    {
      "cell_type": "code",
      "metadata": {
        "id": "Goc52ejuxL1Q"
      },
      "source": [
        "cnn_val_B1 = dict(zip(cnn_cv_B1.keys(), [v[1] for v in cnn_cv_B1.values()]))"
      ],
      "execution_count": null,
      "outputs": []
    },
    {
      "cell_type": "code",
      "metadata": {
        "id": "1TxzqsjuxL1R"
      },
      "source": [
        "with open('./systems_evaluations/CNN_ADAM4_TEST_EXP_B.dict', 'rb') as file_handler:\n",
        "  cnn_test_B1 = pickle.load(file_handler)"
      ],
      "execution_count": null,
      "outputs": []
    },
    {
      "cell_type": "code",
      "metadata": {
        "id": "H9c5wBvLHA4k"
      },
      "source": [
        "list(cnn_val_B1.values())[2].mean(axis=0)"
      ],
      "execution_count": null,
      "outputs": []
    },
    {
      "cell_type": "markdown",
      "metadata": {
        "id": "rhDSXtOpGhW0"
      },
      "source": [
        "### ADAM 5"
      ]
    },
    {
      "cell_type": "code",
      "metadata": {
        "id": "K23yww3CGhW2"
      },
      "source": [
        "with open('./systems_evaluations/CNN_ADAM5_CV_EXP_B.dict', 'rb') as file_handler:\n",
        "  cnn_cv_B2 = pickle.load(file_handler)"
      ],
      "execution_count": null,
      "outputs": []
    },
    {
      "cell_type": "code",
      "metadata": {
        "id": "yTtKXN64GhW3"
      },
      "source": [
        "cnn_val_B2 = dict(zip(cnn_cv_B2.keys(), [v[1] for v in cnn_cv_B2.values()]))"
      ],
      "execution_count": null,
      "outputs": []
    },
    {
      "cell_type": "code",
      "metadata": {
        "id": "f1uM-lz9GhW5"
      },
      "source": [
        "with open('./systems_evaluations/CNN_ADAM5_TEST_EXP_B.dict', 'rb') as file_handler:\n",
        "  cnn_test_B2 = pickle.load(file_handler)"
      ],
      "execution_count": null,
      "outputs": []
    },
    {
      "cell_type": "code",
      "metadata": {
        "colab": {
          "base_uri": "https://localhost:8080/"
        },
        "id": "91KVrO8LGcVc",
        "outputId": "b7b61ee4-5d6c-4716-b910-60a27d40d57d"
      },
      "source": [
        "list(cnn_val_B2.values())[2].mean(axis=0)"
      ],
      "execution_count": null,
      "outputs": [
        {
          "output_type": "execute_result",
          "data": {
            "text/plain": [
              "A_acc       0.803601\n",
              "B1_acc      0.897801\n",
              "B2_acc      0.802400\n",
              "A1_f1       0.792026\n",
              "B1_f1       0.860280\n",
              "B2_f1       0.780270\n",
              "F1_multi    0.810858\n",
              "EMR         0.756601\n",
              "dtype: float64"
            ]
          },
          "metadata": {
            "tags": []
          },
          "execution_count": 21
        }
      ]
    },
    {
      "cell_type": "markdown",
      "metadata": {
        "id": "CHnvbL3eG3dw"
      },
      "source": [
        "### LSTM1"
      ]
    },
    {
      "cell_type": "code",
      "metadata": {
        "id": "Y0xxW9wXLP4f"
      },
      "source": [
        "with open('./systems_evaluations/LSTM_M1_S2_CROSS_VALIDATION.dict', 'rb') as file_handler:\n",
        "  lstm1_cv = pickle.load(file_handler)"
      ],
      "execution_count": null,
      "outputs": []
    },
    {
      "cell_type": "code",
      "metadata": {
        "id": "ctGeNTtSLkmY"
      },
      "source": [
        "lstm1_val = dict(zip(lstm1_cv.keys(), [v[1] for v in lstm1_cv.values()]))"
      ],
      "execution_count": null,
      "outputs": []
    },
    {
      "cell_type": "code",
      "metadata": {
        "id": "hfu7TNdMLP4h"
      },
      "source": [
        "with open('./systems_evaluations/LSTM_M1_S2_TEST_RESULTS.dict', 'rb') as file_handler:\n",
        "  lstm1_test= pickle.load(file_handler)"
      ],
      "execution_count": null,
      "outputs": []
    },
    {
      "cell_type": "code",
      "metadata": {
        "id": "AO3M0sU4xboQ"
      },
      "source": [
        "with open('./systems_evaluations/LSTM_M2_S2_CROSS_VALIDATION.dict', 'rb') as file_handler:\n",
        "  lstm2_cv = pickle.load(file_handler)"
      ],
      "execution_count": null,
      "outputs": []
    },
    {
      "cell_type": "code",
      "metadata": {
        "id": "gofHMjk3DutG"
      },
      "source": [
        "lstm2_val = dict(zip(lstm2_cv.keys(), [v[1] for v in lstm2_cv.values()]))"
      ],
      "execution_count": null,
      "outputs": []
    },
    {
      "cell_type": "code",
      "metadata": {
        "id": "g-Pi_kA6xbo-"
      },
      "source": [
        "with open('./systems_evaluations/LSTM_M2_S2_TEST_RESULTS.dict', 'rb') as file_handler:\n",
        "  lstm2_test= pickle.load(file_handler)"
      ],
      "execution_count": null,
      "outputs": []
    },
    {
      "cell_type": "markdown",
      "metadata": {
        "id": "pMMuR8VO1MBa"
      },
      "source": [
        "# Utils"
      ]
    },
    {
      "cell_type": "code",
      "metadata": {
        "id": "Tu16ZRqYEjVN"
      },
      "source": [
        "import numpy as np\n",
        "from pandas import DataFrame\n",
        "def getResultsSummary(results_dict):\n",
        "  results_summaries = []\n",
        "  for i, v in enumerate(results_dict.values()):\n",
        "    emr_results = v['EMR']\n",
        "    summary = {'min_acc':np.min(emr_results),\n",
        "               'max_acc':np.max(emr_results),\n",
        "               'mean_acc':np.mean(emr_results),\n",
        "               'acc_std':np.std(emr_results)}\n",
        "    results_summaries.append(summary)               \n",
        "\n",
        "  return DataFrame(results_summaries)"
      ],
      "execution_count": null,
      "outputs": []
    },
    {
      "cell_type": "code",
      "metadata": {
        "id": "NzUCMm7vT069"
      },
      "source": [
        "def getMedianStd(results_dict):\n",
        "  std = []\n",
        "  for r in results_dict.values():\n",
        "    x1 = r.EMR.to_numpy()\n",
        "    std.append(np.std(x1))\n",
        "\n",
        "  std = np.array(std)\n",
        "\n",
        "  return np.median(std)"
      ],
      "execution_count": null,
      "outputs": []
    },
    {
      "cell_type": "code",
      "metadata": {
        "id": "e7BW7M1lUuDG"
      },
      "source": [
        "for k, v in cnn_val.items():\n",
        "  print(k)"
      ],
      "execution_count": null,
      "outputs": []
    },
    {
      "cell_type": "code",
      "metadata": {
        "id": "NY5Y28djMvSO"
      },
      "source": [
        "import numpy as np\n",
        "import matplotlib.pyplot as plt\n",
        "import matplotlib.cbook as cbook\n",
        "from matplotlib import colors\n",
        "\n",
        "def plotMeanValAaccVsTestAcc(cv_results_dict, test_results_dict, model_label):\n",
        "\n",
        "  val_median_std = getMedianStd(cv_results_dict)\n",
        "\n",
        "  empty_arrays= True\n",
        "  x_array = None\n",
        "  y_array = None\n",
        "  mean_acc_values = []\n",
        "  c_values_list = []\n",
        "\n",
        "  colors_list = [\"green\", \"red\"]\n",
        "  colormap = colors.ListedColormap(colors_list)\n",
        "\n",
        "  fig, ax = plt.subplots()\n",
        "\n",
        "  for system_id in cv_results_dict.keys():\n",
        "\n",
        "    x1 = cv_results_dict[system_id][1].EMR.to_numpy()\n",
        "    val_acc_std = np.std(x1)\n",
        "    mean_val_acc = np.mean(x1) \n",
        "\n",
        "    mean_acc_values.extend([mean_val_acc]*7)\n",
        "\n",
        "    y = test_results_dict[system_id].EMR.to_numpy()\n",
        "\n",
        "    if empty_arrays:\n",
        "      y_array = y\n",
        "      empty_arrays = False\n",
        "\n",
        "    else:\n",
        "      y_array = np.concatenate((y_array,y)) \n",
        "\n",
        "    if val_acc_std < val_median_std:\n",
        "      c_values_list.extend([0]*7)\n",
        "    else:\n",
        "      c_values_list.extend([1]*7)\n",
        "\n",
        "    \n",
        "    ax.scatter(mean_acc_values, y_array, marker='o', c=c_values_list, alpha=1.5, cmap=colormap)\n",
        "\n",
        "    ax.set_xlabel(r'$\\Delta_i$', fontsize=15)\n",
        "    ax.set_ylabel(r'$\\Delta_{i+1}$', fontsize=15)\n",
        "    ax.set_title('mean_v_acc vs test_acc')"
      ],
      "execution_count": null,
      "outputs": []
    },
    {
      "cell_type": "code",
      "metadata": {
        "id": "7Vrx5uy134ka"
      },
      "source": [
        "import numpy as np\n",
        "import matplotlib.pyplot as plt\n",
        "import matplotlib.cbook as cbook\n",
        "from matplotlib import colors\n",
        "\n",
        "def plotConfigurationsResults(test_results_dict, model_label):\n",
        "\n",
        "  test_median_std = getTesMedianStd(test_results_dict, model_label)\n",
        "\n",
        "  empty_arrays= True\n",
        "\n",
        "  x_list = []\n",
        "  y_array = None\n",
        "  c_values_list = []\n",
        "\n",
        "  colors_list = [\"green\", \"red\"]\n",
        "  colormap = colors.ListedColormap(colors_list)\n",
        "\n",
        "  fig, ax = plt.subplots()\n",
        "\n",
        "  for idx in range(0,len(test_results_dict)):\n",
        "    system_id = f\"{model_label}-S2-C{idx}\"\n",
        "\n",
        "    y = test_results_dict[system_id].EMR.to_numpy()\n",
        "    acc_std = np.std(y)\n",
        "\n",
        "    x_list.extend([idx+1]*7)\n",
        "\n",
        "    if empty_arrays:\n",
        "      y_array = y\n",
        "      empty_arrays = False\n",
        "\n",
        "    else:\n",
        "      y_array = np.concatenate((y_array,y)) \n",
        "\n",
        "    if acc_std < test_median_std:\n",
        "      c_values_list.extend([0]*7)\n",
        "    else:\n",
        "      c_values_list.extend([1]*7)\n",
        "\n",
        "  ax.scatter(x_list, y_array, marker='o', c=c_values_list, alpha=1.5, cmap=colormap)\n",
        "\n",
        "  ax.set_xlabel(r'config_idx', fontsize=15)\n",
        "  ax.set_ylabel(r'test_acc', fontsize=15)\n",
        "  ax.set_title('test_acc resutls')\n",
        "    #ax.set_xlim(0.78,0.79)"
      ],
      "execution_count": null,
      "outputs": []
    },
    {
      "cell_type": "code",
      "metadata": {
        "id": "ZkJE19Qc7uTE"
      },
      "source": [
        "import numpy as np\n",
        "import matplotlib.pyplot as plt\n",
        "import matplotlib.cbook as cbook\n",
        "from matplotlib import colors\n",
        "\n",
        "def plotConfigurationsValResults(val_results_dict, model_label):\n",
        "  \n",
        "\n",
        "  val_median_std = getCvMedianStd(val_results_dict, model_label)\n",
        "\n",
        "  empty_arrays= True\n",
        "\n",
        "  x_list = []\n",
        "  y_array = None\n",
        "  c_values_list = []\n",
        "\n",
        "  colors_list = [\"green\", \"red\"]\n",
        "  colormap = colors.ListedColormap(colors_list)\n",
        "\n",
        "  fig, ax = plt.subplots()\n",
        "\n",
        "  for idx in range(0,len(val_results_dict)):\n",
        "    system_id = f\"{model_label}-S2-C{idx}\"\n",
        "\n",
        "    y = val_results_dict[system_id][1].EMR.to_numpy()\n",
        "    acc_std = np.std(y)\n",
        "\n",
        "    x_list.extend([idx+1]*7)\n",
        "\n",
        "    if empty_arrays:\n",
        "      y_array = y\n",
        "      empty_arrays = False\n",
        "\n",
        "    else:\n",
        "      y_array = np.concatenate((y_array,y)) \n",
        "\n",
        "    if acc_std < val_median_std:\n",
        "      c_values_list.extend([0]*7)\n",
        "    else:\n",
        "      c_values_list.extend([1]*7)\n",
        "\n",
        "  ax.scatter(x_list, y_array, marker='o', c=c_values_list, alpha=1.5, cmap=colormap)\n",
        "\n",
        "  ax.set_xlabel(r'config_idx', fontsize=15)\n",
        "  ax.set_ylabel(r'test_acc', fontsize=15)\n",
        "  ax.set_title('test_acc resutls')\n",
        "    #ax.set_xlim(0.78,0.79)"
      ],
      "execution_count": null,
      "outputs": []
    },
    {
      "cell_type": "code",
      "metadata": {
        "id": "DZyRnczXN07L"
      },
      "source": [
        "import numpy as np\n",
        "import matplotlib.pyplot as plt\n",
        "import matplotlib.cbook as cbook\n",
        "from matplotlib import colors\n",
        "\n",
        "def plotResultsByFold(val_emr, test_emr, mean_val_acc):\n",
        "\n",
        "  fig, ax = plt.subplots()\n",
        "\n",
        "  ax.scatter(range(1,8), val_emr, marker='o')\n",
        "  ax.scatter(range(1,8), test_emr, marker='o')\n",
        "\n",
        "  ax.axhline(y=mean_val_acc)\n",
        "\n",
        "  ax.set_xlabel(r'fold', fontsize=15)\n",
        "  ax.set_ylabel(r'EMR', fontsize=15)\n",
        "  ax.set_title('EMR results by fold')\n",
        "    #ax.set_xlim(0.78,0.79)"
      ],
      "execution_count": null,
      "outputs": []
    },
    {
      "cell_type": "code",
      "metadata": {
        "id": "q6IzdElKAYp1"
      },
      "source": [
        "import matplotlib.pyplot as plt\n",
        "import numpy as np\n",
        "\n",
        "def plotResultsBoxPlots(results_dict, title_str, plot_type = 'boxplot'):\n",
        "  n_results = len(results_dict)\n",
        "  x_labels = [str(i) for i in range(n_results)]\n",
        "  n_labels = len(x_labels)\n",
        "\n",
        "  fig, axis = plt.subplots(figsize=(9, 4))\n",
        "  EMR_results = [results_df.EMR.to_numpy() for results_df in results_dict.values()]\n",
        "\n",
        "  if plot_type == 'boxplot':\n",
        "    # BoxPlots\n",
        "    axis.boxplot(EMR_results, showmeans=True)\n",
        "    axis.set_title(title_str)\n",
        "    #axis.set_ylim(*y_limits)\n",
        "\n",
        "    axis.yaxis.grid(True)\n",
        "    axis.set_xticks([y + 1 for y in range(n_labels)])\n",
        "    axis.set_xlabel('config idx')\n",
        "    axis.set_ylabel('acc')\n",
        "\n",
        "  elif plot_type == 'violin':\n",
        "    # Violin plot\n",
        "    axis.violinplot(acc_data,\n",
        "                  positions = [ y + 1 for y in range(n_labels) ],\n",
        "                  showmeans=False,\n",
        "                  showmedians=True)\n",
        "    axis.set_title('{} results by {}'.format(metric,parameter))\n",
        "    axis.set_ylim(*y_limits)\n",
        "\n",
        "    axis.yaxis.grid(True)\n",
        "    axis.set_xticks([ y + 1 for y in range(n_labels) ])\n",
        "    axis.set_xlabel(parameter)\n",
        "    axis.set_ylabel(metric)\n",
        "\n",
        "    # add x-tick labels\n",
        "    plt.setp(axis, xticks=[ y + 1 for y in range(n_labels) ], xticklabels=x_labels)\n",
        "    plt.show()"
      ],
      "execution_count": null,
      "outputs": []
    },
    {
      "cell_type": "code",
      "metadata": {
        "id": "S5s6R0krmJO3"
      },
      "source": [
        "import numpy as np\n",
        "import matplotlib.pyplot as plt\n",
        "import matplotlib.cbook as cbook\n",
        "\n",
        "def plotValVsTestResuts(val_EMR, test_EMR):\n",
        "  x = val_EMR\n",
        "  y = test_EMR\n",
        "  \n",
        "  mean_val_acc = np.mean(x)\n",
        "\n",
        "  fig, ax = plt.subplots()\n",
        "  ax.scatter(x, y, marker='o')\n",
        "\n",
        "  ax.set_xlabel(r'val_EMR', fontsize=15)\n",
        "  ax.set_ylabel(r'test_EMR', fontsize=15)\n",
        "  ax.set_title(f\"Val EMR vs Test EMR\")\n",
        "\n",
        "  ax.axvline(x=mean_val_acc)\n",
        "\n",
        "  ax.grid(True)\n",
        "  fig.tight_layout()\n",
        "\n",
        "  plt.show()"
      ],
      "execution_count": null,
      "outputs": []
    },
    {
      "cell_type": "markdown",
      "metadata": {
        "id": "7ZLpf5fkMCEL"
      },
      "source": [
        "# cnn"
      ]
    },
    {
      "cell_type": "markdown",
      "metadata": {
        "id": "o6-vgmWC1ClG"
      },
      "source": [
        "## Experimentos A"
      ]
    },
    {
      "cell_type": "code",
      "metadata": {
        "colab": {
          "base_uri": "https://localhost:8080/",
          "height": 445
        },
        "id": "i2I9YTdYDg9J",
        "outputId": "ec9bfe4b-5cce-4003-9a6d-04fa82fd5f2a"
      },
      "source": [
        "plotResultsBoxPlots(cnn_val_A, 'Validation EMR results')"
      ],
      "execution_count": null,
      "outputs": [
        {
          "output_type": "display_data",
          "data": {
            "image/png": "[encoded data removed]",
            "text/plain": [
              "<Figure size 864x486 with 1 Axes>"
            ]
          },
          "metadata": {
            "tags": [],
            "needs_background": "light"
          }
        }
      ]
    },
    {
      "cell_type": "code",
      "metadata": {
        "colab": {
          "base_uri": "https://localhost:8080/",
          "height": 445
        },
        "id": "Ywmw47uqWRmf",
        "outputId": "679b4f99-33cd-49a7-b5a8-0d6e5cd52f22"
      },
      "source": [
        "plotResultsBoxPlots(cnn_test_A, 'Test EMR results')"
      ],
      "execution_count": null,
      "outputs": [
        {
          "output_type": "display_data",
          "data": {
            "image/png": "[encoded data removed]",
            "text/plain": [
              "<Figure size 864x486 with 1 Axes>"
            ]
          },
          "metadata": {
            "tags": [],
            "needs_background": "light"
          }
        }
      ]
    },
    {
      "cell_type": "code",
      "metadata": {
        "colab": {
          "base_uri": "https://localhost:8080/"
        },
        "id": "pPG62aGhvkzG",
        "outputId": "7f69e8bf-31ec-419c-89b5-d683aefe5922"
      },
      "source": [
        "cnn_test.keys(CNN-S2-C0)"
      ],
      "execution_count": null,
      "outputs": [
        {
          "output_type": "execute_result",
          "data": {
            "text/plain": [
              "dict_keys(['CNN-S2-C0', 'CNN-S2-C1', 'CNN-S2-C2', 'CNN-S2-C3', 'CNN-S2-C4', 'CNN-S2-C5', 'CNN-S2-C6', 'CNN-S2-C7', 'CNN-S2-C8', 'CNN-S2-C9', 'CNN-S2-C10', 'CNN-S2-C11', 'CNN-S2-C12', 'CNN-S2-C13', 'CNN-S2-C14'])"
            ]
          },
          "metadata": {
            "tags": []
          },
          "execution_count": 23
        }
      ]
    },
    {
      "cell_type": "code",
      "metadata": {
        "colab": {
          "base_uri": "https://localhost:8080/",
          "height": 263
        },
        "id": "qWqaGDv2v2wW",
        "outputId": "e0544709-5691-422a-8362-5eff1451b210"
      },
      "source": [
        "list(cnn_test.values())[0]"
      ],
      "execution_count": null,
      "outputs": [
        {
          "output_type": "execute_result",
          "data": {
            "text/html": [
              "<div>\n",
              "<style scoped>\n",
              "    .dataframe tbody tr th:only-of-type {\n",
              "        vertical-align: middle;\n",
              "    }\n",
              "\n",
              "    .dataframe tbody tr th {\n",
              "        vertical-align: top;\n",
              "    }\n",
              "\n",
              "    .dataframe thead th {\n",
              "        text-align: right;\n",
              "    }\n",
              "</style>\n",
              "<table border=\"1\" class=\"dataframe\">\n",
              "  <thead>\n",
              "    <tr style=\"text-align: right;\">\n",
              "      <th></th>\n",
              "      <th>A_acc</th>\n",
              "      <th>B1_acc</th>\n",
              "      <th>B2_acc</th>\n",
              "      <th>A1_f1</th>\n",
              "      <th>B1_f1</th>\n",
              "      <th>B2_f1</th>\n",
              "      <th>F1_multi</th>\n",
              "      <th>EMR</th>\n",
              "    </tr>\n",
              "  </thead>\n",
              "  <tbody>\n",
              "    <tr>\n",
              "      <th>0</th>\n",
              "      <td>0.756875</td>\n",
              "      <td>0.855000</td>\n",
              "      <td>0.756875</td>\n",
              "      <td>0.743373</td>\n",
              "      <td>0.803689</td>\n",
              "      <td>0.723072</td>\n",
              "      <td>0.756711</td>\n",
              "      <td>0.688750</td>\n",
              "    </tr>\n",
              "    <tr>\n",
              "      <th>1</th>\n",
              "      <td>0.769375</td>\n",
              "      <td>0.861875</td>\n",
              "      <td>0.785625</td>\n",
              "      <td>0.755044</td>\n",
              "      <td>0.813800</td>\n",
              "      <td>0.753064</td>\n",
              "      <td>0.773969</td>\n",
              "      <td>0.705000</td>\n",
              "    </tr>\n",
              "    <tr>\n",
              "      <th>2</th>\n",
              "      <td>0.767500</td>\n",
              "      <td>0.866875</td>\n",
              "      <td>0.796875</td>\n",
              "      <td>0.753289</td>\n",
              "      <td>0.819922</td>\n",
              "      <td>0.764022</td>\n",
              "      <td>0.779078</td>\n",
              "      <td>0.708125</td>\n",
              "    </tr>\n",
              "    <tr>\n",
              "      <th>3</th>\n",
              "      <td>0.759375</td>\n",
              "      <td>0.856875</td>\n",
              "      <td>0.778750</td>\n",
              "      <td>0.743589</td>\n",
              "      <td>0.809325</td>\n",
              "      <td>0.742826</td>\n",
              "      <td>0.765247</td>\n",
              "      <td>0.698750</td>\n",
              "    </tr>\n",
              "    <tr>\n",
              "      <th>4</th>\n",
              "      <td>0.755625</td>\n",
              "      <td>0.865625</td>\n",
              "      <td>0.784375</td>\n",
              "      <td>0.738718</td>\n",
              "      <td>0.810131</td>\n",
              "      <td>0.744363</td>\n",
              "      <td>0.764404</td>\n",
              "      <td>0.695000</td>\n",
              "    </tr>\n",
              "    <tr>\n",
              "      <th>5</th>\n",
              "      <td>0.761250</td>\n",
              "      <td>0.848750</td>\n",
              "      <td>0.799375</td>\n",
              "      <td>0.755754</td>\n",
              "      <td>0.813199</td>\n",
              "      <td>0.770794</td>\n",
              "      <td>0.779916</td>\n",
              "      <td>0.685625</td>\n",
              "    </tr>\n",
              "    <tr>\n",
              "      <th>6</th>\n",
              "      <td>0.765000</td>\n",
              "      <td>0.866875</td>\n",
              "      <td>0.793125</td>\n",
              "      <td>0.750952</td>\n",
              "      <td>0.818663</td>\n",
              "      <td>0.753867</td>\n",
              "      <td>0.774494</td>\n",
              "      <td>0.700625</td>\n",
              "    </tr>\n",
              "  </tbody>\n",
              "</table>\n",
              "</div>"
            ],
            "text/plain": [
              "      A_acc    B1_acc    B2_acc  ...     B2_f1  F1_multi       EMR\n",
              "0  0.756875  0.855000  0.756875  ...  0.723072  0.756711  0.688750\n",
              "1  0.769375  0.861875  0.785625  ...  0.753064  0.773969  0.705000\n",
              "2  0.767500  0.866875  0.796875  ...  0.764022  0.779078  0.708125\n",
              "3  0.759375  0.856875  0.778750  ...  0.742826  0.765247  0.698750\n",
              "4  0.755625  0.865625  0.784375  ...  0.744363  0.764404  0.695000\n",
              "5  0.761250  0.848750  0.799375  ...  0.770794  0.779916  0.685625\n",
              "6  0.765000  0.866875  0.793125  ...  0.753867  0.774494  0.700625\n",
              "\n",
              "[7 rows x 8 columns]"
            ]
          },
          "metadata": {
            "tags": []
          },
          "execution_count": 27
        }
      ]
    },
    {
      "cell_type": "code",
      "metadata": {
        "id": "xPxx94IEGQ-s"
      },
      "source": [
        "cnn_val_summaries = getResultsSummary(cnn_val)"
      ],
      "execution_count": null,
      "outputs": []
    },
    {
      "cell_type": "code",
      "metadata": {
        "id": "qLG4U5wUGhMX",
        "colab": {
          "base_uri": "https://localhost:8080/",
          "height": 202
        },
        "outputId": "da39d547-ef2c-4505-9a16-7f6b76b1fb31"
      },
      "source": [
        "cnn_val_summaries.sort_values(by='mean_acc', ascending=False).head()"
      ],
      "execution_count": null,
      "outputs": [
        {
          "output_type": "execute_result",
          "data": {
            "text/html": [
              "<div>\n",
              "<style scoped>\n",
              "    .dataframe tbody tr th:only-of-type {\n",
              "        vertical-align: middle;\n",
              "    }\n",
              "\n",
              "    .dataframe tbody tr th {\n",
              "        vertical-align: top;\n",
              "    }\n",
              "\n",
              "    .dataframe thead th {\n",
              "        text-align: right;\n",
              "    }\n",
              "</style>\n",
              "<table border=\"1\" class=\"dataframe\">\n",
              "  <thead>\n",
              "    <tr style=\"text-align: right;\">\n",
              "      <th></th>\n",
              "      <th>min_acc</th>\n",
              "      <th>max_acc</th>\n",
              "      <th>mean_acc</th>\n",
              "      <th>acc_std</th>\n",
              "    </tr>\n",
              "  </thead>\n",
              "  <tbody>\n",
              "    <tr>\n",
              "      <th>0</th>\n",
              "      <td>0.776224</td>\n",
              "      <td>0.798601</td>\n",
              "      <td>0.789201</td>\n",
              "      <td>0.008238</td>\n",
              "    </tr>\n",
              "    <tr>\n",
              "      <th>2</th>\n",
              "      <td>0.773109</td>\n",
              "      <td>0.802521</td>\n",
              "      <td>0.788999</td>\n",
              "      <td>0.008933</td>\n",
              "    </tr>\n",
              "    <tr>\n",
              "      <th>5</th>\n",
              "      <td>0.774510</td>\n",
              "      <td>0.806993</td>\n",
              "      <td>0.788597</td>\n",
              "      <td>0.009922</td>\n",
              "    </tr>\n",
              "    <tr>\n",
              "      <th>4</th>\n",
              "      <td>0.772028</td>\n",
              "      <td>0.797203</td>\n",
              "      <td>0.788201</td>\n",
              "      <td>0.009088</td>\n",
              "    </tr>\n",
              "    <tr>\n",
              "      <th>6</th>\n",
              "      <td>0.771709</td>\n",
              "      <td>0.801399</td>\n",
              "      <td>0.787598</td>\n",
              "      <td>0.009993</td>\n",
              "    </tr>\n",
              "  </tbody>\n",
              "</table>\n",
              "</div>"
            ],
            "text/plain": [
              "    min_acc   max_acc  mean_acc   acc_std\n",
              "0  0.776224  0.798601  0.789201  0.008238\n",
              "2  0.773109  0.802521  0.788999  0.008933\n",
              "5  0.774510  0.806993  0.788597  0.009922\n",
              "4  0.772028  0.797203  0.788201  0.009088\n",
              "6  0.771709  0.801399  0.787598  0.009993"
            ]
          },
          "metadata": {
            "tags": []
          },
          "execution_count": 31
        }
      ]
    },
    {
      "cell_type": "code",
      "metadata": {
        "id": "ZX2dj3DcGruh",
        "colab": {
          "base_uri": "https://localhost:8080/",
          "height": 202
        },
        "outputId": "26a270aa-ef11-420b-d33d-4f1d7f5849dd"
      },
      "source": [
        "cnn_summaries.sort_values(by='acc_std', ascending=True).head()"
      ],
      "execution_count": null,
      "outputs": [
        {
          "output_type": "execute_result",
          "data": {
            "text/html": [
              "<div>\n",
              "<style scoped>\n",
              "    .dataframe tbody tr th:only-of-type {\n",
              "        vertical-align: middle;\n",
              "    }\n",
              "\n",
              "    .dataframe tbody tr th {\n",
              "        vertical-align: top;\n",
              "    }\n",
              "\n",
              "    .dataframe thead th {\n",
              "        text-align: right;\n",
              "    }\n",
              "</style>\n",
              "<table border=\"1\" class=\"dataframe\">\n",
              "  <thead>\n",
              "    <tr style=\"text-align: right;\">\n",
              "      <th></th>\n",
              "      <th>min_acc</th>\n",
              "      <th>max_acc</th>\n",
              "      <th>mean_acc</th>\n",
              "      <th>acc_std</th>\n",
              "    </tr>\n",
              "  </thead>\n",
              "  <tbody>\n",
              "    <tr>\n",
              "      <th>10</th>\n",
              "      <td>0.767507</td>\n",
              "      <td>0.784615</td>\n",
              "      <td>0.773998</td>\n",
              "      <td>0.005827</td>\n",
              "    </tr>\n",
              "    <tr>\n",
              "      <th>13</th>\n",
              "      <td>0.746853</td>\n",
              "      <td>0.763636</td>\n",
              "      <td>0.756601</td>\n",
              "      <td>0.005886</td>\n",
              "    </tr>\n",
              "    <tr>\n",
              "      <th>1</th>\n",
              "      <td>0.770308</td>\n",
              "      <td>0.792717</td>\n",
              "      <td>0.783000</td>\n",
              "      <td>0.007110</td>\n",
              "    </tr>\n",
              "    <tr>\n",
              "      <th>3</th>\n",
              "      <td>0.775910</td>\n",
              "      <td>0.797203</td>\n",
              "      <td>0.786399</td>\n",
              "      <td>0.007931</td>\n",
              "    </tr>\n",
              "    <tr>\n",
              "      <th>11</th>\n",
              "      <td>0.770308</td>\n",
              "      <td>0.795804</td>\n",
              "      <td>0.782799</td>\n",
              "      <td>0.008193</td>\n",
              "    </tr>\n",
              "  </tbody>\n",
              "</table>\n",
              "</div>"
            ],
            "text/plain": [
              "     min_acc   max_acc  mean_acc   acc_std\n",
              "10  0.767507  0.784615  0.773998  0.005827\n",
              "13  0.746853  0.763636  0.756601  0.005886\n",
              "1   0.770308  0.792717  0.783000  0.007110\n",
              "3   0.775910  0.797203  0.786399  0.007931\n",
              "11  0.770308  0.795804  0.782799  0.008193"
            ]
          },
          "metadata": {
            "tags": []
          },
          "execution_count": 62
        }
      ]
    },
    {
      "cell_type": "code",
      "metadata": {
        "id": "1umcRmHZM2kM"
      },
      "source": [
        "idx = 0\n",
        "val_emr = cnn_val[f'CNN-S2-C{idx}']['EMR'].to_numpy()\n",
        "test_emr = cnn_test[f'CNN-S2-C{idx}']['EMR'].to_numpy()"
      ],
      "execution_count": null,
      "outputs": []
    },
    {
      "cell_type": "code",
      "metadata": {
        "colab": {
          "base_uri": "https://localhost:8080/",
          "height": 297
        },
        "id": "DGbd89Q3ltl_",
        "outputId": "f50192d2-610e-42e7-9f9c-d3f346fc2c15"
      },
      "source": [
        "plotValVsTestResuts(val_emr, test_emr)"
      ],
      "execution_count": null,
      "outputs": [
        {
          "output_type": "display_data",
          "data": {
            "image/png": "[encoded data removed]",
            "text/plain": [
              "<Figure size 432x288 with 1 Axes>"
            ]
          },
          "metadata": {
            "tags": [],
            "needs_background": "light"
          }
        }
      ]
    },
    {
      "cell_type": "code",
      "metadata": {
        "id": "yuiYo2fXM9qQ"
      },
      "source": [
        "plotResultsByFold(val_emr, test_emr, cnn_summaries.loc[idx,'mean_acc'])"
      ],
      "execution_count": null,
      "outputs": []
    },
    {
      "cell_type": "markdown",
      "metadata": {
        "id": "EdSyV3kI1JGD"
      },
      "source": [
        "## Experimentos B"
      ]
    },
    {
      "cell_type": "markdown",
      "metadata": {
        "id": "USZo9zSGG7PR"
      },
      "source": [
        "### ADAM 4"
      ]
    },
    {
      "cell_type": "code",
      "metadata": {
        "colab": {
          "base_uri": "https://localhost:8080/",
          "height": 445
        },
        "id": "Bl13isFv1QVu",
        "outputId": "47f2b135-b3d5-408e-e1ea-3ebbbb67ac05"
      },
      "source": [
        "plotResultsBoxPlots(cnn_val_B1, 'Validation EMR results')"
      ],
      "execution_count": null,
      "outputs": [
        {
          "output_type": "display_data",
          "data": {
            "image/png": "[encoded data removed]",
            "text/plain": [
              "<Figure size 864x486 with 1 Axes>"
            ]
          },
          "metadata": {
            "tags": [],
            "needs_background": "light"
          }
        }
      ]
    },
    {
      "cell_type": "code",
      "metadata": {
        "colab": {
          "base_uri": "https://localhost:8080/",
          "height": 445
        },
        "id": "9uH_Bagj1QV3",
        "outputId": "b4ed46b4-f909-4826-805c-0a5dca21d892"
      },
      "source": [
        "plotResultsBoxPlots(cnn_test_B1, 'Test EMR results')"
      ],
      "execution_count": null,
      "outputs": [
        {
          "output_type": "display_data",
          "data": {
            "image/png": "[encoded data removed]",
            "text/plain": [
              "<Figure size 864x486 with 1 Axes>"
            ]
          },
          "metadata": {
            "tags": [],
            "needs_background": "light"
          }
        }
      ]
    },
    {
      "cell_type": "markdown",
      "metadata": {
        "id": "mIe3Yb4sHAYj"
      },
      "source": [
        "### ADAM 5"
      ]
    },
    {
      "cell_type": "code",
      "metadata": {
        "colab": {
          "base_uri": "https://localhost:8080/",
          "height": 445
        },
        "id": "fY_oybT5HAYo",
        "outputId": "dda7c2ff-ceb2-48ce-af51-ce9b800d0f9a"
      },
      "source": [
        "plotResultsBoxPlots(cnn_val_B2, 'Validation EMR results')"
      ],
      "execution_count": null,
      "outputs": [
        {
          "output_type": "display_data",
          "data": {
            "image/png": "[encoded data removed]",
            "text/plain": [
              "<Figure size 864x486 with 1 Axes>"
            ]
          },
          "metadata": {
            "tags": [],
            "needs_background": "light"
          }
        }
      ]
    },
    {
      "cell_type": "code",
      "metadata": {
        "colab": {
          "base_uri": "https://localhost:8080/",
          "height": 445
        },
        "id": "PDxcbNGAHAYw",
        "outputId": "8ea60b80-a9ab-4960-ad88-deaa3b344fe4"
      },
      "source": [
        "plotResultsBoxPlots(cnn_test_B2, 'Test EMR results')"
      ],
      "execution_count": null,
      "outputs": [
        {
          "output_type": "display_data",
          "data": {
            "image/png": "[encoded data removed]",
            "text/plain": [
              "<Figure size 864x486 with 1 Axes>"
            ]
          },
          "metadata": {
            "tags": [],
            "needs_background": "light"
          }
        }
      ]
    },
    {
      "cell_type": "code",
      "metadata": {
        "colab": {
          "base_uri": "https://localhost:8080/"
        },
        "id": "Nsi0qjM25IFN",
        "outputId": "9f4702f8-80f5-41a0-ffe7-64c8ec6cad73"
      },
      "source": [
        "list(cnn_test_B2.values())[0].mean(axis=0)"
      ],
      "execution_count": null,
      "outputs": [
        {
          "output_type": "execute_result",
          "data": {
            "text/plain": [
              "A_acc       0.746786\n",
              "B1_acc      0.852411\n",
              "B2_acc      0.769375\n",
              "A1_f1       0.723857\n",
              "B1_f1       0.790672\n",
              "B2_f1       0.724664\n",
              "F1_multi    0.746398\n",
              "EMR         0.690893\n",
              "dtype: float64"
            ]
          },
          "metadata": {
            "tags": []
          },
          "execution_count": 19
        }
      ]
    },
    {
      "cell_type": "markdown",
      "metadata": {
        "id": "vEOPe8gpWrpT"
      },
      "source": [
        "# lstm1"
      ]
    },
    {
      "cell_type": "code",
      "metadata": {
        "colab": {
          "base_uri": "https://localhost:8080/",
          "height": 445
        },
        "id": "ta7o6_aBNkEC",
        "outputId": "f3ac3f51-d7f1-41e4-e129-6bf3cc184449"
      },
      "source": [
        "plotResultsBoxPlots(lstm1_val, 'EMR RESULTS')"
      ],
      "execution_count": null,
      "outputs": [
        {
          "output_type": "display_data",
          "data": {
            "image/png": "[encoded data removed]",
            "text/plain": [
              "<Figure size 864x486 with 1 Axes>"
            ]
          },
          "metadata": {
            "tags": [],
            "needs_background": "light"
          }
        }
      ]
    },
    {
      "cell_type": "code",
      "metadata": {
        "colab": {
          "base_uri": "https://localhost:8080/",
          "height": 445
        },
        "id": "CozVi4HmXUdE",
        "outputId": "32d5c37d-103d-4a58-c19b-2cd0e472dba1"
      },
      "source": [
        "plotResultsBoxPlots(lstm1_test, 'EMR RESULTS')"
      ],
      "execution_count": null,
      "outputs": [
        {
          "output_type": "display_data",
          "data": {
            "image/png": "[encoded data removed]",
            "text/plain": [
              "<Figure size 864x486 with 1 Axes>"
            ]
          },
          "metadata": {
            "tags": [],
            "needs_background": "light"
          }
        }
      ]
    },
    {
      "cell_type": "code",
      "metadata": {
        "id": "WysLse-4X1Zi"
      },
      "source": [
        "lstm1_val_summaries = getResultsSummary(lstm1_val)"
      ],
      "execution_count": null,
      "outputs": []
    },
    {
      "cell_type": "code",
      "metadata": {
        "colab": {
          "base_uri": "https://localhost:8080/",
          "height": 202
        },
        "id": "Jw-3eFLlhrQl",
        "outputId": "0ec2b391-5b33-4b05-d2a1-190e6c754b9c"
      },
      "source": [
        "lstm1_val_summaries.sort_values(by='mean_acc', ascending=False).head()"
      ],
      "execution_count": null,
      "outputs": [
        {
          "output_type": "execute_result",
          "data": {
            "text/html": [
              "<div>\n",
              "<style scoped>\n",
              "    .dataframe tbody tr th:only-of-type {\n",
              "        vertical-align: middle;\n",
              "    }\n",
              "\n",
              "    .dataframe tbody tr th {\n",
              "        vertical-align: top;\n",
              "    }\n",
              "\n",
              "    .dataframe thead th {\n",
              "        text-align: right;\n",
              "    }\n",
              "</style>\n",
              "<table border=\"1\" class=\"dataframe\">\n",
              "  <thead>\n",
              "    <tr style=\"text-align: right;\">\n",
              "      <th></th>\n",
              "      <th>min_acc</th>\n",
              "      <th>max_acc</th>\n",
              "      <th>mean_acc</th>\n",
              "      <th>acc_std</th>\n",
              "    </tr>\n",
              "  </thead>\n",
              "  <tbody>\n",
              "    <tr>\n",
              "      <th>4</th>\n",
              "      <td>0.780112</td>\n",
              "      <td>0.819580</td>\n",
              "      <td>0.798399</td>\n",
              "      <td>0.014744</td>\n",
              "    </tr>\n",
              "    <tr>\n",
              "      <th>6</th>\n",
              "      <td>0.773109</td>\n",
              "      <td>0.819580</td>\n",
              "      <td>0.798199</td>\n",
              "      <td>0.016305</td>\n",
              "    </tr>\n",
              "    <tr>\n",
              "      <th>1</th>\n",
              "      <td>0.773427</td>\n",
              "      <td>0.813986</td>\n",
              "      <td>0.797401</td>\n",
              "      <td>0.013455</td>\n",
              "    </tr>\n",
              "    <tr>\n",
              "      <th>9</th>\n",
              "      <td>0.775910</td>\n",
              "      <td>0.812325</td>\n",
              "      <td>0.796201</td>\n",
              "      <td>0.013066</td>\n",
              "    </tr>\n",
              "    <tr>\n",
              "      <th>3</th>\n",
              "      <td>0.771709</td>\n",
              "      <td>0.809790</td>\n",
              "      <td>0.795400</td>\n",
              "      <td>0.013079</td>\n",
              "    </tr>\n",
              "  </tbody>\n",
              "</table>\n",
              "</div>"
            ],
            "text/plain": [
              "    min_acc   max_acc  mean_acc   acc_std\n",
              "4  0.780112  0.819580  0.798399  0.014744\n",
              "6  0.773109  0.819580  0.798199  0.016305\n",
              "1  0.773427  0.813986  0.797401  0.013455\n",
              "9  0.775910  0.812325  0.796201  0.013066\n",
              "3  0.771709  0.809790  0.795400  0.013079"
            ]
          },
          "metadata": {
            "tags": []
          },
          "execution_count": 33
        }
      ]
    },
    {
      "cell_type": "code",
      "metadata": {
        "colab": {
          "base_uri": "https://localhost:8080/",
          "height": 202
        },
        "id": "qSO8460shrRC",
        "outputId": "4608a1d1-1bca-47de-e1ac-a77865df3365"
      },
      "source": [
        "lstm1_val_summaries.sort_values(by='acc_std', ascending=True).head()"
      ],
      "execution_count": null,
      "outputs": [
        {
          "output_type": "execute_result",
          "data": {
            "text/html": [
              "<div>\n",
              "<style scoped>\n",
              "    .dataframe tbody tr th:only-of-type {\n",
              "        vertical-align: middle;\n",
              "    }\n",
              "\n",
              "    .dataframe tbody tr th {\n",
              "        vertical-align: top;\n",
              "    }\n",
              "\n",
              "    .dataframe thead th {\n",
              "        text-align: right;\n",
              "    }\n",
              "</style>\n",
              "<table border=\"1\" class=\"dataframe\">\n",
              "  <thead>\n",
              "    <tr style=\"text-align: right;\">\n",
              "      <th></th>\n",
              "      <th>min_acc</th>\n",
              "      <th>max_acc</th>\n",
              "      <th>mean_acc</th>\n",
              "      <th>acc_std</th>\n",
              "    </tr>\n",
              "  </thead>\n",
              "  <tbody>\n",
              "    <tr>\n",
              "      <th>2</th>\n",
              "      <td>0.771709</td>\n",
              "      <td>0.809790</td>\n",
              "      <td>0.795199</td>\n",
              "      <td>0.013049</td>\n",
              "    </tr>\n",
              "    <tr>\n",
              "      <th>9</th>\n",
              "      <td>0.775910</td>\n",
              "      <td>0.812325</td>\n",
              "      <td>0.796201</td>\n",
              "      <td>0.013066</td>\n",
              "    </tr>\n",
              "    <tr>\n",
              "      <th>3</th>\n",
              "      <td>0.771709</td>\n",
              "      <td>0.809790</td>\n",
              "      <td>0.795400</td>\n",
              "      <td>0.013079</td>\n",
              "    </tr>\n",
              "    <tr>\n",
              "      <th>0</th>\n",
              "      <td>0.774510</td>\n",
              "      <td>0.812325</td>\n",
              "      <td>0.795199</td>\n",
              "      <td>0.013202</td>\n",
              "    </tr>\n",
              "    <tr>\n",
              "      <th>1</th>\n",
              "      <td>0.773427</td>\n",
              "      <td>0.813986</td>\n",
              "      <td>0.797401</td>\n",
              "      <td>0.013455</td>\n",
              "    </tr>\n",
              "  </tbody>\n",
              "</table>\n",
              "</div>"
            ],
            "text/plain": [
              "    min_acc   max_acc  mean_acc   acc_std\n",
              "2  0.771709  0.809790  0.795199  0.013049\n",
              "9  0.775910  0.812325  0.796201  0.013066\n",
              "3  0.771709  0.809790  0.795400  0.013079\n",
              "0  0.774510  0.812325  0.795199  0.013202\n",
              "1  0.773427  0.813986  0.797401  0.013455"
            ]
          },
          "metadata": {
            "tags": []
          },
          "execution_count": 34
        }
      ]
    },
    {
      "cell_type": "code",
      "metadata": {
        "id": "dsdf0Pb1mQR2"
      },
      "source": [
        "idx = 4\n",
        "val_emr = lstm1_val[f'LSTM-M1-S2-C{idx}']['EMR'].to_numpy()\n",
        "test_emr = lstm1_test[f'LSTM-M1-S2-C{idx}']['EMR'].to_numpy()"
      ],
      "execution_count": null,
      "outputs": []
    },
    {
      "cell_type": "code",
      "metadata": {
        "colab": {
          "base_uri": "https://localhost:8080/",
          "height": 297
        },
        "id": "5EpoJ680mQR6",
        "outputId": "65af53c0-cfde-449d-b730-5284292534f8"
      },
      "source": [
        "plotValVsTestResuts(val_emr, test_emr)"
      ],
      "execution_count": null,
      "outputs": [
        {
          "output_type": "display_data",
          "data": {
            "image/png": "[encoded data removed]",
            "text/plain": [
              "<Figure size 432x288 with 1 Axes>"
            ]
          },
          "metadata": {
            "tags": [],
            "needs_background": "light"
          }
        }
      ]
    },
    {
      "cell_type": "markdown",
      "metadata": {
        "id": "DVxEkru-X1qL"
      },
      "source": [
        "# lstm2"
      ]
    },
    {
      "cell_type": "code",
      "metadata": {
        "colab": {
          "base_uri": "https://localhost:8080/",
          "height": 445
        },
        "id": "Q6PkiurqX1qN",
        "outputId": "98f1df59-86cd-4cf9-a364-ee8c690c69cb"
      },
      "source": [
        "plotResultsBoxPlots(lstm2_val, 'EMR RESULTS')"
      ],
      "execution_count": null,
      "outputs": [
        {
          "output_type": "display_data",
          "data": {
            "image/png": "[encoded data removed]",
            "text/plain": [
              "<Figure size 864x486 with 1 Axes>"
            ]
          },
          "metadata": {
            "tags": [],
            "needs_background": "light"
          }
        }
      ]
    },
    {
      "cell_type": "code",
      "metadata": {
        "colab": {
          "base_uri": "https://localhost:8080/",
          "height": 445
        },
        "id": "iwGGxjqsX1qP",
        "outputId": "6b79242c-f698-4d3f-f376-fda4b34c4fa6"
      },
      "source": [
        "plotResultsBoxPlots(lstm2_test, 'EMR RESULTS')"
      ],
      "execution_count": null,
      "outputs": [
        {
          "output_type": "display_data",
          "data": {
            "image/png": "[encoded data removed]",
            "text/plain": [
              "<Figure size 864x486 with 1 Axes>"
            ]
          },
          "metadata": {
            "tags": [],
            "needs_background": "light"
          }
        }
      ]
    },
    {
      "cell_type": "code",
      "metadata": {
        "id": "WHLw1plmiECT"
      },
      "source": [
        "lstm2_val_summaries = getResultsSummary(lstm2_val)"
      ],
      "execution_count": null,
      "outputs": []
    },
    {
      "cell_type": "code",
      "metadata": {
        "colab": {
          "base_uri": "https://localhost:8080/",
          "height": 202
        },
        "id": "aBjYi6qZiECV",
        "outputId": "7abffbd4-70ef-4107-a811-7baafb23056e"
      },
      "source": [
        "lstm2_val_summaries.sort_values(by='mean_acc', ascending=False).head()"
      ],
      "execution_count": null,
      "outputs": [
        {
          "output_type": "execute_result",
          "data": {
            "text/html": [
              "<div>\n",
              "<style scoped>\n",
              "    .dataframe tbody tr th:only-of-type {\n",
              "        vertical-align: middle;\n",
              "    }\n",
              "\n",
              "    .dataframe tbody tr th {\n",
              "        vertical-align: top;\n",
              "    }\n",
              "\n",
              "    .dataframe thead th {\n",
              "        text-align: right;\n",
              "    }\n",
              "</style>\n",
              "<table border=\"1\" class=\"dataframe\">\n",
              "  <thead>\n",
              "    <tr style=\"text-align: right;\">\n",
              "      <th></th>\n",
              "      <th>min_acc</th>\n",
              "      <th>max_acc</th>\n",
              "      <th>mean_acc</th>\n",
              "      <th>acc_std</th>\n",
              "    </tr>\n",
              "  </thead>\n",
              "  <tbody>\n",
              "    <tr>\n",
              "      <th>7</th>\n",
              "      <td>0.773109</td>\n",
              "      <td>0.806993</td>\n",
              "      <td>0.790200</td>\n",
              "      <td>0.011622</td>\n",
              "    </tr>\n",
              "    <tr>\n",
              "      <th>0</th>\n",
              "      <td>0.766106</td>\n",
              "      <td>0.809790</td>\n",
              "      <td>0.790199</td>\n",
              "      <td>0.014426</td>\n",
              "    </tr>\n",
              "    <tr>\n",
              "      <th>4</th>\n",
              "      <td>0.772028</td>\n",
              "      <td>0.802797</td>\n",
              "      <td>0.789401</td>\n",
              "      <td>0.011202</td>\n",
              "    </tr>\n",
              "    <tr>\n",
              "      <th>12</th>\n",
              "      <td>0.768908</td>\n",
              "      <td>0.813986</td>\n",
              "      <td>0.789398</td>\n",
              "      <td>0.014076</td>\n",
              "    </tr>\n",
              "    <tr>\n",
              "      <th>5</th>\n",
              "      <td>0.770629</td>\n",
              "      <td>0.805594</td>\n",
              "      <td>0.789200</td>\n",
              "      <td>0.012142</td>\n",
              "    </tr>\n",
              "  </tbody>\n",
              "</table>\n",
              "</div>"
            ],
            "text/plain": [
              "     min_acc   max_acc  mean_acc   acc_std\n",
              "7   0.773109  0.806993  0.790200  0.011622\n",
              "0   0.766106  0.809790  0.790199  0.014426\n",
              "4   0.772028  0.802797  0.789401  0.011202\n",
              "12  0.768908  0.813986  0.789398  0.014076\n",
              "5   0.770629  0.805594  0.789200  0.012142"
            ]
          },
          "metadata": {
            "tags": []
          },
          "execution_count": 36
        }
      ]
    },
    {
      "cell_type": "code",
      "metadata": {
        "colab": {
          "base_uri": "https://localhost:8080/",
          "height": 202
        },
        "id": "zRnDoaP3iECX",
        "outputId": "742024e3-93e4-4fad-b4fb-1c299326113c"
      },
      "source": [
        "lstm2_val_summaries.sort_values(by='acc_std', ascending=True).head()"
      ],
      "execution_count": null,
      "outputs": [
        {
          "output_type": "execute_result",
          "data": {
            "text/html": [
              "<div>\n",
              "<style scoped>\n",
              "    .dataframe tbody tr th:only-of-type {\n",
              "        vertical-align: middle;\n",
              "    }\n",
              "\n",
              "    .dataframe tbody tr th {\n",
              "        vertical-align: top;\n",
              "    }\n",
              "\n",
              "    .dataframe thead th {\n",
              "        text-align: right;\n",
              "    }\n",
              "</style>\n",
              "<table border=\"1\" class=\"dataframe\">\n",
              "  <thead>\n",
              "    <tr style=\"text-align: right;\">\n",
              "      <th></th>\n",
              "      <th>min_acc</th>\n",
              "      <th>max_acc</th>\n",
              "      <th>mean_acc</th>\n",
              "      <th>acc_std</th>\n",
              "    </tr>\n",
              "  </thead>\n",
              "  <tbody>\n",
              "    <tr>\n",
              "      <th>14</th>\n",
              "      <td>0.776224</td>\n",
              "      <td>0.801120</td>\n",
              "      <td>0.787801</td>\n",
              "      <td>0.008567</td>\n",
              "    </tr>\n",
              "    <tr>\n",
              "      <th>2</th>\n",
              "      <td>0.773427</td>\n",
              "      <td>0.804196</td>\n",
              "      <td>0.788400</td>\n",
              "      <td>0.010324</td>\n",
              "    </tr>\n",
              "    <tr>\n",
              "      <th>4</th>\n",
              "      <td>0.772028</td>\n",
              "      <td>0.802797</td>\n",
              "      <td>0.789401</td>\n",
              "      <td>0.011202</td>\n",
              "    </tr>\n",
              "    <tr>\n",
              "      <th>7</th>\n",
              "      <td>0.773109</td>\n",
              "      <td>0.806993</td>\n",
              "      <td>0.790200</td>\n",
              "      <td>0.011622</td>\n",
              "    </tr>\n",
              "    <tr>\n",
              "      <th>5</th>\n",
              "      <td>0.770629</td>\n",
              "      <td>0.805594</td>\n",
              "      <td>0.789200</td>\n",
              "      <td>0.012142</td>\n",
              "    </tr>\n",
              "  </tbody>\n",
              "</table>\n",
              "</div>"
            ],
            "text/plain": [
              "     min_acc   max_acc  mean_acc   acc_std\n",
              "14  0.776224  0.801120  0.787801  0.008567\n",
              "2   0.773427  0.804196  0.788400  0.010324\n",
              "4   0.772028  0.802797  0.789401  0.011202\n",
              "7   0.773109  0.806993  0.790200  0.011622\n",
              "5   0.770629  0.805594  0.789200  0.012142"
            ]
          },
          "metadata": {
            "tags": []
          },
          "execution_count": 37
        }
      ]
    },
    {
      "cell_type": "code",
      "metadata": {
        "id": "LsLHUbpPmloj"
      },
      "source": [
        "idx = 4\n",
        "val_emr = lstm2_val[f'LSTM-M2-S2-C{idx}']['EMR'].to_numpy()\n",
        "test_emr = lstm2_test[f'LSTM-M2-S2-C{idx}']['EMR'].to_numpy()"
      ],
      "execution_count": null,
      "outputs": []
    },
    {
      "cell_type": "code",
      "metadata": {
        "colab": {
          "base_uri": "https://localhost:8080/",
          "height": 297
        },
        "id": "cbaklgHomlom",
        "outputId": "4bfe1c15-fe1c-4e78-b0de-112811dc778d"
      },
      "source": [
        "plotValVsTestResuts(val_emr, test_emr)"
      ],
      "execution_count": null,
      "outputs": [
        {
          "output_type": "display_data",
          "data": {
            "image/png": "[encoded data removed]",
            "text/plain": [
              "<Figure size 432x288 with 1 Axes>"
            ]
          },
          "metadata": {
            "tags": [],
            "needs_background": "light"
          }
        }
      ]
    }
  ]
}