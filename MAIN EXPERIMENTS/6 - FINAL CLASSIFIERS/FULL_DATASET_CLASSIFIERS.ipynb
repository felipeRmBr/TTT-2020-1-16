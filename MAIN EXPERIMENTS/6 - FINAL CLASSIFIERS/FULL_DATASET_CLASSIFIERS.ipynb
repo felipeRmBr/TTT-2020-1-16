{
  "nbformat": 4,
  "nbformat_minor": 0,
  "metadata": {
    "colab": {
      "name": "FULL_DATASET_CLASSIFIERS.ipynb",
      "provenance": [],
      "collapsed_sections": [
        "LniwSmIxBut7",
        "3iPKAv_BCcHb"
      ],
      "toc_visible": true
    },
    "kernelspec": {
      "display_name": "Python 3",
      "name": "python3"
    },
    "language_info": {
      "name": "python"
    },
    "accelerator": "GPU"
  },
  "cells": [
    {
      "cell_type": "markdown",
      "metadata": {
        "id": "RfekjF9mkdWy"
      },
      "source": [
        "# Ajustes iniciales"
      ]
    },
    {
      "cell_type": "markdown",
      "metadata": {
        "id": "zgdSkhxZdv0_"
      },
      "source": [
        "## Conexión a google drive"
      ]
    },
    {
      "cell_type": "code",
      "metadata": {
        "colab": {
          "base_uri": "https://localhost:8080/"
        },
        "id": "3rEA8wkz2HzN",
        "outputId": "21e9d3e7-5386-4218-c51f-35d90fdf3ae7"
      },
      "source": [
        "from google.colab import drive\n",
        "drive.mount('/content/drive')"
      ],
      "execution_count": 1,
      "outputs": [
        {
          "output_type": "stream",
          "text": [
            "Mounted at /content/drive\n"
          ],
          "name": "stdout"
        }
      ]
    },
    {
      "cell_type": "code",
      "metadata": {
        "colab": {
          "base_uri": "https://localhost:8080/"
        },
        "id": "Crq_ww9d2GNh",
        "outputId": "d309fb1f-072e-4d23-c3e6-012208920e62"
      },
      "source": [
        "%cd ./drive/MyDrive/Colab Notebooks/"
      ],
      "execution_count": 2,
      "outputs": [
        {
          "output_type": "stream",
          "text": [
            "/content/drive/MyDrive/Colab Notebooks\n"
          ],
          "name": "stdout"
        }
      ]
    },
    {
      "cell_type": "code",
      "metadata": {
        "colab": {
          "base_uri": "https://localhost:8080/",
          "height": 35
        },
        "id": "Wm9BK0WAxy_N",
        "outputId": "c2b7bde8-4d14-4475-aa83-b093c58c8965"
      },
      "source": [
        "%pwd"
      ],
      "execution_count": 3,
      "outputs": [
        {
          "output_type": "execute_result",
          "data": {
            "application/vnd.google.colaboratory.intrinsic+json": {
              "type": "string"
            },
            "text/plain": [
              "'/content/drive/MyDrive/Colab Notebooks'"
            ]
          },
          "metadata": {
            "tags": []
          },
          "execution_count": 3
        }
      ]
    },
    {
      "cell_type": "markdown",
      "metadata": {
        "id": "8fz70fVKJJ11"
      },
      "source": [
        "## Importar modulos *_utils\n"
      ]
    },
    {
      "cell_type": "code",
      "metadata": {
        "id": "Vm7v_xFpU3sr"
      },
      "source": [
        "import sys\n",
        "sys.path.append('/content/drive/My Drive/Colab Notebooks/')\n",
        "\n",
        "from my_utils import eval_utils\n",
        "from my_utils import nn_utils\n",
        "from my_utils import dataset_utils\n",
        "import numpy as np"
      ],
      "execution_count": 4,
      "outputs": []
    },
    {
      "cell_type": "markdown",
      "metadata": {
        "id": "tr4J9es5dPjH"
      },
      "source": [
        "# Local Utils"
      ]
    },
    {
      "cell_type": "markdown",
      "metadata": {
        "id": "qpkbooUiG47i"
      },
      "source": [
        "## trainFullDatasetClassifiers"
      ]
    },
    {
      "cell_type": "code",
      "metadata": {
        "id": "X6YeLg6IWdbc"
      },
      "source": [
        "import numpy as np\n",
        "import tensorflow as tf\n",
        "import pickle\n",
        "from pandas import DataFrame\n",
        "from keras.models import model_from_json\n",
        "\n",
        "\n",
        "def trainFullDatasetClassifiers(task, search_results_path, models_architecture):\n",
        "\n",
        "  ## get the search_results\n",
        "  search_results = loadSearchResults(search_results_path)\n",
        "\n",
        "  ## get the conf_ids for the top results\n",
        "  conf_ids = getConfigIds(search_results)\n",
        "\n",
        "  search_results.set_index('conf_ID', inplace=True)\n",
        "\n",
        "  ## get X_train & Y_train data\n",
        "  print('Loading train data...')\n",
        "  X_train, Y_train = getTrainData(task, models_architecture)\n",
        "  print()\n",
        "\n",
        "  ## Train the classifiers\n",
        "  for conf_id in conf_ids:  \n",
        "    config_data = search_results.loc[conf_id]\n",
        "\n",
        "    # unpack the configuration data\n",
        "    best_epoch = config_data['best_epochh']\n",
        "    median2best = config_data['median2best']\n",
        "  \n",
        "    optimizer_id = config_data['optimizer']\n",
        "    max_epochs  = config_data['max_epochs']\n",
        "    batch_size = config_data['batch_size']\n",
        "\n",
        "    ## load and compile the neural network model\n",
        "    model = loadAndCompileModel(conf_id, optimizer_id, task)\n",
        "\n",
        "    print('Training classifier for configuration ', conf_id)\n",
        "    weights_dir = f'./trained_models/{conf_id}'\n",
        "\n",
        "    acc, model_history = fitModelOnFullDataset(model, \n",
        "                                            task, \n",
        "                                            X_train, Y_train, \n",
        "                                            batch_size, \n",
        "                                            max_epochs,\n",
        "                                            save_weights=True, \n",
        "                                            weights_dir=weights_dir,\n",
        "                                            epochs2watch = [min(best_epoch,max_epochs-1), min(median2best,max_epochs-1)],\n",
        "                                            verbose=0)\n",
        "\n",
        "    print(acc, '\\n')                                            \n",
        "    \n",
        "    # save the full dataset classifier\n",
        "    with open(f'./history_files/{conf_id}-full-dataset-model.dict', 'wb') as file_handler:\n",
        "      pickle.dump([model_history], file_handler)"
      ],
      "execution_count": 5,
      "outputs": []
    },
    {
      "cell_type": "markdown",
      "metadata": {
        "id": "6VzkjAJyGqZJ"
      },
      "source": [
        "### trainClassifiers utils"
      ]
    },
    {
      "cell_type": "code",
      "metadata": {
        "id": "VrHk_--QBzCB"
      },
      "source": [
        "def getTrainData(task, architecture):\n",
        "  if architecture == 'SNN':\n",
        "    encoding_format = 'SINGLE-VEC'\n",
        "  else:\n",
        "    encoding_format = 'EMB-SEQ'\n",
        "\n",
        "  train_data, train_labels = dataset_utils.loadEncodedTrainData(embedding_type='FT3',\n",
        "                                                 encoding_format=encoding_format,\n",
        "                                                 labels_to_return=[task],\n",
        "                                                 n_folds=7)\n",
        "\n",
        "  X_train = np.concatenate([train_data[i] for i in range(7)], axis=0)\n",
        "  Y_train = train_labels[task]\n",
        "\n",
        "  return X_train, Y_train\n",
        "  \n",
        "def loadSearchResults(search_results_path):\n",
        "  with open(search_results_path, 'rb') as file_handler:\n",
        "    search_results = pickle.load(file_handler)\n",
        "\n",
        "  return search_results\n",
        "\n",
        "def getConfigIds(search_results):\n",
        "  search_results.sort_values(by='val_acc_A', ascending=False, inplace=True)\n",
        "  conf_ids = search_results.conf_ID[:5].to_list()\n",
        "  search_results.sort_values(by='val_acc_B', ascending=False, inplace=True)\n",
        "  conf_ids.extend(search_results.conf_ID[:5].to_list())\n",
        "  conf_ids = list(set(conf_ids))\n",
        "\n",
        "  return conf_ids\n",
        "\n",
        "def loadAndCompileModel(conf_id, optimizer_id, task):\n",
        "  # load json and create model\n",
        "  # we use the models savesd on search experiments\n",
        "  json_file = open(f'./models_json_files/{conf_id}.json', 'r')\n",
        "  model_config = json_file.read()\n",
        "  json_file.close()\n",
        "  model = model_from_json(model_config)\n",
        "\n",
        "  # instantiate the corresponding optimizer\n",
        "  optimizer = optimizers_list[optimizer_id]\n",
        "\n",
        "  if task=='HTA':\n",
        "      model.compile(loss=\"categorical_crossentropy\", optimizer=optimizer, metrics=[\"acc\"])\n",
        "  else:\n",
        "      model.compile(loss=\"binary_crossentropy\", optimizer=optimizer, metrics=[\"acc\"])\n",
        "\n",
        "  return model\n"
      ],
      "execution_count": 6,
      "outputs": []
    },
    {
      "cell_type": "markdown",
      "metadata": {
        "id": "G74O9fDYBhu4"
      },
      "source": [
        "### fitModelOnFullDataset()"
      ]
    },
    {
      "cell_type": "code",
      "metadata": {
        "id": "En-zorALBhu5"
      },
      "source": [
        "# **************************   fitNeuralNetworkModel()   **************************\n",
        "\n",
        "from os import path, makedirs\n",
        "from  tensorflow.keras.utils import to_categorical\n",
        "\n",
        "def fitModelOnFullDataset(model, task, X_train, Y_train, batch_size, max_epochs, \n",
        "                      save_weights=False, weights_dir='', epochs2watch=[], verbose=0):\n",
        "  \"\"\"\n",
        "  Fits a precompiled keras model to the given data. Saves weights at every apoch\n",
        "  in epochs2watch.\n",
        "\n",
        "  inputs:\n",
        "  model           - precompiled keras model\n",
        "  task            - str, ['HS','TR', 'AG', 'HTA']\n",
        "  data            - tuple, (X_train, Y_ytain)\n",
        "  batch_size      - int \n",
        "  max_epochs      - int\n",
        "  save_weights    - boolean\n",
        "  weights_dir     - str, filepath to the weights directory\n",
        "  \n",
        "  --\n",
        "  X_train         - numpy_array [shape = N_t, ENCODDING_DIM]\n",
        "  Y_train         - numpy_array [shape = N_t, 1]\n",
        "  \n",
        "  outputs:\n",
        "  max_acc         - float, max_val_acc registered in model_history (as defined in method A)\n",
        "  model_history   - dict, model.history.history\n",
        "\n",
        "  \"\"\"\n",
        "\n",
        "  # Callbacks\n",
        "  if save_weights:\n",
        "    if not path.exists(weights_dir):\n",
        "      makedirs(weights_dir)\n",
        "\n",
        "    # instantiate the custome saver callback\n",
        "    custom_saver_callback = CustomSaver(weights_dir_path=weights_dir,\n",
        "                                        epochs2watch=epochs2watch)\n",
        "    \n",
        "    callbacks_list = [custom_saver_callback]\n",
        "      \n",
        "  else:\n",
        "    callbacks_list = None\n",
        "\n",
        "  # For  the 5-classes classification we need to transform \n",
        "  # the labels to a one-hot-encoding representation\n",
        "  if task == 'HTA':\n",
        "    Y_train = to_categorical(Y_train, num_classes=5)\n",
        "\n",
        "  model.fit(x=X_train, \n",
        "            y=Y_train,\n",
        "            epochs=max_epochs,\n",
        "            batch_size=batch_size,\n",
        "            verbose=verbose,\n",
        "            callbacks=callbacks_list)\n",
        "  \n",
        "  max_acc = max(model.history.history['acc'])\n",
        "\n",
        "  return max_acc, model.history.history\n"
      ],
      "execution_count": 7,
      "outputs": []
    },
    {
      "cell_type": "markdown",
      "metadata": {
        "id": "XMrZMbG2Bhu7"
      },
      "source": [
        "### customSaver()"
      ]
    },
    {
      "cell_type": "code",
      "metadata": {
        "id": "BvzbLJkIBhu9"
      },
      "source": [
        "# **************************   CustomSaver()   **************************\n",
        "from keras.callbacks import Callback\n",
        "\n",
        "class CustomSaver(Callback):\n",
        "  \"\"\"\n",
        "  Saves the model weights at every epoch in epochs2watch.\n",
        "\n",
        "  \"\"\"\n",
        "  \n",
        "  def __init__(self, weights_dir_path, epochs2watch):\n",
        "    super(CustomSaver, self).__init__()\n",
        "    self.weights_dir=weights_dir_path\n",
        "    self.epochs2watch=epochs2watch\n",
        "\n",
        "  def on_epoch_end(self, epoch, logs=None):\n",
        "    if self.epochs2watch:\n",
        "      if epoch==self.epochs2watch[0]:\n",
        "        # This ar the weights for the method-A model\n",
        "        filename = f'global_model_A.hdf5'\n",
        "        filepath = f'{self.weights_dir}/{filename}'\n",
        "        self.model.save(filepath,overwrite=True,include_optimizer=False)\n",
        "      \n",
        "      if epoch==self.epochs2watch[1]:\n",
        "        # This are the weights for the method-B model\n",
        "        filename = f'global_model_B.hdf5'\n",
        "        filepath = f'{self.weights_dir}/{filename}'\n",
        "        self.model.save(filepath,overwrite=True,include_optimizer=False)\n",
        "    else:\n",
        "      # we ned to keep the weights for every epoch\n",
        "      filename = f'e{epoch}.hdf5'\n",
        "      filepath = f'{self.weights_dir}/{filename}'\n",
        "      self.model.save(filepath,overwrite=True,include_optimizer=False)\n",
        "\n"
      ],
      "execution_count": 8,
      "outputs": []
    },
    {
      "cell_type": "markdown",
      "metadata": {
        "id": "aC9_Fu--Bhu1"
      },
      "source": [
        "### optimizadores\n"
      ]
    },
    {
      "cell_type": "code",
      "metadata": {
        "id": "th0C0zVuBhu2"
      },
      "source": [
        "import tensorflow.keras.optimizers as keras_optimizers\n",
        "\n",
        "optimizers_list = {'adam-1e-3':keras_optimizers.Adam(learning_rate=0.001),\n",
        "              'adam-7e-4':keras_optimizers.Adam(learning_rate=0.0007),\n",
        "              'adam-5e-4':keras_optimizers.Adam(learning_rate=0.0005),\n",
        "              'adam-3e-4':keras_optimizers.Adam(learning_rate=0.0003),\n",
        "              'adam-1e-4':keras_optimizers.Adam(learning_rate=0.0001),\n",
        "              'rmsprop-1e-3':keras_optimizers.RMSprop(learning_rate=0.001, momentum=0.0),\n",
        "              'rmsprop-7e-4':keras_optimizers.RMSprop(learning_rate=0.0007, momentum=0.0),\n",
        "              'rmsprop-5e-4':keras_optimizers.RMSprop(learning_rate=0.0005, momentum=0.0),\n",
        "              'rmsprop-3e-4':keras_optimizers.RMSprop(learning_rate=0.0003, momentum=0.0),\n",
        "              'rmsprop-1e-4':keras_optimizers.RMSprop(learning_rate=0.0001, momentum=0.0),\n",
        "              'rmsprop-7.5e-5':keras_optimizers.RMSprop(learning_rate=0.000075, momentum=0.0),\n",
        "              'rmsprop-5e-5':keras_optimizers.RMSprop(learning_rate=0.00005, momentum=0.0),\n",
        "              'rmsprop-1e-3-mu0.9':keras_optimizers.RMSprop(learning_rate=0.001, momentum=0.9),\n",
        "              'rmsprop-7e-4-mu0.9':keras_optimizers.RMSprop(learning_rate=0.0007, momentum=0.9),\n",
        "              'rmsprop-5e-4-mu0.9':keras_optimizers.RMSprop(learning_rate=0.0005, momentum=0.9),\n",
        "              'rmsprop-3e-4-mu0.9':keras_optimizers.RMSprop(learning_rate=0.0003, momentum=0.9),\n",
        "              'rmsprop-1e-4-mu0.9':keras_optimizers.RMSprop(learning_rate=0.0001, momentum=0.9),\n",
        "              'rmsprop-7.5e-5-mu0.9':keras_optimizers.RMSprop(learning_rate=0.000075, momentum=0.9),\n",
        "              'rmsprop-5e-5-mu0.9':keras_optimizers.RMSprop(learning_rate=0.00005, momentum=0.9)} "
      ],
      "execution_count": 9,
      "outputs": []
    },
    {
      "cell_type": "markdown",
      "metadata": {
        "id": "D-1cXy91Aej7"
      },
      "source": [
        "# SNN "
      ]
    },
    {
      "cell_type": "markdown",
      "metadata": {
        "id": "b83Wm5NYAhGX"
      },
      "source": [
        "### HS"
      ]
    },
    {
      "cell_type": "code",
      "metadata": {
        "id": "BBXRuUMzYN6q"
      },
      "source": [
        "trainFullDatasetClassifiers('HS', \n",
        "                            search_results_path = './Results/SNN/HS/experiments_4.df',\n",
        "                            models_architecture = 'SNN')"
      ],
      "execution_count": null,
      "outputs": []
    },
    {
      "cell_type": "markdown",
      "metadata": {
        "id": "rVyccXaNApsK"
      },
      "source": [
        "### TR"
      ]
    },
    {
      "cell_type": "code",
      "metadata": {
        "colab": {
          "base_uri": "https://localhost:8080/"
        },
        "id": "zqzGKAjgAo3i",
        "outputId": "1a6189ce-ae41-46c9-a5a4-da25b5d2981a"
      },
      "source": [
        "trainFullDatasetClassifiers('TR', \n",
        "                            search_results_path = './Results/SNN/TR/experiments_4.df',\n",
        "                            models_architecture = 'SNN')"
      ],
      "execution_count": null,
      "outputs": [
        {
          "output_type": "stream",
          "text": [
            "Loading train data...\n",
            "FastText 3 - Spanish Unannotated Corpora\n",
            "Encoding Format: SINGLE-VEC\n",
            "\n",
            "Process complete\n",
            "5000 train instances retrieved\n",
            "\n",
            "encodings_dim = (300,)\n",
            "\n",
            "Training classifier for configuration  oWZBcQgF\n",
            "0.9340000152587891 \n",
            "\n",
            "Training classifier for configuration  wppcsrma\n",
            "0.9366000294685364 \n",
            "\n",
            "Training classifier for configuration  nypkmrjW\n",
            "0.9082000255584717 \n",
            "\n",
            "Training classifier for configuration  jawgqxcm\n",
            "0.9192000031471252 \n",
            "\n",
            "Training classifier for configuration  jsiehraH\n",
            "0.8876000046730042 \n",
            "\n",
            "Training classifier for configuration  BgILeXhk\n",
            "0.975600004196167 \n",
            "\n",
            "Training classifier for configuration  JVEIHntQ\n",
            "0.8960000276565552 \n",
            "\n"
          ],
          "name": "stdout"
        }
      ]
    },
    {
      "cell_type": "markdown",
      "metadata": {
        "id": "rBY_6JhLJNyl"
      },
      "source": [
        "### AG"
      ]
    },
    {
      "cell_type": "code",
      "metadata": {
        "colab": {
          "base_uri": "https://localhost:8080/"
        },
        "id": "V-S6fhwsJNzJ",
        "outputId": "fd633d4f-2d28-4d94-ac0e-f9ed2f49b9ea"
      },
      "source": [
        "trainFullDatasetClassifiers('AG', \n",
        "                            search_results_path = './Results/SNN/AG/experiments_4.df',\n",
        "                            models_architecture = 'SNN')"
      ],
      "execution_count": null,
      "outputs": [
        {
          "output_type": "stream",
          "text": [
            "Loading train data...\n",
            "FastText 3 - Spanish Unannotated Corpora\n",
            "Encoding Format: SINGLE-VEC\n",
            "\n",
            "Process complete\n",
            "5000 train instances retrieved\n",
            "\n",
            "encodings_dim = (300,)\n",
            "\n",
            "Training classifier for configuration  ZBIvVzOI\n",
            "0.9314000010490417 \n",
            "\n",
            "Training classifier for configuration  FljeuYPX\n",
            "0.9121999740600586 \n",
            "\n",
            "Training classifier for configuration  KjzkpEMA\n",
            "0.9330000281333923 \n",
            "\n",
            "Training classifier for configuration  kpsolZbm\n",
            "0.9031999707221985 \n",
            "\n",
            "Training classifier for configuration  tNmCbkjv\n",
            "0.9473999738693237 \n",
            "\n",
            "Training classifier for configuration  WSUJpwQP\n",
            "0.9002000093460083 \n",
            "\n",
            "Training classifier for configuration  yCKbOmtc\n",
            "0.9498000144958496 \n",
            "\n",
            "Training classifier for configuration  MAIRzcUI\n",
            "0.9431999921798706 \n",
            "\n",
            "Training classifier for configuration  ctvTiuoq\n",
            "0.9603999853134155 \n",
            "\n"
          ],
          "name": "stdout"
        }
      ]
    },
    {
      "cell_type": "markdown",
      "metadata": {
        "id": "PByXhpiLKd9F"
      },
      "source": [
        "### HTA"
      ]
    },
    {
      "cell_type": "code",
      "metadata": {
        "colab": {
          "base_uri": "https://localhost:8080/"
        },
        "id": "mLBAFYweKgqo",
        "outputId": "14c4d308-8c54-4154-b66a-b77bb123a87e"
      },
      "source": [
        "trainFullDatasetClassifiers('HTA', \n",
        "                            search_results_path = './Results/SNN/HTA/experiments_4f.df',\n",
        "                            models_architecture = 'SNN')"
      ],
      "execution_count": null,
      "outputs": [
        {
          "output_type": "stream",
          "text": [
            "Loading train data...\n",
            "FastText 3 - Spanish Unannotated Corpora\n",
            "Encoding Format: SINGLE-VEC\n",
            "\n",
            "Process complete\n",
            "5000 train instances retrieved\n",
            "\n",
            "encodings_dim = (300,)\n",
            "\n",
            "Training classifier for configuration  wScrhgQv\n",
            "0.8417999744415283 \n",
            "\n",
            "Training classifier for configuration  KQeFiZqG\n",
            "0.7387999892234802 \n",
            "\n",
            "Training classifier for configuration  EJYjTOAq\n",
            "0.6561999917030334 \n",
            "\n",
            "Training classifier for configuration  pCqsruJR\n",
            "0.7585999965667725 \n",
            "\n",
            "Training classifier for configuration  JzHKJxKW\n",
            "0.7544000148773193 \n",
            "\n",
            "Training classifier for configuration  gKzBjYBj\n",
            "0.7767999768257141 \n",
            "\n",
            "Training classifier for configuration  pJEUGKCU\n",
            "0.7947999835014343 \n",
            "\n",
            "Training classifier for configuration  MYHWkrFV\n",
            "0.7080000042915344 \n",
            "\n",
            "Training classifier for configuration  nVhBMnAy\n",
            "0.7188000082969666 \n",
            "\n"
          ],
          "name": "stdout"
        }
      ]
    },
    {
      "cell_type": "markdown",
      "metadata": {
        "id": "IrqJ7hAtedB8"
      },
      "source": [
        "# CNN "
      ]
    },
    {
      "cell_type": "markdown",
      "metadata": {
        "id": "oMGQRWzXedB-"
      },
      "source": [
        "### HS"
      ]
    },
    {
      "cell_type": "code",
      "metadata": {
        "colab": {
          "base_uri": "https://localhost:8080/"
        },
        "id": "i6TA8q6kedB_",
        "outputId": "28b87dd5-9191-47b0-a275-fdc4034e240d"
      },
      "source": [
        "trainFullDatasetClassifiers('HS', \n",
        "                            search_results_path = './Results/CNN/HS/experiments_6.df',\n",
        "                            models_architecture = 'CNN')"
      ],
      "execution_count": null,
      "outputs": [
        {
          "output_type": "stream",
          "text": [
            "Loading train data...\n",
            "FastText 3 - Spanish Unannotated Corpora\n",
            "Encoding Format: EMB-SEQ\n",
            "\n",
            "Process complete\n",
            "5000 train instances retrieved\n",
            "\n",
            "encodings_dim = (55, 300)\n",
            "\n",
            "Training classifier for configuration  ktGXNLsV\n",
            "0.9908000230789185 \n",
            "\n",
            "Training classifier for configuration  nFehdAwZ\n",
            "0.979200005531311 \n",
            "\n",
            "Training classifier for configuration  lPHcKwYL\n",
            "0.991599977016449 \n",
            "\n",
            "Training classifier for configuration  LjUTRRKG\n",
            "0.9941999912261963 \n",
            "\n",
            "Training classifier for configuration  DmScKBFk\n",
            "0.9768000245094299 \n",
            "\n",
            "Training classifier for configuration  eeitJyKy\n",
            "0.9911999702453613 \n",
            "\n",
            "Training classifier for configuration  jLggJPxo\n",
            "0.9861999750137329 \n",
            "\n",
            "Training classifier for configuration  MUQKiuDm\n",
            "0.925000011920929 \n",
            "\n",
            "Training classifier for configuration  zKWmVuqz\n",
            "0.9258000254631042 \n",
            "\n"
          ],
          "name": "stdout"
        }
      ]
    },
    {
      "cell_type": "markdown",
      "metadata": {
        "id": "hjbqGAeAedCA"
      },
      "source": [
        "### TR"
      ]
    },
    {
      "cell_type": "code",
      "metadata": {
        "colab": {
          "base_uri": "https://localhost:8080/"
        },
        "id": "wbRv56w8edCB",
        "outputId": "d892230d-c57c-4aa5-8759-3c7ed1979a59"
      },
      "source": [
        "trainFullDatasetClassifiers('TR', \n",
        "                            search_results_path = './Results/CNN/TR/experiments_6.df',\n",
        "                            models_architecture = 'CNN')"
      ],
      "execution_count": null,
      "outputs": [
        {
          "output_type": "stream",
          "text": [
            "Loading train data...\n",
            "FastText 3 - Spanish Unannotated Corpora\n",
            "Encoding Format: EMB-SEQ\n",
            "\n",
            "Process complete\n",
            "5000 train instances retrieved\n",
            "\n",
            "encodings_dim = (55, 300)\n",
            "\n",
            "Training classifier for configuration  XKWyJjCp\n",
            "0.8238000273704529 \n",
            "\n",
            "Training classifier for configuration  wrfidhVN\n",
            "0.9613999724388123 \n",
            "\n",
            "Training classifier for configuration  oRGmNoZx\n",
            "0.993399977684021 \n",
            "\n",
            "Training classifier for configuration  TfFFXlkd\n",
            "0.9265999794006348 \n",
            "\n",
            "Training classifier for configuration  pTXwsqCt\n",
            "0.9944000244140625 \n",
            "\n",
            "Training classifier for configuration  sWquCUHY\n",
            "0.9606000185012817 \n",
            "\n",
            "Training classifier for configuration  oziyYwlg\n",
            "0.9919999837875366 \n",
            "\n"
          ],
          "name": "stdout"
        }
      ]
    },
    {
      "cell_type": "markdown",
      "metadata": {
        "id": "70F_PgKyedCE"
      },
      "source": [
        "### AG"
      ]
    },
    {
      "cell_type": "code",
      "metadata": {
        "colab": {
          "base_uri": "https://localhost:8080/"
        },
        "id": "vsORaSnHedCF",
        "outputId": "3a950a32-e7ac-425b-f678-ecdf48a2818e"
      },
      "source": [
        "trainFullDatasetClassifiers('AG', \n",
        "                            search_results_path = './Results/CNN/AG/experiments_6.df',\n",
        "                            models_architecture = 'CNN')"
      ],
      "execution_count": null,
      "outputs": [
        {
          "output_type": "stream",
          "text": [
            "Loading train data...\n",
            "FastText 3 - Spanish Unannotated Corpora\n",
            "Encoding Format: EMB-SEQ\n",
            "\n",
            "Process complete\n",
            "5000 train instances retrieved\n",
            "\n",
            "encodings_dim = (55, 300)\n",
            "\n",
            "Training classifier for configuration  heguIhkD\n",
            "0.824999988079071 \n",
            "\n",
            "Training classifier for configuration  AafqTJRJ\n",
            "0.9945999979972839 \n",
            "\n",
            "Training classifier for configuration  lYkXiQZd\n",
            "0.993399977684021 \n",
            "\n",
            "Training classifier for configuration  lUQlOGae\n",
            "0.9887999892234802 \n",
            "\n",
            "Training classifier for configuration  YAsdTTEC\n",
            "0.9941999912261963 \n",
            "\n",
            "Training classifier for configuration  QGsgmPVe\n",
            "0.9837999939918518 \n",
            "\n",
            "Training classifier for configuration  DztMWiJK\n"
          ],
          "name": "stdout"
        }
      ]
    },
    {
      "cell_type": "markdown",
      "metadata": {
        "id": "PBOmaflfedCG"
      },
      "source": [
        "### HTA"
      ]
    },
    {
      "cell_type": "code",
      "metadata": {
        "colab": {
          "base_uri": "https://localhost:8080/"
        },
        "id": "aPCHuFyBedCH",
        "outputId": "14c4d308-8c54-4154-b66a-b77bb123a87e"
      },
      "source": [
        "trainFullDatasetClassifiers('HTA', \n",
        "                            search_results_path = './Results/SNN/HTA/experiments_4f.df',\n",
        "                            models_architecture = 'SNN')"
      ],
      "execution_count": null,
      "outputs": [
        {
          "output_type": "stream",
          "text": [
            "Loading train data...\n",
            "FastText 3 - Spanish Unannotated Corpora\n",
            "Encoding Format: SINGLE-VEC\n",
            "\n",
            "Process complete\n",
            "5000 train instances retrieved\n",
            "\n",
            "encodings_dim = (300,)\n",
            "\n",
            "Training classifier for configuration  wScrhgQv\n",
            "0.8417999744415283 \n",
            "\n",
            "Training classifier for configuration  KQeFiZqG\n",
            "0.7387999892234802 \n",
            "\n",
            "Training classifier for configuration  EJYjTOAq\n",
            "0.6561999917030334 \n",
            "\n",
            "Training classifier for configuration  pCqsruJR\n",
            "0.7585999965667725 \n",
            "\n",
            "Training classifier for configuration  JzHKJxKW\n",
            "0.7544000148773193 \n",
            "\n",
            "Training classifier for configuration  gKzBjYBj\n",
            "0.7767999768257141 \n",
            "\n",
            "Training classifier for configuration  pJEUGKCU\n",
            "0.7947999835014343 \n",
            "\n",
            "Training classifier for configuration  MYHWkrFV\n",
            "0.7080000042915344 \n",
            "\n",
            "Training classifier for configuration  nVhBMnAy\n",
            "0.7188000082969666 \n",
            "\n"
          ],
          "name": "stdout"
        }
      ]
    },
    {
      "cell_type": "markdown",
      "metadata": {
        "id": "M2LQrWwBNfH_"
      },
      "source": [
        "# BiLSTM"
      ]
    },
    {
      "cell_type": "markdown",
      "metadata": {
        "id": "VnK6t4k9NfIO"
      },
      "source": [
        "### HS"
      ]
    },
    {
      "cell_type": "code",
      "metadata": {
        "id": "6pypsGIeNfIQ"
      },
      "source": [
        "trainFullDatasetClassifiers('HS', \n",
        "                            search_results_path = './Results/CNN/HS/experiments_6.df',\n",
        "                            models_architecture = 'BiLSTM')"
      ],
      "execution_count": null,
      "outputs": []
    },
    {
      "cell_type": "markdown",
      "metadata": {
        "id": "KgbZHplXNfIZ"
      },
      "source": [
        "### AG"
      ]
    },
    {
      "cell_type": "code",
      "metadata": {
        "id": "mCKsfBXTNfIa",
        "colab": {
          "base_uri": "https://localhost:8080/"
        },
        "outputId": "c6275a1c-3733-4eca-dce1-28de703f8b76"
      },
      "source": [
        "trainFullDatasetClassifiers('AG', \n",
        "                            search_results_path = './Results/BiLSTM/AG/experiments_4f.df',\n",
        "                            models_architecture = 'BiLSTM')"
      ],
      "execution_count": 12,
      "outputs": [
        {
          "output_type": "stream",
          "text": [
            "Loading train data...\n",
            "FastText 3 - Spanish Unannotated Corpora\n",
            "Encoding Format: EMB-SEQ\n",
            "\n",
            "Process complete\n",
            "5000 train instances retrieved\n",
            "\n",
            "encodings_dim = (55, 300)\n",
            "\n",
            "Training classifier for configuration  VXXZXjPY\n",
            "0.9138000011444092 \n",
            "\n",
            "Training classifier for configuration  Afxwglds\n",
            "0.954800009727478 \n",
            "\n",
            "Training classifier for configuration  tOYuufHH\n",
            "0.9154000282287598 \n",
            "\n",
            "Training classifier for configuration  haUlGPxu\n",
            "0.9204000234603882 \n",
            "\n",
            "Training classifier for configuration  BUTpSihx\n",
            "0.9593999981880188 \n",
            "\n"
          ],
          "name": "stdout"
        }
      ]
    },
    {
      "cell_type": "markdown",
      "metadata": {
        "id": "i9cFmza8NfIV"
      },
      "source": [
        "### TR"
      ]
    },
    {
      "cell_type": "code",
      "metadata": {
        "id": "oz82TsIXNfIX",
        "colab": {
          "base_uri": "https://localhost:8080/"
        },
        "outputId": "70429371-a2ee-45e0-d49f-aa7020d56833"
      },
      "source": [
        "trainFullDatasetClassifiers('TR', \n",
        "                            search_results_path = './Results/BiLSTM/TR/experiments_4f.df',\n",
        "                            models_architecture = 'BiLSTM')"
      ],
      "execution_count": 13,
      "outputs": [
        {
          "output_type": "stream",
          "text": [
            "Loading train data...\n",
            "FastText 3 - Spanish Unannotated Corpora\n",
            "Encoding Format: EMB-SEQ\n",
            "\n",
            "Process complete\n",
            "5000 train instances retrieved\n",
            "\n",
            "encodings_dim = (55, 300)\n",
            "\n",
            "Training classifier for configuration  jEHBKuZv\n",
            "0.9476000070571899 \n",
            "\n",
            "Training classifier for configuration  oAsiDtqb\n",
            "0.9476000070571899 \n",
            "\n",
            "Training classifier for configuration  zDXbNIXN\n",
            "0.9277999997138977 \n",
            "\n",
            "Training classifier for configuration  nwPtJmRD\n",
            "0.9693999886512756 \n",
            "\n",
            "Training classifier for configuration  UceeXbhf\n",
            "0.9611999988555908 \n",
            "\n",
            "Training classifier for configuration  qmWWutWH\n",
            "0.9678000211715698 \n",
            "\n",
            "Training classifier for configuration  QXXxwbcD\n",
            "0.9376000165939331 \n",
            "\n",
            "Training classifier for configuration  qDdrGDRN\n",
            "0.9538000226020813 \n",
            "\n"
          ],
          "name": "stdout"
        }
      ]
    },
    {
      "cell_type": "markdown",
      "metadata": {
        "id": "FQNdDjNXNfIc"
      },
      "source": [
        "### HTA"
      ]
    },
    {
      "cell_type": "code",
      "metadata": {
        "id": "E6pfkQDtNfId",
        "colab": {
          "base_uri": "https://localhost:8080/"
        },
        "outputId": "716a504e-56fe-4041-98fe-889025c1f80c"
      },
      "source": [
        "trainFullDatasetClassifiers('HTA', \n",
        "                            search_results_path = './Results/BiLSTM/HTA/experiments_4f.df',\n",
        "                            models_architecture = 'BiLSTM')"
      ],
      "execution_count": 14,
      "outputs": [
        {
          "output_type": "stream",
          "text": [
            "Loading train data...\n",
            "FastText 3 - Spanish Unannotated Corpora\n",
            "Encoding Format: EMB-SEQ\n",
            "\n",
            "Process complete\n",
            "5000 train instances retrieved\n",
            "\n",
            "encodings_dim = (55, 300)\n",
            "\n",
            "Training classifier for configuration  TilpLJKw\n",
            "0.826200008392334 \n",
            "\n",
            "Training classifier for configuration  DYyuwEUQ\n",
            "0.6840000152587891 \n",
            "\n",
            "Training classifier for configuration  eWdUlyIt\n",
            "0.878000020980835 \n",
            "\n",
            "Training classifier for configuration  dxkpOxAe\n",
            "0.8199999928474426 \n",
            "\n",
            "Training classifier for configuration  VILAZqpK\n",
            "0.8047999739646912 \n",
            "\n",
            "Training classifier for configuration  DBbUMtLW\n",
            "0.7839999794960022 \n",
            "\n"
          ],
          "name": "stdout"
        }
      ]
    },
    {
      "cell_type": "markdown",
      "metadata": {
        "id": "Q81fOv1mNo-3"
      },
      "source": [
        "# ConvBiLSTM"
      ]
    },
    {
      "cell_type": "markdown",
      "metadata": {
        "id": "3yLEO_asNo-5"
      },
      "source": [
        "### HS"
      ]
    },
    {
      "cell_type": "code",
      "metadata": {
        "colab": {
          "base_uri": "https://localhost:8080/"
        },
        "id": "oeg1RSxtNo-6",
        "outputId": "28b87dd5-9191-47b0-a275-fdc4034e240d"
      },
      "source": [
        "trainFullDatasetClassifiers('HS', \n",
        "                            search_results_path = './Results/CNN/HS/experiments_6.df',\n",
        "                            models_architecture = 'CNN')"
      ],
      "execution_count": null,
      "outputs": [
        {
          "output_type": "stream",
          "text": [
            "Loading train data...\n",
            "FastText 3 - Spanish Unannotated Corpora\n",
            "Encoding Format: EMB-SEQ\n",
            "\n",
            "Process complete\n",
            "5000 train instances retrieved\n",
            "\n",
            "encodings_dim = (55, 300)\n",
            "\n",
            "Training classifier for configuration  ktGXNLsV\n",
            "0.9908000230789185 \n",
            "\n",
            "Training classifier for configuration  nFehdAwZ\n",
            "0.979200005531311 \n",
            "\n",
            "Training classifier for configuration  lPHcKwYL\n",
            "0.991599977016449 \n",
            "\n",
            "Training classifier for configuration  LjUTRRKG\n",
            "0.9941999912261963 \n",
            "\n",
            "Training classifier for configuration  DmScKBFk\n",
            "0.9768000245094299 \n",
            "\n",
            "Training classifier for configuration  eeitJyKy\n",
            "0.9911999702453613 \n",
            "\n",
            "Training classifier for configuration  jLggJPxo\n",
            "0.9861999750137329 \n",
            "\n",
            "Training classifier for configuration  MUQKiuDm\n",
            "0.925000011920929 \n",
            "\n",
            "Training classifier for configuration  zKWmVuqz\n",
            "0.9258000254631042 \n",
            "\n"
          ],
          "name": "stdout"
        }
      ]
    },
    {
      "cell_type": "markdown",
      "metadata": {
        "id": "syV0zNwVNo--"
      },
      "source": [
        "### AG"
      ]
    },
    {
      "cell_type": "code",
      "metadata": {
        "colab": {
          "base_uri": "https://localhost:8080/"
        },
        "id": "VXKfaBQgNo-_",
        "outputId": "cf7b9ecd-acd3-4ca5-be57-1155d902764d"
      },
      "source": [
        "trainFullDatasetClassifiers('AG', \n",
        "                            search_results_path = './Results/ConvLSTM/AG/experiments_5f.df',\n",
        "                            models_architecture = 'ConvLSTM')"
      ],
      "execution_count": 10,
      "outputs": [
        {
          "output_type": "stream",
          "text": [
            "Loading train data...\n",
            "FastText 3 - Spanish Unannotated Corpora\n",
            "Encoding Format: EMB-SEQ\n",
            "\n",
            "Process complete\n",
            "5000 train instances retrieved\n",
            "\n",
            "encodings_dim = (55, 300)\n",
            "\n",
            "Training classifier for configuration  KNwuXynu\n",
            "0.9556000232696533 \n",
            "\n",
            "Training classifier for configuration  PiKgmstT\n",
            "0.967199981212616 \n",
            "\n",
            "Training classifier for configuration  XGYrXoWQ\n",
            "0.9674000144004822 \n",
            "\n",
            "Training classifier for configuration  gcVkhcdU\n",
            "0.965399980545044 \n",
            "\n",
            "Training classifier for configuration  tRZxWsll\n",
            "0.9746000170707703 \n",
            "\n",
            "Training classifier for configuration  UOKoIhha\n",
            "0.9735999703407288 \n",
            "\n",
            "Training classifier for configuration  VNZvaMik\n",
            "0.9771999716758728 \n",
            "\n"
          ],
          "name": "stdout"
        }
      ]
    },
    {
      "cell_type": "markdown",
      "metadata": {
        "id": "bD4McZ83No-8"
      },
      "source": [
        "### TR"
      ]
    },
    {
      "cell_type": "code",
      "metadata": {
        "colab": {
          "base_uri": "https://localhost:8080/"
        },
        "id": "ybZj09w8No-9",
        "outputId": "63372ab0-30f7-4301-b329-3d46b69a5679"
      },
      "source": [
        "trainFullDatasetClassifiers('TR', \n",
        "                            search_results_path = './Results/ConvLSTM/TR/experiments_5f.df',\n",
        "                            models_architecture = 'ConvLSTM')"
      ],
      "execution_count": 11,
      "outputs": [
        {
          "output_type": "stream",
          "text": [
            "Loading train data...\n",
            "FastText 3 - Spanish Unannotated Corpora\n",
            "Encoding Format: EMB-SEQ\n",
            "\n",
            "Process complete\n",
            "5000 train instances retrieved\n",
            "\n",
            "encodings_dim = (55, 300)\n",
            "\n",
            "Training classifier for configuration  cEozDdue\n",
            "0.9067999720573425 \n",
            "\n",
            "Training classifier for configuration  QYWMRwAW\n",
            "0.9412000179290771 \n",
            "\n",
            "Training classifier for configuration  dSsSKnVs\n",
            "0.9297999739646912 \n",
            "\n",
            "Training classifier for configuration  NIQKIlIr\n",
            "0.9071999788284302 \n",
            "\n",
            "Training classifier for configuration  eatwzMbh\n",
            "0.9348000288009644 \n",
            "\n",
            "Training classifier for configuration  iFfHteVR\n",
            "0.9089999794960022 \n",
            "\n",
            "Training classifier for configuration  iamRRqSI\n",
            "0.9394000172615051 \n",
            "\n"
          ],
          "name": "stdout"
        }
      ]
    },
    {
      "cell_type": "markdown",
      "metadata": {
        "id": "S6vqTEm_No_A"
      },
      "source": [
        "### HTA"
      ]
    },
    {
      "cell_type": "code",
      "metadata": {
        "id": "qqlDlPqLNo_B"
      },
      "source": [
        "trainFullDatasetClassifiers('HTA', \n",
        "                            search_results_path = './Results/ConvLSTM/HTA/experiments_5f.df',\n",
        "                            models_architecture = 'ConvLSTM')"
      ],
      "execution_count": null,
      "outputs": []
    }
  ]
}