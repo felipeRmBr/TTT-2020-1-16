{
  "nbformat": 4,
  "nbformat_minor": 0,
  "metadata": {
    "colab": {
      "name": "NN_EXPERIMENTS_(TR).ipynb",
      "provenance": [],
      "collapsed_sections": [],
      "toc_visible": true
    },
    "kernelspec": {
      "display_name": "Python 3",
      "name": "python3"
    }
  },
  "cells": [
    {
      "cell_type": "markdown",
      "metadata": {
        "id": "q5EmzImyiRQR"
      },
      "source": [
        "# Setting Up"
      ]
    },
    {
      "cell_type": "markdown",
      "metadata": {
        "id": "UwqNcg7jbu2l"
      },
      "source": [
        "## Conexión a drive"
      ]
    },
    {
      "cell_type": "code",
      "metadata": {
        "colab": {
          "base_uri": "https://localhost:8080/"
        },
        "id": "9afjizYkZgZB",
        "outputId": "71138f49-b08a-4fbe-d227-5b35d3d6da82"
      },
      "source": [
        "from google.colab import drive\n",
        "drive.mount('/content/drive')"
      ],
      "execution_count": 1,
      "outputs": [
        {
          "output_type": "stream",
          "text": [
            "Mounted at /content/drive\n"
          ],
          "name": "stdout"
        }
      ]
    },
    {
      "cell_type": "code",
      "metadata": {
        "colab": {
          "base_uri": "https://localhost:8080/"
        },
        "id": "W9X3nCv_NaxP",
        "outputId": "ff678ec3-ac0a-48d5-b745-3881b96d4052"
      },
      "source": [
        "%cd ./drive/MyDrive/Colab Notebooks"
      ],
      "execution_count": 2,
      "outputs": [
        {
          "output_type": "stream",
          "text": [
            "/content/drive/MyDrive/Colab Notebooks\n"
          ],
          "name": "stdout"
        }
      ]
    },
    {
      "cell_type": "code",
      "metadata": {
        "colab": {
          "base_uri": "https://localhost:8080/",
          "height": 35
        },
        "id": "wsaLPRHpLF7T",
        "outputId": "9ddbcec7-245b-44d9-eeb7-5c599a941b93"
      },
      "source": [
        "%pwd"
      ],
      "execution_count": 3,
      "outputs": [
        {
          "output_type": "execute_result",
          "data": {
            "application/vnd.google.colaboratory.intrinsic+json": {
              "type": "string"
            },
            "text/plain": [
              "'/content/drive/MyDrive/Colab Notebooks'"
            ]
          },
          "metadata": {
            "tags": []
          },
          "execution_count": 3
        }
      ]
    },
    {
      "cell_type": "markdown",
      "metadata": {
        "id": "8fz70fVKJJ11"
      },
      "source": [
        "## Importar los módulos *_utils"
      ]
    },
    {
      "cell_type": "code",
      "metadata": {
        "id": "kpxrXFaJ4fxr"
      },
      "source": [
        "import sys\n",
        "sys.path.append('/content/drive/My Drive/Colab Notebooks/')\n",
        "from my_utils import dataset_utils\n",
        "from my_utils import eval_utils\n",
        "from my_utils import nn_utils\n",
        "from my_utils import results_utils"
      ],
      "execution_count": 4,
      "outputs": []
    },
    {
      "cell_type": "markdown",
      "metadata": {
        "id": "EEjNAeLuaMjm"
      },
      "source": [
        "# Funciones locales"
      ]
    },
    {
      "cell_type": "markdown",
      "metadata": {
        "id": "YkqdkYv1kRr7"
      },
      "source": [
        "## fcNeuralNetworkModel()"
      ]
    },
    {
      "cell_type": "code",
      "metadata": {
        "id": "qWeX7bLpkRsA"
      },
      "source": [
        "from tensorflow import keras\n",
        "from tensorflow.keras import layers\n",
        "\n",
        "def fcNeuralNetworkModel(task, params, optimizer, verbose = False):\n",
        "    \"\"\"\n",
        "    Defines and compiles a new Keras model for a Fully Connected Neural Network\n",
        "    with 1 hidden layer (a total of 3 layers) and dropout regularization.\n",
        "    The number of units per layer, the activation function, the regularization \n",
        "    rate and the are given by the params dictionary.\n",
        "\n",
        "    \"\"\"\n",
        "    VEC_EMBEDDINGS_DIM = 300\n",
        "    activation_f = params['activation']\n",
        "\n",
        "    input_vector = keras.Input(name='INPUT', shape=(VEC_EMBEDDINGS_DIM), dtype=\"float64\")\n",
        "\n",
        "    x  = layers.Dense(units=params['L1_size'], \n",
        "                              activation=activation_f, \n",
        "                              name = 'DL_1')(input_vector)\n",
        "\n",
        "    x = layers.Dropout(rate=params['p_dropout_1'], name = 'DROPOUT_1')(x)                              \n",
        "\n",
        "    x = layers.Dense(units=params['L2_size'], \n",
        "                              activation=activation_f, \n",
        "                              name = 'DL_2')(x)                          \n",
        "\n",
        "    x = layers.Dropout(rate=params['p_dropout_2'], name = 'DROPOUT_2')(x)\n",
        "\n",
        "    if task in ['HS', 'TR', 'AG']:\n",
        "      preds = layers.Dense(1, activation=\"sigmoid\", name = 'PREDICTOR')(x)\n",
        "      model = keras.Model(input_vector, preds)\n",
        "\n",
        "      model.compile(loss=\"binary_crossentropy\", optimizer=optimizer, metrics=[\"acc\"])\n",
        "\n",
        "    elif task == 'HTA':\n",
        "      preds = layers.Dense(5, activation=\"softmax\", name = 'PREDICTOR')(x)\n",
        "      preds = reshape = layers.Reshape(target_shape=(5,))(preds)\n",
        "\n",
        "      model = keras.Model(input_vector, preds)\n",
        "      model.compile(loss=\"categorical_crossentropy\", optimizer=\"rmsprop\", metrics=[\"acc\"])\n",
        "\n",
        "    if verbose:\n",
        "      model.summary()\n",
        "\n",
        "    return model"
      ],
      "execution_count": 5,
      "outputs": []
    },
    {
      "cell_type": "markdown",
      "metadata": {
        "id": "BbhAkIttjT9l"
      },
      "source": [
        "## Dataset"
      ]
    },
    {
      "cell_type": "code",
      "metadata": {
        "colab": {
          "base_uri": "https://localhost:8080/"
        },
        "id": "lzw_z-RgjT9m",
        "outputId": "3a66adb2-0b46-44c3-bd7c-97320d271294"
      },
      "source": [
        "X_train, Y_train = dataset_utils.loadEncodedTrainData(embedding_type='FT3',\n",
        "                                                 encoding_format='SINGLE-VEC',\n",
        "                                                 labels_to_return=['AG'],\n",
        "                                                 n_folds=7)"
      ],
      "execution_count": 6,
      "outputs": [
        {
          "output_type": "stream",
          "text": [
            "FastText 3 - Spanish Unannotated Corpora\n",
            "Encoding Format: SINGLE-VEC\n",
            "\n",
            "Process complete\n",
            "5000 train instances retrieved\n",
            "\n",
            "encodings_dim = (300,)\n"
          ],
          "name": "stdout"
        }
      ]
    },
    {
      "cell_type": "markdown",
      "metadata": {
        "id": "O_GjKxTdBEDQ"
      },
      "source": [
        "# EXPERIMENTOS"
      ]
    },
    {
      "cell_type": "markdown",
      "metadata": {
        "id": "1yLrSgUAjT9s"
      },
      "source": [
        "# Búsqueda número 1"
      ]
    },
    {
      "cell_type": "markdown",
      "metadata": {
        "id": "wQA8R_xXQKJL"
      },
      "source": [
        "## Espacio de búsqueda"
      ]
    },
    {
      "cell_type": "markdown",
      "metadata": {
        "id": "4xQlfIryfAFq"
      },
      "source": [
        "**Parámetros de la arquitectura**"
      ]
    },
    {
      "cell_type": "code",
      "metadata": {
        "colab": {
          "base_uri": "https://localhost:8080/"
        },
        "id": "i04H0tjFfkHU",
        "outputId": "6769ed24-b982-4518-d30c-c57efa2cb0a9"
      },
      "source": [
        "from itertools import product\n",
        "\n",
        "arch_params_dict = {\n",
        "    'L1_size': [400, 300, 200],                    \n",
        "    'L2_size': [150, 100, 75],                \n",
        "    'activation':['relu'],                                    \n",
        "    'p_dropout_1':[0.5],\n",
        "    'p_dropout_2':[0.5]                                \n",
        "}\n",
        "\n",
        "arch_params_combos = list(product( *arch_params_dict.values() ))          \n",
        "\n",
        "arch_params_combos = [params_combo for params_combo in arch_params_combos if params_combo[-2]>=params_combo[-1]]\n",
        "print('{} arch_params_combos.'.format(len(arch_params_combos)))   "
      ],
      "execution_count": null,
      "outputs": [
        {
          "output_type": "stream",
          "text": [
            "9 arch_params_combos.\n"
          ],
          "name": "stdout"
        }
      ]
    },
    {
      "cell_type": "markdown",
      "metadata": {
        "id": "yeWlUp3meJCn"
      },
      "source": [
        "**Parámetros de la arquitectura**"
      ]
    },
    {
      "cell_type": "code",
      "metadata": {
        "id": "JoLM2TFGedA2",
        "colab": {
          "base_uri": "https://localhost:8080/"
        },
        "outputId": "90a9b705-70a3-4c88-b70a-810ff6504124"
      },
      "source": [
        "trainig_params_dict = {'optimizer':['adam-1e-3', 'adam-5e-4', 'adam-1e-4', 'rmsprop-1e-3', 'rmsprop-5e-4', 'rmsprop-1e-4'],\n",
        "                       'batch_size':[256,512,1024],\n",
        "                       'max_epochs':[75]}\n",
        "                        \n",
        "\n",
        "trainig_params_combos = list(product( *trainig_params_dict.values() ))\n",
        "\n",
        "print('\\n{} trainig_params_combos.'.format(len(trainig_params_combos))) "
      ],
      "execution_count": null,
      "outputs": [
        {
          "output_type": "stream",
          "text": [
            "\n",
            "18 trainig_params_combos.\n"
          ],
          "name": "stdout"
        }
      ]
    },
    {
      "cell_type": "markdown",
      "metadata": {
        "id": "XDY_YsEJKgww"
      },
      "source": [
        "**Combinaciones (arquitectura) x (entrenamiento)**"
      ]
    },
    {
      "cell_type": "code",
      "metadata": {
        "colab": {
          "base_uri": "https://localhost:8080/"
        },
        "id": "uVx3ZpXJf3Eb",
        "outputId": "7e89e7e7-0627-4bf4-eef6-220266312cdc"
      },
      "source": [
        "search_space = list(product(arch_params_combos, trainig_params_combos))\n",
        "\n",
        "print('\\n{} params combinations in the search_space.'.format(len(search_space))) "
      ],
      "execution_count": null,
      "outputs": [
        {
          "output_type": "stream",
          "text": [
            "\n",
            "162 params combinations in the search_space.\n"
          ],
          "name": "stdout"
        }
      ]
    },
    {
      "cell_type": "markdown",
      "metadata": {
        "id": "_8PxFdeZf2F_"
      },
      "source": [
        "## Escaneo"
      ]
    },
    {
      "cell_type": "code",
      "metadata": {
        "id": "0hjDqnp9f2GB"
      },
      "source": [
        "results_df = nn_utils.spaceScanner(X_train, Y_train,\n",
        "                          'HS',\n",
        "                          fcNeuralNetworkModel, \n",
        "                          search_space[:90],\n",
        "                          arch_params_dict.keys(),\n",
        "                          trainig_params_dict.keys(),\n",
        "                          fraction2eval=1,\n",
        "                          n_folds=7,\n",
        "                          fitting_attemps=1,\n",
        "                          stop_threshold=1,\n",
        "                          partial_CV=True,\n",
        "                          backup_file='./Results/SNN/HS/experiments_1_1.df',\n",
        "                          backup_freq=25,\n",
        "                          save_history_files=True,\n",
        "                          save_models_as_json=False)"
      ],
      "execution_count": null,
      "outputs": []
    },
    {
      "cell_type": "markdown",
      "metadata": {
        "id": "KsILxmy_lRZC"
      },
      "source": [
        "## Resultados"
      ]
    },
    {
      "cell_type": "code",
      "metadata": {
        "id": "V9lIJZWThtpR"
      },
      "source": [
        "results_list = ['./Results/SNN/HS/experiments_1_1.df',\n",
        "                './Results/SNN/HS/experiments_1_2.df']\n",
        "\n",
        "results_df = results_utils.mergeDataFrames(results_list, './Results/SNN/HS/experiments_1.df') "
      ],
      "execution_count": null,
      "outputs": []
    },
    {
      "cell_type": "code",
      "metadata": {
        "id": "UIlw70TYlPZt"
      },
      "source": [
        "import pickle\n",
        "with open('./Results/SNN/HS/experiments_1.df', 'rb') as file_handler:\n",
        "  results_df = pickle.load(file_handler)"
      ],
      "execution_count": null,
      "outputs": []
    },
    {
      "cell_type": "code",
      "metadata": {
        "colab": {
          "base_uri": "https://localhost:8080/",
          "height": 256
        },
        "id": "GEGruOzVadce",
        "outputId": "3b3a2bef-7f07-4b8b-944d-1a5bbd2599ff"
      },
      "source": [
        "results_df.sort_values(by='val_acc_A', ascending=False).head()"
      ],
      "execution_count": null,
      "outputs": [
        {
          "output_type": "execute_result",
          "data": {
            "text/html": [
              "<div>\n",
              "<style scoped>\n",
              "    .dataframe tbody tr th:only-of-type {\n",
              "        vertical-align: middle;\n",
              "    }\n",
              "\n",
              "    .dataframe tbody tr th {\n",
              "        vertical-align: top;\n",
              "    }\n",
              "\n",
              "    .dataframe thead th {\n",
              "        text-align: right;\n",
              "    }\n",
              "</style>\n",
              "<table border=\"1\" class=\"dataframe\">\n",
              "  <thead>\n",
              "    <tr style=\"text-align: right;\">\n",
              "      <th></th>\n",
              "      <th>conf_ID</th>\n",
              "      <th>L1_size</th>\n",
              "      <th>L2_size</th>\n",
              "      <th>activation</th>\n",
              "      <th>p_dropout_1</th>\n",
              "      <th>p_dropout_2</th>\n",
              "      <th>optimizer</th>\n",
              "      <th>batch_size</th>\n",
              "      <th>max_epochs</th>\n",
              "      <th>best_epochh</th>\n",
              "      <th>train_acc_A</th>\n",
              "      <th>val_acc_A</th>\n",
              "      <th>min2best</th>\n",
              "      <th>max2best</th>\n",
              "      <th>train_acc_B</th>\n",
              "      <th>val_acc_B</th>\n",
              "    </tr>\n",
              "  </thead>\n",
              "  <tbody>\n",
              "    <tr>\n",
              "      <th>75</th>\n",
              "      <td>hFwTgWXg</td>\n",
              "      <td>300</td>\n",
              "      <td>100</td>\n",
              "      <td>relu</td>\n",
              "      <td>0.5</td>\n",
              "      <td>0.5</td>\n",
              "      <td>adam-5e-4</td>\n",
              "      <td>256</td>\n",
              "      <td>75</td>\n",
              "      <td>40</td>\n",
              "      <td>0.733302</td>\n",
              "      <td>0.735395</td>\n",
              "      <td>38</td>\n",
              "      <td>61</td>\n",
              "      <td>0.750976</td>\n",
              "      <td>0.744843</td>\n",
              "    </tr>\n",
              "    <tr>\n",
              "      <th>33</th>\n",
              "      <td>KxOOBcUS</td>\n",
              "      <td>400</td>\n",
              "      <td>100</td>\n",
              "      <td>relu</td>\n",
              "      <td>0.5</td>\n",
              "      <td>0.5</td>\n",
              "      <td>rmsprop-1e-4</td>\n",
              "      <td>256</td>\n",
              "      <td>75</td>\n",
              "      <td>34</td>\n",
              "      <td>0.713002</td>\n",
              "      <td>0.735388</td>\n",
              "      <td>34</td>\n",
              "      <td>42</td>\n",
              "      <td>0.723035</td>\n",
              "      <td>0.741690</td>\n",
              "    </tr>\n",
              "    <tr>\n",
              "      <th>21</th>\n",
              "      <td>LduomEJM</td>\n",
              "      <td>400</td>\n",
              "      <td>100</td>\n",
              "      <td>relu</td>\n",
              "      <td>0.5</td>\n",
              "      <td>0.5</td>\n",
              "      <td>adam-5e-4</td>\n",
              "      <td>256</td>\n",
              "      <td>75</td>\n",
              "      <td>44</td>\n",
              "      <td>0.754127</td>\n",
              "      <td>0.735041</td>\n",
              "      <td>21</td>\n",
              "      <td>53</td>\n",
              "      <td>0.712358</td>\n",
              "      <td>0.740642</td>\n",
              "    </tr>\n",
              "    <tr>\n",
              "      <th>57</th>\n",
              "      <td>aUCslGzE</td>\n",
              "      <td>300</td>\n",
              "      <td>150</td>\n",
              "      <td>relu</td>\n",
              "      <td>0.5</td>\n",
              "      <td>0.5</td>\n",
              "      <td>adam-5e-4</td>\n",
              "      <td>256</td>\n",
              "      <td>75</td>\n",
              "      <td>35</td>\n",
              "      <td>0.734877</td>\n",
              "      <td>0.733642</td>\n",
              "      <td>27</td>\n",
              "      <td>45</td>\n",
              "      <td>0.732717</td>\n",
              "      <td>0.742745</td>\n",
              "    </tr>\n",
              "    <tr>\n",
              "      <th>50</th>\n",
              "      <td>nqsYfPop</td>\n",
              "      <td>400</td>\n",
              "      <td>75</td>\n",
              "      <td>relu</td>\n",
              "      <td>0.5</td>\n",
              "      <td>0.5</td>\n",
              "      <td>rmsprop-5e-4</td>\n",
              "      <td>1024</td>\n",
              "      <td>75</td>\n",
              "      <td>55</td>\n",
              "      <td>0.689551</td>\n",
              "      <td>0.733291</td>\n",
              "      <td>55</td>\n",
              "      <td>71</td>\n",
              "      <td>0.696609</td>\n",
              "      <td>0.740994</td>\n",
              "    </tr>\n",
              "  </tbody>\n",
              "</table>\n",
              "</div>"
            ],
            "text/plain": [
              "     conf_ID  L1_size  L2_size  ... max2best  train_acc_B  val_acc_B\n",
              "75  hFwTgWXg      300      100  ...       61     0.750976   0.744843\n",
              "33  KxOOBcUS      400      100  ...       42     0.723035   0.741690\n",
              "21  LduomEJM      400      100  ...       53     0.712358   0.740642\n",
              "57  aUCslGzE      300      150  ...       45     0.732717   0.742745\n",
              "50  nqsYfPop      400       75  ...       71     0.696609   0.740994\n",
              "\n",
              "[5 rows x 16 columns]"
            ]
          },
          "metadata": {
            "tags": []
          },
          "execution_count": 7
        }
      ]
    },
    {
      "cell_type": "code",
      "metadata": {
        "id": "SWj2QbzCWSy-",
        "colab": {
          "base_uri": "https://localhost:8080/",
          "height": 850
        },
        "outputId": "e4b24238-bc00-43c7-ac10-d20528d58b08"
      },
      "source": [
        "params_dict = {'optimizer':['adam-1e-3', 'adam-5e-4', 'adam-1e-4', \n",
        "                            'rmsprop-1e-3', 'rmsprop-5e-4', 'rmsprop-1e-4']                                \n",
        "}\n",
        "\n",
        "results_utils.plotResultsByParameter1(results_df, \n",
        "                       params_dict, \n",
        "                       params2plot=['optimizer'],\n",
        "                       metric='val_acc_A')\n",
        "\n",
        "results_utils.plotResultsByParameter1(results_df, \n",
        "                       params_dict, \n",
        "                       params2plot=['optimizer'],\n",
        "                       metric='val_acc_B')"
      ],
      "execution_count": null,
      "outputs": [
        {
          "output_type": "display_data",
          "data": {
            "image/png": "[encoded data removed]",
            "text/plain": [
              "<Figure size 864x486 with 1 Axes>"
            ]
          },
          "metadata": {
            "tags": [],
            "needs_background": "light"
          }
        },
        {
          "output_type": "display_data",
          "data": {
            "image/png": "[encoded data removed]",
            "text/plain": [
              "<Figure size 864x486 with 1 Axes>"
            ]
          },
          "metadata": {
            "tags": [],
            "needs_background": "light"
          }
        }
      ]
    },
    {
      "cell_type": "code",
      "metadata": {
        "colab": {
          "base_uri": "https://localhost:8080/",
          "height": 852
        },
        "id": "WJh6n1u3iFOK",
        "outputId": "da8a80e4-eb87-4c6b-e46d-3ac806e19da8"
      },
      "source": [
        "results_utils.plotResultsByParameter1(results_df, \n",
        "                       {'batch_size':[256,512,1024]}, \n",
        "                       params2plot=['batch_size'],\n",
        "                       metric='val_acc_A')\n",
        "\n",
        "results_utils.plotResultsByParameter1(results_df, \n",
        "                       {'batch_size':[256,512,1024]}, \n",
        "                       params2plot=['batch_size'],\n",
        "                       metric='val_acc_B')"
      ],
      "execution_count": null,
      "outputs": [
        {
          "output_type": "display_data",
          "data": {
            "image/png": "[encoded data removed]",
            "text/plain": [
              "<Figure size 864x486 with 1 Axes>"
            ]
          },
          "metadata": {
            "tags": [],
            "needs_background": "light"
          }
        },
        {
          "output_type": "display_data",
          "data": {
            "image/png": "[encoded data removed]",
            "text/plain": [
              "<Figure size 864x486 with 1 Axes>"
            ]
          },
          "metadata": {
            "tags": [],
            "needs_background": "light"
          }
        }
      ]
    },
    {
      "cell_type": "markdown",
      "metadata": {
        "id": "m4L7uIxlzHO1"
      },
      "source": [
        "### Resumen de los resultados\n",
        "\n",
        "* optimizador: ['adam-1e-3','adam-5e-4'], ['adam-1e-4','rmsprop-5e-4']\n",
        "* batch_size [256,512]"
      ]
    },
    {
      "cell_type": "markdown",
      "metadata": {
        "id": "HayxShDxnGDv"
      },
      "source": [
        "# Búsqueda número 2"
      ]
    },
    {
      "cell_type": "markdown",
      "metadata": {
        "id": "kf2xQTPaIqvX"
      },
      "source": [
        "## Espacio de búsqueda"
      ]
    },
    {
      "cell_type": "markdown",
      "metadata": {
        "id": "CNaAPvVunGDz"
      },
      "source": [
        "**Parámetros de la arquitectura**"
      ]
    },
    {
      "cell_type": "code",
      "metadata": {
        "colab": {
          "base_uri": "https://localhost:8080/"
        },
        "id": "NgO9ipHxnGD0",
        "outputId": "04fe7865-67de-428e-859d-ab2755d2f971"
      },
      "source": [
        "from itertools import product\n",
        "\n",
        "arch_params_dict = {\n",
        "    'L1_size': [500, 400, 300, 200],                    \n",
        "    'L2_size': [200, 150, 100, 75],                \n",
        "    'activation':['relu'],                                    \n",
        "    'p_dropout_1':[0.25,0.5,0.75],\n",
        "    'p_dropout_2':[0.25,0.5,0.75]                                \n",
        "}\n",
        "\n",
        "arch_params_combos = list(product( *arch_params_dict.values() ))          \n",
        "\n",
        "arch_params_combos = [params_combo for params_combo in arch_params_combos if params_combo[-2]>=params_combo[-1]]\n",
        "print('{} arch_params_combos.'.format(len(arch_params_combos)))   "
      ],
      "execution_count": null,
      "outputs": [
        {
          "output_type": "stream",
          "text": [
            "96 arch_params_combos.\n"
          ],
          "name": "stdout"
        }
      ]
    },
    {
      "cell_type": "markdown",
      "metadata": {
        "id": "01T4Zl2dnGD2"
      },
      "source": [
        "**Parámetros de entrenamiento**"
      ]
    },
    {
      "cell_type": "code",
      "metadata": {
        "colab": {
          "base_uri": "https://localhost:8080/"
        },
        "id": "ze2Oq6AznGD3",
        "outputId": "763254f9-f01a-4486-fcf5-c11f75ee02d6"
      },
      "source": [
        "trainig_params = {'optimizer':['adam-5e-4', 'rmsprop-5e-4'],\n",
        "                    'batch_size':[256],\n",
        "                    'max_epochs':[75]}\n",
        "                        \n",
        "trainig_params_combos = list(product( *trainig_params.values() ))\n",
        "\n",
        "print('\\n{} trainig_params_combos.'.format(len(trainig_params_combos)))"
      ],
      "execution_count": null,
      "outputs": [
        {
          "output_type": "stream",
          "text": [
            "\n",
            "2 trainig_params_combos.\n"
          ],
          "name": "stdout"
        }
      ]
    },
    {
      "cell_type": "code",
      "metadata": {
        "colab": {
          "base_uri": "https://localhost:8080/"
        },
        "id": "P_H2WrWlnGD4",
        "outputId": "8affb326-0181-465b-85d1-99df85a4179f"
      },
      "source": [
        "search_space = list(product(arch_params_combos, trainig_params_combos))\n",
        "\n",
        "print('\\n{} params combinations in the search_space.'.format(len(search_space))) "
      ],
      "execution_count": null,
      "outputs": [
        {
          "output_type": "stream",
          "text": [
            "\n",
            "192 params combinations in the search_space.\n"
          ],
          "name": "stdout"
        }
      ]
    },
    {
      "cell_type": "markdown",
      "metadata": {
        "id": "gnP9zHSGnGD5"
      },
      "source": [
        "## Escaneo"
      ]
    },
    {
      "cell_type": "code",
      "metadata": {
        "id": "3n6l9Ao1nGD6",
        "colab": {
          "base_uri": "https://localhost:8080/"
        },
        "outputId": "38133114-7ec9-4794-d559-3a4add534139"
      },
      "source": [
        "results_df = nn_utils.spaceScanner(X_train, Y_train,\n",
        "                          'HS',\n",
        "                          fcNeuralNetworkModel, \n",
        "                          search_space[:95],\n",
        "                          arch_params_dict.keys(),\n",
        "                          trainig_params_dict.keys(),\n",
        "                          fraction2eval=1,\n",
        "                          n_folds=7,\n",
        "                          fitting_attemps=1,\n",
        "                          stop_threshold=1,\n",
        "                          partial_CV=True,\n",
        "                          backup_file='./Results/SNN/HS/experiments_2_1.df',\n",
        "                          backup_freq=25,\n",
        "                          save_history_files=True,\n",
        "                          save_models_as_json=False)"
      ],
      "execution_count": null,
      "outputs": [
        {
          "output_type": "stream",
          "text": [
            "BackupFile: ./Results/SNN/HS/experiments_2_1.df\n",
            "SCANNING SEARCH SPACE\n",
            "\n",
            "95 configurations will be evaluated.\n",
            "1  - conf_ID: LKpHtNgX   ****  --  train_acc_A = 0.743,  val_acc_A = 0.774    --  train_acc_B = 0.764,  val_acc_B = 0.78    \n",
            "2  - conf_ID: QzhXotYH   ****  --  train_acc_A = 0.794,  val_acc_A = 0.77     --  train_acc_B = 0.814,  val_acc_B = 0.782   \n",
            "3  - conf_ID: oDhegpbw   ****  --  train_acc_A = 0.781,  val_acc_A = 0.778    --  train_acc_B = 0.797,  val_acc_B = 0.785   \n",
            "4  - conf_ID: tyTJhjTv   ****  --  train_acc_A = 0.781,  val_acc_A = 0.772    --  train_acc_B = 0.778,  val_acc_B = 0.783   \n",
            "5  - conf_ID: nRbgIPBY   ****  --  train_acc_A = 0.786,  val_acc_A = 0.774    --  train_acc_B = 0.778,  val_acc_B = 0.783   \n",
            "6  - conf_ID: uxJKEzMl   ****  --  train_acc_A = 0.718,  val_acc_A = 0.767    --  train_acc_B = 0.77,   val_acc_B = 0.783   \n",
            "7  - conf_ID: IninOArN   ****  --  train_acc_A = 0.755,  val_acc_A = 0.77     --  train_acc_B = 0.735,  val_acc_B = 0.778   \n",
            "8  - conf_ID: DYMyfTRX   ****  --  train_acc_A = 0.841,  val_acc_A = 0.774    --  train_acc_B = 0.811,  val_acc_B = 0.786   \n",
            "9  - conf_ID: zAeNIPnX   ****  --  train_acc_A = 0.751,  val_acc_A = 0.772    --  train_acc_B = 0.74,   val_acc_B = 0.782   \n",
            "10 - conf_ID: XAJzZqyz   ****  --  train_acc_A = 0.816,  val_acc_A = 0.777    --  train_acc_B = 0.777,  val_acc_B = 0.789   \n",
            "11 - conf_ID: fkvxicfD   ****  --  train_acc_A = 0.722,  val_acc_A = 0.765    --  train_acc_B = 0.722,  val_acc_B = 0.777   \n",
            "12 - conf_ID: JWGdZkpp   ****  --  train_acc_A = 0.813,  val_acc_A = 0.782    --  train_acc_B = 0.771,  val_acc_B = 0.788   \n",
            "13 - conf_ID: MiChoHng   ****  --  train_acc_A = 0.772,  val_acc_A = 0.771    --  train_acc_B = 0.768,  val_acc_B = 0.778   \n",
            "14 - conf_ID: vfaMVpIp   ****  --  train_acc_A = 0.818,  val_acc_A = 0.768    --  train_acc_B = 0.775,  val_acc_B = 0.781   \n",
            "15 - conf_ID: PfNIZhGo   ****  --  train_acc_A = 0.756,  val_acc_A = 0.783    --  train_acc_B = 0.773,  val_acc_B = 0.791   \n",
            "16 - conf_ID: ZHGTHNZc   ****  --  train_acc_A = 0.792,  val_acc_A = 0.779    --  train_acc_B = 0.772,  val_acc_B = 0.785   \n",
            "17 - conf_ID: IHuwVnYS   ****  --  train_acc_A = 0.778,  val_acc_A = 0.779    --  train_acc_B = 0.77,   val_acc_B = 0.787   \n",
            "18 - conf_ID: hXlQwNOD   ****  --  train_acc_A = 0.773,  val_acc_A = 0.777    --  train_acc_B = 0.749,  val_acc_B = 0.792   \n",
            "19 - conf_ID: zSvPIGAf   ****  --  train_acc_A = 0.765,  val_acc_A = 0.775    --  train_acc_B = 0.745,  val_acc_B = 0.785   \n",
            "20 - conf_ID: BGAeAlZc   ****  --  train_acc_A = 0.805,  val_acc_A = 0.779    --  train_acc_B = 0.756,  val_acc_B = 0.788   \n",
            "21 - conf_ID: GYEOcYzc   ****  --  train_acc_A = 0.735,  val_acc_A = 0.778    --  train_acc_B = 0.736,  val_acc_B = 0.785   \n",
            "22 - conf_ID: FDgBVQYv   ****  --  train_acc_A = 0.782,  val_acc_A = 0.775    --  train_acc_B = 0.78,   val_acc_B = 0.79    \n",
            "23 - conf_ID: eoHBnaOn   ****  --  train_acc_A = 0.728,  val_acc_A = 0.764    --  train_acc_B = 0.725,  val_acc_B = 0.77    \n",
            "24 - conf_ID: dbZOrhWf   ****  --  train_acc_A = 0.757,  val_acc_A = 0.777    --  train_acc_B = 0.759,  val_acc_B = 0.785   \n",
            "25 - conf_ID: yYnqlqjg   ****  --  train_acc_A = 0.771,  val_acc_A = 0.779    --  train_acc_B = 0.773,  val_acc_B = 0.783   \n",
            "26 - conf_ID: aQrYBbsz   ****  --  train_acc_A = 0.813,  val_acc_A = 0.777    --  train_acc_B = 0.811,  val_acc_B = 0.791   \n",
            "27 - conf_ID: umHwizxg   ****  --  train_acc_A = 0.774,  val_acc_A = 0.78     --  train_acc_B = 0.77,   val_acc_B = 0.79    \n",
            "28 - conf_ID: dTTSlUFu   ****  --  train_acc_A = 0.773,  val_acc_A = 0.764    --  train_acc_B = 0.8,    val_acc_B = 0.776   \n",
            "29 - conf_ID: dabOhRaT   ****  --  train_acc_A = 0.759,  val_acc_A = 0.775    --  train_acc_B = 0.822,  val_acc_B = 0.783   \n",
            "30 - conf_ID: UDQOgCzX   ****  --  train_acc_A = 0.761,  val_acc_A = 0.781    --  train_acc_B = 0.757,  val_acc_B = 0.788   \n",
            "31 - conf_ID: mgChgjFb   ****  --  train_acc_A = 0.753,  val_acc_A = 0.78     --  train_acc_B = 0.75,   val_acc_B = 0.785   \n",
            "32 - conf_ID: EocdoJcj   ****  --  train_acc_A = 0.811,  val_acc_A = 0.781    --  train_acc_B = 0.783,  val_acc_B = 0.791   \n",
            "33 - conf_ID: cgRkkWRE   ****  --  train_acc_A = 0.759,  val_acc_A = 0.782    --  train_acc_B = 0.752,  val_acc_B = 0.788   \n",
            "34 - conf_ID: BoGKTbhg   ****  --  train_acc_A = 0.764,  val_acc_A = 0.786    --  train_acc_B = 0.759,  val_acc_B = 0.792   \n",
            "35 - conf_ID: FExSJtEp   ****  --  train_acc_A = 0.726,  val_acc_A = 0.767    --  train_acc_B = 0.715,  val_acc_B = 0.776   \n",
            "36 - conf_ID: YXHUXNQs   ****  --  train_acc_A = 0.772,  val_acc_A = 0.785    --  train_acc_B = 0.768,  val_acc_B = 0.793   \n",
            "37 - conf_ID: mgJFiDhk   ****  --  train_acc_A = 0.787,  val_acc_A = 0.784    --  train_acc_B = 0.769,  val_acc_B = 0.79    \n",
            "38 - conf_ID: eoLaQhVu   ****  --  train_acc_A = 0.775,  val_acc_A = 0.769    --  train_acc_B = 0.808,  val_acc_B = 0.783   \n",
            "39 - conf_ID: lvNTkAkd   ****  --  train_acc_A = 0.794,  val_acc_A = 0.779    --  train_acc_B = 0.748,  val_acc_B = 0.789   \n",
            "40 - conf_ID: mwsYtsnZ   ****  --  train_acc_A = 0.787,  val_acc_A = 0.775    --  train_acc_B = 0.78,   val_acc_B = 0.784   \n",
            "41 - conf_ID: lXJIhZVL   ****  --  train_acc_A = 0.764,  val_acc_A = 0.784    --  train_acc_B = 0.773,  val_acc_B = 0.788   \n",
            "42 - conf_ID: yERoqQzi   ****  --  train_acc_A = 0.764,  val_acc_A = 0.778    --  train_acc_B = 0.758,  val_acc_B = 0.79    \n",
            "43 - conf_ID: zMkaIiZr   ****  --  train_acc_A = 0.771,  val_acc_A = 0.777    --  train_acc_B = 0.757,  val_acc_B = 0.783   \n",
            "44 - conf_ID: XKDhWzMb   ****  --  train_acc_A = 0.765,  val_acc_A = 0.776    --  train_acc_B = 0.765,  val_acc_B = 0.788   \n",
            "45 - conf_ID: hqhQViKz   ****  --  train_acc_A = 0.757,  val_acc_A = 0.774    --  train_acc_B = 0.735,  val_acc_B = 0.782   \n",
            "46 - conf_ID: RFarGrgb   ****  --  train_acc_A = 0.761,  val_acc_A = 0.783    --  train_acc_B = 0.771,  val_acc_B = 0.79    \n",
            "47 - conf_ID: SuqRiILd   ****  --  train_acc_A = 0.689,  val_acc_A = 0.748    --  train_acc_B = 0.697,  val_acc_B = 0.755   \n",
            "48 - conf_ID: UhgmUYxx   ****  --  train_acc_A = 0.752,  val_acc_A = 0.776    --  train_acc_B = 0.732,  val_acc_B = 0.783   \n",
            "49 - conf_ID: CjRJoTub   ****  --  train_acc_A = 0.782,  val_acc_A = 0.775    --  train_acc_B = 0.763,  val_acc_B = 0.779   \n",
            "50 - conf_ID: CZJakJYY   ****  --  train_acc_A = 0.786,  val_acc_A = 0.775    --  train_acc_B = 0.805,  val_acc_B = 0.788   \n",
            "51 - conf_ID: ZGequwFt   ****  --  train_acc_A = 0.77,   val_acc_A = 0.776    --  train_acc_B = 0.77,   val_acc_B = 0.786   \n",
            "52 - conf_ID: noFzbXlf   ****  --  train_acc_A = 0.806,  val_acc_A = 0.775    --  train_acc_B = 0.759,  val_acc_B = 0.783   \n",
            "53 - conf_ID: utxYtGtK   ****  --  train_acc_A = 0.771,  val_acc_A = 0.778    --  train_acc_B = 0.803,  val_acc_B = 0.781   \n",
            "54 - conf_ID: YviawqZI   ****  --  train_acc_A = 0.793,  val_acc_A = 0.775    --  train_acc_B = 0.815,  val_acc_B = 0.785   \n",
            "55 - conf_ID: WdDYCufT   ****  --  train_acc_A = 0.729,  val_acc_A = 0.765    --  train_acc_B = 0.743,  val_acc_B = 0.774   \n",
            "56 - conf_ID: WjssuOYP   ****  --  train_acc_A = 0.81,   val_acc_A = 0.771    --  train_acc_B = 0.8,    val_acc_B = 0.782   \n",
            "57 - conf_ID: JKNgsxTt   ****  --  train_acc_A = 0.739,  val_acc_A = 0.77     --  train_acc_B = 0.731,  val_acc_B = 0.776   \n",
            "58 - conf_ID: ToXNARRC   ****  --  train_acc_A = 0.788,  val_acc_A = 0.77     --  train_acc_B = 0.774,  val_acc_B = 0.784   \n",
            "59 - conf_ID: tiGbeiXm   ****  --  train_acc_A = 0.704,  val_acc_A = 0.757    --  train_acc_B = 0.703,  val_acc_B = 0.768   \n",
            "60 - conf_ID: NSLGVRkn   ****  --  train_acc_A = 0.798,  val_acc_A = 0.778    --  train_acc_B = 0.78,   val_acc_B = 0.785   \n",
            "61 - conf_ID: IueLcFjs   ****  --  train_acc_A = 0.829,  val_acc_A = 0.776    --  train_acc_B = 0.775,  val_acc_B = 0.791   \n",
            "62 - conf_ID: GenTTOFC   ****  --  train_acc_A = 0.794,  val_acc_A = 0.776    --  train_acc_B = 0.79,   val_acc_B = 0.779   \n",
            "63 - conf_ID: wawszbzq   ****  --  train_acc_A = 0.766,  val_acc_A = 0.776    --  train_acc_B = 0.78,   val_acc_B = 0.786   \n",
            "64 - conf_ID: RfXRwGGc   ****  --  train_acc_A = 0.789,  val_acc_A = 0.775    --  train_acc_B = 0.785,  val_acc_B = 0.785   \n",
            "65 - conf_ID: dCDdxEmI   ****  --  train_acc_A = 0.786,  val_acc_A = 0.784    --  train_acc_B = 0.788,  val_acc_B = 0.791   \n",
            "66 - conf_ID: nPUrmult   ****  --  train_acc_A = 0.788,  val_acc_A = 0.775    --  train_acc_B = 0.77,   val_acc_B = 0.782   \n",
            "67 - conf_ID: FXftLDIw   ****  --  train_acc_A = 0.747,  val_acc_A = 0.775    --  train_acc_B = 0.738,  val_acc_B = 0.782   \n",
            "68 - conf_ID: FWHXAUtO   ****  --  train_acc_A = 0.797,  val_acc_A = 0.778    --  train_acc_B = 0.804,  val_acc_B = 0.785   \n",
            "69 - conf_ID: nBDLRkhP   ****  --  train_acc_A = 0.726,  val_acc_A = 0.775    --  train_acc_B = 0.728,  val_acc_B = 0.779   \n",
            "70 - conf_ID: kWnfHowZ   ****  --  train_acc_A = 0.78,   val_acc_A = 0.777    --  train_acc_B = 0.781,  val_acc_B = 0.787   \n",
            "71 - conf_ID: stGYwfST   ****  --  train_acc_A = 0.709,  val_acc_A = 0.758    --  train_acc_B = 0.702,  val_acc_B = 0.762   \n",
            "72 - conf_ID: bXUOLYwP   ****  --  train_acc_A = 0.744,  val_acc_A = 0.775    --  train_acc_B = 0.78,   val_acc_B = 0.786   \n",
            "73 - conf_ID: FqXLcTEF   ****  --  train_acc_A = 0.753,  val_acc_A = 0.786    --  train_acc_B = 0.745,  val_acc_B = 0.792   \n",
            "74 - conf_ID: EGproUYA   ****  --  train_acc_A = 0.757,  val_acc_A = 0.778    --  train_acc_B = 0.774,  val_acc_B = 0.787   \n",
            "75 - conf_ID: sZqHkguF   ****  --  train_acc_A = 0.768,  val_acc_A = 0.782    --  train_acc_B = 0.766,  val_acc_B = 0.792   \n",
            "76 - conf_ID: PYjASRTS   ****  --  train_acc_A = 0.782,  val_acc_A = 0.772    --  train_acc_B = 0.816,  val_acc_B = 0.789   \n",
            "77 - conf_ID: bWtyivRD   ****  --  train_acc_A = 0.768,  val_acc_A = 0.78     --  train_acc_B = 0.747,  val_acc_B = 0.788   \n",
            "78 - conf_ID: HAmpvfzB   ****  --  train_acc_A = 0.748,  val_acc_A = 0.778    --  train_acc_B = 0.765,  val_acc_B = 0.782   \n",
            "79 - conf_ID: JBGKCGsb   ****  --  train_acc_A = 0.755,  val_acc_A = 0.771    --  train_acc_B = 0.745,  val_acc_B = 0.781   \n",
            "80 - conf_ID: RFjUYIEP   ****  --  train_acc_A = 0.823,  val_acc_A = 0.777    --  train_acc_B = 0.781,  val_acc_B = 0.787   \n",
            "81 - conf_ID: ciROypfa   ****  --  train_acc_A = 0.751,  val_acc_A = 0.774    --  train_acc_B = 0.736,  val_acc_B = 0.779   \n",
            "82 - conf_ID: pHlzkUWZ   ****  --  train_acc_A = 0.786,  val_acc_A = 0.779    --  train_acc_B = 0.769,  val_acc_B = 0.788   \n",
            "83 - conf_ID: CpMPVIrO   ****  --  train_acc_A = 0.716,  val_acc_A = 0.762    --  train_acc_B = 0.713,  val_acc_B = 0.766   \n",
            "84 - conf_ID: dUtVOexv   ****  --  train_acc_A = 0.756,  val_acc_A = 0.776    --  train_acc_B = 0.751,  val_acc_B = 0.784   \n",
            "85 - conf_ID: AGiDRwGr   ****  --  train_acc_A = 0.776,  val_acc_A = 0.781    --  train_acc_B = 0.765,  val_acc_B = 0.788   \n",
            "86 - conf_ID: yrJYgqNq   ****  --  train_acc_A = 0.819,  val_acc_A = 0.779    --  train_acc_B = 0.787,  val_acc_B = 0.788   \n",
            "87 - conf_ID: dxOjURBj   ****  --  train_acc_A = 0.758,  val_acc_A = 0.776    --  train_acc_B = 0.768,  val_acc_B = 0.784   \n",
            "88 - conf_ID: ugyNHJHq   ****  --  train_acc_A = 0.77,   val_acc_A = 0.774    --  train_acc_B = 0.784,  val_acc_B = 0.781   \n",
            "89 - conf_ID: DHOdpFLr   ****  --  train_acc_A = 0.741,  val_acc_A = 0.78     --  train_acc_B = 0.745,  val_acc_B = 0.785   \n",
            "90 - conf_ID: WhhsLXLm   ****  --  train_acc_A = 0.806,  val_acc_A = 0.777    --  train_acc_B = 0.768,  val_acc_B = 0.786   \n",
            "91 - conf_ID: FvHIClEp   ****  --  train_acc_A = 0.758,  val_acc_A = 0.769    --  train_acc_B = 0.735,  val_acc_B = 0.779   \n",
            "92 - conf_ID: XJDjJCXD   ****  --  train_acc_A = 0.808,  val_acc_A = 0.777    --  train_acc_B = 0.765,  val_acc_B = 0.788   \n",
            "93 - conf_ID: zpwnMkrg   ****  --  train_acc_A = 0.732,  val_acc_A = 0.768    --  train_acc_B = 0.734,  val_acc_B = 0.78    \n",
            "94 - conf_ID: BflrJwXT   ****  --  train_acc_A = 0.774,  val_acc_A = 0.78     --  train_acc_B = 0.774,  val_acc_B = 0.783   \n",
            "95 - conf_ID: IEDFNtTb   ****  --  train_acc_A = 0.703,  val_acc_A = 0.767    --  train_acc_B = 0.705,  val_acc_B = 0.774   \n",
            "\n",
            "DONE. 95 CONFIGURATIONS WERE SUCCESFULLY EVALUATED.\n"
          ],
          "name": "stdout"
        }
      ]
    },
    {
      "cell_type": "code",
      "metadata": {
        "colab": {
          "base_uri": "https://localhost:8080/",
          "height": 222
        },
        "id": "PFjK1XegnGD7",
        "outputId": "f3735ffa-3235-4eca-f7bd-ef83d3826ae1"
      },
      "source": [
        "results_df.sort_values(by='val_acc_A', ascending=False).head(5)"
      ],
      "execution_count": null,
      "outputs": [
        {
          "output_type": "execute_result",
          "data": {
            "text/html": [
              "<div>\n",
              "<style scoped>\n",
              "    .dataframe tbody tr th:only-of-type {\n",
              "        vertical-align: middle;\n",
              "    }\n",
              "\n",
              "    .dataframe tbody tr th {\n",
              "        vertical-align: top;\n",
              "    }\n",
              "\n",
              "    .dataframe thead th {\n",
              "        text-align: right;\n",
              "    }\n",
              "</style>\n",
              "<table border=\"1\" class=\"dataframe\">\n",
              "  <thead>\n",
              "    <tr style=\"text-align: right;\">\n",
              "      <th></th>\n",
              "      <th>conf_ID</th>\n",
              "      <th>L1_size</th>\n",
              "      <th>L2_size</th>\n",
              "      <th>activation</th>\n",
              "      <th>p_dropout_1</th>\n",
              "      <th>p_dropout_2</th>\n",
              "      <th>optimizer</th>\n",
              "      <th>batch_size</th>\n",
              "      <th>max_epochs</th>\n",
              "      <th>best_epochh</th>\n",
              "      <th>train_acc_A</th>\n",
              "      <th>val_acc_A</th>\n",
              "      <th>min2best</th>\n",
              "      <th>max2best</th>\n",
              "      <th>train_acc_B</th>\n",
              "      <th>val_acc_B</th>\n",
              "    </tr>\n",
              "  </thead>\n",
              "  <tbody>\n",
              "    <tr>\n",
              "      <th>90</th>\n",
              "      <td>vBuAbLvC</td>\n",
              "      <td>400</td>\n",
              "      <td>75</td>\n",
              "      <td>relu</td>\n",
              "      <td>0.75</td>\n",
              "      <td>0.25</td>\n",
              "      <td>adam-5e-4</td>\n",
              "      <td>256</td>\n",
              "      <td>75</td>\n",
              "      <td>65</td>\n",
              "      <td>0.725952</td>\n",
              "      <td>0.738539</td>\n",
              "      <td>58</td>\n",
              "      <td>70</td>\n",
              "      <td>0.726885</td>\n",
              "      <td>0.742040</td>\n",
              "    </tr>\n",
              "    <tr>\n",
              "      <th>86</th>\n",
              "      <td>stzSDXGW</td>\n",
              "      <td>400</td>\n",
              "      <td>75</td>\n",
              "      <td>relu</td>\n",
              "      <td>0.50</td>\n",
              "      <td>0.25</td>\n",
              "      <td>adam-5e-4</td>\n",
              "      <td>256</td>\n",
              "      <td>75</td>\n",
              "      <td>33</td>\n",
              "      <td>0.726536</td>\n",
              "      <td>0.738190</td>\n",
              "      <td>24</td>\n",
              "      <td>61</td>\n",
              "      <td>0.742226</td>\n",
              "      <td>0.740291</td>\n",
              "    </tr>\n",
              "    <tr>\n",
              "      <th>26</th>\n",
              "      <td>jHuCrbhB</td>\n",
              "      <td>500</td>\n",
              "      <td>100</td>\n",
              "      <td>relu</td>\n",
              "      <td>0.50</td>\n",
              "      <td>0.25</td>\n",
              "      <td>adam-5e-4</td>\n",
              "      <td>256</td>\n",
              "      <td>75</td>\n",
              "      <td>25</td>\n",
              "      <td>0.703552</td>\n",
              "      <td>0.733992</td>\n",
              "      <td>12</td>\n",
              "      <td>54</td>\n",
              "      <td>0.728164</td>\n",
              "      <td>0.743442</td>\n",
              "    </tr>\n",
              "    <tr>\n",
              "      <th>137</th>\n",
              "      <td>iJdkgsov</td>\n",
              "      <td>300</td>\n",
              "      <td>75</td>\n",
              "      <td>relu</td>\n",
              "      <td>0.50</td>\n",
              "      <td>0.50</td>\n",
              "      <td>adam-5e-4</td>\n",
              "      <td>512</td>\n",
              "      <td>75</td>\n",
              "      <td>72</td>\n",
              "      <td>0.775186</td>\n",
              "      <td>0.733292</td>\n",
              "      <td>50</td>\n",
              "      <td>64</td>\n",
              "      <td>0.734118</td>\n",
              "      <td>0.742041</td>\n",
              "    </tr>\n",
              "    <tr>\n",
              "      <th>29</th>\n",
              "      <td>LGxgjEhS</td>\n",
              "      <td>500</td>\n",
              "      <td>100</td>\n",
              "      <td>relu</td>\n",
              "      <td>0.50</td>\n",
              "      <td>0.50</td>\n",
              "      <td>adam-5e-4</td>\n",
              "      <td>512</td>\n",
              "      <td>75</td>\n",
              "      <td>45</td>\n",
              "      <td>0.724435</td>\n",
              "      <td>0.733289</td>\n",
              "      <td>32</td>\n",
              "      <td>68</td>\n",
              "      <td>0.737910</td>\n",
              "      <td>0.743793</td>\n",
              "    </tr>\n",
              "  </tbody>\n",
              "</table>\n",
              "</div>"
            ],
            "text/plain": [
              "      conf_ID  L1_size  L2_size  ... max2best  train_acc_B  val_acc_B\n",
              "90   vBuAbLvC      400       75  ...       70     0.726885   0.742040\n",
              "86   stzSDXGW      400       75  ...       61     0.742226   0.740291\n",
              "26   jHuCrbhB      500      100  ...       54     0.728164   0.743442\n",
              "137  iJdkgsov      300       75  ...       64     0.734118   0.742041\n",
              "29   LGxgjEhS      500      100  ...       68     0.737910   0.743793\n",
              "\n",
              "[5 rows x 16 columns]"
            ]
          },
          "metadata": {
            "tags": []
          },
          "execution_count": 13
        }
      ]
    },
    {
      "cell_type": "markdown",
      "metadata": {
        "id": "n1bNpXz1uQ1M"
      },
      "source": [
        "## Resultados"
      ]
    },
    {
      "cell_type": "code",
      "metadata": {
        "id": "1L4MvAfeuQ2M"
      },
      "source": [
        "results_list = ['./Results/SNN/HS/experiments_2_1.df',\n",
        "                './Results/SNN/HS/experiments_2_2.df']\n",
        "\n",
        "results_df = results_utils.mergeDataFrames(results_list, './Results/SNN/HS/experiments_2.df') "
      ],
      "execution_count": null,
      "outputs": []
    },
    {
      "cell_type": "code",
      "metadata": {
        "id": "BZME5aCWnGEA"
      },
      "source": [
        "import pickle\n",
        "with open('./Results/SNN/HS/experiments_2.df', 'rb') as file_handler:\n",
        "  results_df = pickle.load(file_handler)"
      ],
      "execution_count": null,
      "outputs": []
    },
    {
      "cell_type": "code",
      "metadata": {
        "id": "4LkeKOy1nGEB"
      },
      "source": [
        "params_dict = {\n",
        "    'L1_size': [500, 400, 300, 200],                    \n",
        "    'L2_size': [200, 150, 100, 75],                \n",
        "    'activation':['relu'],                                    \n",
        "    'p_dropout_1':[0.25,0.5,0.75],\n",
        "    'p_dropout_2':[0.25,0.5,0.75]                                \n",
        "}"
      ],
      "execution_count": null,
      "outputs": []
    },
    {
      "cell_type": "markdown",
      "metadata": {
        "id": "QXoib2tEI8bt"
      },
      "source": [
        "**Resultados por parámetro**"
      ]
    },
    {
      "cell_type": "code",
      "metadata": {
        "colab": {
          "base_uri": "https://localhost:8080/",
          "height": 941
        },
        "id": "0YLTsqQlnGEC",
        "outputId": "4fb28abd-4d46-49e5-ab79-082a6ce5961b"
      },
      "source": [
        "results_utils.plotResultsByParameter1(results_df, \n",
        "                       params_dict, \n",
        "                       params2plot=['L1_size'],\n",
        "                       metric='val_acc_A')\n",
        "\n",
        "results_utils.plotResultsByParameter1(results_df, \n",
        "                       params_dict, \n",
        "                       params2plot=['L1_size'],\n",
        "                       metric='val_acc_B')"
      ],
      "execution_count": null,
      "outputs": [
        {
          "output_type": "stream",
          "text": [
            "/usr/local/lib/python3.7/dist-packages/numpy/core/_asarray.py:83: VisibleDeprecationWarning: Creating an ndarray from ragged nested sequences (which is a list-or-tuple of lists-or-tuples-or ndarrays with different lengths or shapes) is deprecated. If you meant to do this, you must specify 'dtype=object' when creating the ndarray\n",
            "  return array(a, dtype, copy=False, order=order)\n"
          ],
          "name": "stderr"
        },
        {
          "output_type": "display_data",
          "data": {
            "image/png": "[encoded data removed]",
            "text/plain": [
              "<Figure size 864x486 with 1 Axes>"
            ]
          },
          "metadata": {
            "tags": [],
            "needs_background": "light"
          }
        },
        {
          "output_type": "stream",
          "text": [
            "/usr/local/lib/python3.7/dist-packages/numpy/core/_asarray.py:83: VisibleDeprecationWarning: Creating an ndarray from ragged nested sequences (which is a list-or-tuple of lists-or-tuples-or ndarrays with different lengths or shapes) is deprecated. If you meant to do this, you must specify 'dtype=object' when creating the ndarray\n",
            "  return array(a, dtype, copy=False, order=order)\n"
          ],
          "name": "stderr"
        },
        {
          "output_type": "display_data",
          "data": {
            "image/png": "[encoded data removed]",
            "text/plain": [
              "<Figure size 864x486 with 1 Axes>"
            ]
          },
          "metadata": {
            "tags": [],
            "needs_background": "light"
          }
        }
      ]
    },
    {
      "cell_type": "markdown",
      "metadata": {
        "id": "yPtYql1bJNj9"
      },
      "source": [
        "**L1_size >= 400**"
      ]
    },
    {
      "cell_type": "code",
      "metadata": {
        "colab": {
          "base_uri": "https://localhost:8080/",
          "height": 852
        },
        "id": "YSJQOhuZwjxt",
        "outputId": "9435a220-aee4-46dd-fceb-9b531d6311a0"
      },
      "source": [
        "L1_mask = results_df['L1_size']>= 400\n",
        "results_subset = results_df.loc[L1_mask]\n",
        "\n",
        "results_utils.plotResultsByParameter1(results_subset, \n",
        "                       params_dict, \n",
        "                       params2plot=['L2_size'],\n",
        "                       metric='val_acc_A')\n",
        "\n",
        "results_utils.plotResultsByParameter1(results_subset, \n",
        "                       params_dict, \n",
        "                       params2plot=['L2_size'],\n",
        "                       metric='val_acc_B')"
      ],
      "execution_count": null,
      "outputs": [
        {
          "output_type": "display_data",
          "data": {
            "image/png": "[encoded data removed]",
            "text/plain": [
              "<Figure size 864x486 with 1 Axes>"
            ]
          },
          "metadata": {
            "tags": [],
            "needs_background": "light"
          }
        },
        {
          "output_type": "display_data",
          "data": {
            "image/png": "[encoded data removed]",
            "text/plain": [
              "<Figure size 864x486 with 1 Axes>"
            ]
          },
          "metadata": {
            "tags": [],
            "needs_background": "light"
          }
        }
      ]
    },
    {
      "cell_type": "markdown",
      "metadata": {
        "id": "8ZyXJouSL75b"
      },
      "source": [
        "**L2_size <= 100**"
      ]
    },
    {
      "cell_type": "code",
      "metadata": {
        "colab": {
          "base_uri": "https://localhost:8080/",
          "height": 1000
        },
        "id": "DwxZWl_unGED",
        "outputId": "6f4c18de-64f4-4a25-d6aa-53683c2d02ec"
      },
      "source": [
        "L1_mask = results_df['L1_size']>= 400\n",
        "L2_mask = results_df['L2_size']<= 100\n",
        "\n",
        "results_subset = results_df.loc[L1_mask & L2_mask]\n",
        "\n",
        "results_utils.plotResultsByParameter1(results_subset, \n",
        "                       params_dict, \n",
        "                       params2plot=['p_dropout_1', 'p_dropout_2'],\n",
        "                       metric='val_acc_A')\n",
        "\n",
        "results_utils.plotResultsByParameter1(results_subset, \n",
        "                       params_dict, \n",
        "                       params2plot=['p_dropout_1', 'p_dropout_2'],\n",
        "                       metric='val_acc_B')"
      ],
      "execution_count": null,
      "outputs": [
        {
          "output_type": "stream",
          "text": [
            "/usr/local/lib/python3.7/dist-packages/numpy/core/_asarray.py:83: VisibleDeprecationWarning: Creating an ndarray from ragged nested sequences (which is a list-or-tuple of lists-or-tuples-or ndarrays with different lengths or shapes) is deprecated. If you meant to do this, you must specify 'dtype=object' when creating the ndarray\n",
            "  return array(a, dtype, copy=False, order=order)\n"
          ],
          "name": "stderr"
        },
        {
          "output_type": "display_data",
          "data": {
            "image/png": "[encoded data removed]",
            "text/plain": [
              "<Figure size 864x486 with 1 Axes>"
            ]
          },
          "metadata": {
            "tags": [],
            "needs_background": "light"
          }
        },
        {
          "output_type": "stream",
          "text": [
            "/usr/local/lib/python3.7/dist-packages/numpy/core/_asarray.py:83: VisibleDeprecationWarning: Creating an ndarray from ragged nested sequences (which is a list-or-tuple of lists-or-tuples-or ndarrays with different lengths or shapes) is deprecated. If you meant to do this, you must specify 'dtype=object' when creating the ndarray\n",
            "  return array(a, dtype, copy=False, order=order)\n"
          ],
          "name": "stderr"
        },
        {
          "output_type": "display_data",
          "data": {
            "image/png": "[encoded data removed]",
            "text/plain": [
              "<Figure size 864x486 with 1 Axes>"
            ]
          },
          "metadata": {
            "tags": [],
            "needs_background": "light"
          }
        },
        {
          "output_type": "stream",
          "text": [
            "/usr/local/lib/python3.7/dist-packages/numpy/core/_asarray.py:83: VisibleDeprecationWarning: Creating an ndarray from ragged nested sequences (which is a list-or-tuple of lists-or-tuples-or ndarrays with different lengths or shapes) is deprecated. If you meant to do this, you must specify 'dtype=object' when creating the ndarray\n",
            "  return array(a, dtype, copy=False, order=order)\n"
          ],
          "name": "stderr"
        },
        {
          "output_type": "display_data",
          "data": {
            "image/png": "[encoded data removed]",
            "text/plain": [
              "<Figure size 864x486 with 1 Axes>"
            ]
          },
          "metadata": {
            "tags": [],
            "needs_background": "light"
          }
        },
        {
          "output_type": "stream",
          "text": [
            "/usr/local/lib/python3.7/dist-packages/numpy/core/_asarray.py:83: VisibleDeprecationWarning: Creating an ndarray from ragged nested sequences (which is a list-or-tuple of lists-or-tuples-or ndarrays with different lengths or shapes) is deprecated. If you meant to do this, you must specify 'dtype=object' when creating the ndarray\n",
            "  return array(a, dtype, copy=False, order=order)\n"
          ],
          "name": "stderr"
        },
        {
          "output_type": "display_data",
          "data": {
            "image/png": "[encoded data removed]",
            "text/plain": [
              "<Figure size 864x486 with 1 Axes>"
            ]
          },
          "metadata": {
            "tags": [],
            "needs_background": "light"
          }
        }
      ]
    },
    {
      "cell_type": "markdown",
      "metadata": {
        "id": "NI3bZNowznEe"
      },
      "source": [
        "### Resumen de los resultados\n",
        "* L1_size >= 400\n",
        "* L2_size <= 100\n",
        "* p_dropout_1 = [0.5]\n",
        "* p_dropout_2 = [0.5,**0.25**]\n",
        "\n",
        "\n",
        "* optimizador: ['adam-1e-3','adam-5e-4'], ['adam-1e-4','rmsprop-5e-4']\n",
        "* batch_size [256,512]"
      ]
    },
    {
      "cell_type": "markdown",
      "metadata": {
        "id": "IPeSCx6dMc1L"
      },
      "source": [
        "# Búsqueda número 3"
      ]
    },
    {
      "cell_type": "markdown",
      "metadata": {
        "id": "3vU7q1mxMc1k"
      },
      "source": [
        "### Espacio de búsqueda"
      ]
    },
    {
      "cell_type": "markdown",
      "metadata": {
        "id": "6hkcUZ08Mc1k"
      },
      "source": [
        "**Parámetros de la arquitectura**"
      ]
    },
    {
      "cell_type": "code",
      "metadata": {
        "colab": {
          "base_uri": "https://localhost:8080/"
        },
        "id": "6nEatnEvMc1l",
        "outputId": "898c8d5b-70ea-4894-a3b7-fefb7b726fa8"
      },
      "source": [
        "from itertools import product\n",
        "\n",
        "arch_params_dict = {\n",
        "    'L1_size': [550,500,450,400],                    \n",
        "    'L2_size': [125,100,75],                \n",
        "    'activation':['relu'],                                    \n",
        "    'p_dropout_1':[0.25,0.5],\n",
        "    'p_dropout_2':[0.25,0.5]                                \n",
        "}\n",
        "\n",
        "arch_params_keys = arch_params_dict.keys()\n",
        "arch_params_combos = list(product( *arch_params_dict.values() ))          \n",
        "\n",
        "arch_params_combos = [params_combo for params_combo in arch_params_combos if params_combo[-2]>=params_combo[-1]]\n",
        "print('{} arch_params_combos.'.format(len(arch_params_combos)))   "
      ],
      "execution_count": null,
      "outputs": [
        {
          "output_type": "stream",
          "text": [
            "36 arch_params_combos.\n"
          ],
          "name": "stdout"
        }
      ]
    },
    {
      "cell_type": "markdown",
      "metadata": {
        "id": "BvUbAPwDMc1o"
      },
      "source": [
        "**Parámetros de entrenamiento**"
      ]
    },
    {
      "cell_type": "code",
      "metadata": {
        "colab": {
          "base_uri": "https://localhost:8080/"
        },
        "id": "8mTWXbMbMc1o",
        "outputId": "f1ec64a0-7a76-4e01-9645-4e5a40d9d274"
      },
      "source": [
        "trainig_params_dict = {'optimizer':['adam-5e-4', 'rmsprop-5e-4'],\n",
        "                    'batch_size':[256],\n",
        "                    'max_epochs':[75]}\n",
        "                        \n",
        "trainig_params_combos = list(product( *trainig_params_dict.values() ))\n",
        "\n",
        "print('\\n{} trainig_params_combos.'.format(len(trainig_params_combos)))"
      ],
      "execution_count": null,
      "outputs": [
        {
          "output_type": "stream",
          "text": [
            "\n",
            "2 trainig_params_combos.\n"
          ],
          "name": "stdout"
        }
      ]
    },
    {
      "cell_type": "code",
      "metadata": {
        "colab": {
          "base_uri": "https://localhost:8080/"
        },
        "id": "XDA5u46XMc1q",
        "outputId": "7d49db82-4f5b-459d-f989-48d046ac9d99"
      },
      "source": [
        "search_space = list(product(arch_params_combos, trainig_params_combos))\n",
        "\n",
        "print('\\n{} params combinations in the search_space.'.format(len(search_space))) "
      ],
      "execution_count": null,
      "outputs": [
        {
          "output_type": "stream",
          "text": [
            "\n",
            "72 params combinations in the search_space.\n"
          ],
          "name": "stdout"
        }
      ]
    },
    {
      "cell_type": "markdown",
      "metadata": {
        "id": "GydZc89WMc1r"
      },
      "source": [
        "### Escaneo"
      ]
    },
    {
      "cell_type": "code",
      "metadata": {
        "id": "mFpOfG0LMc1r"
      },
      "source": [
        "results_df = nn_utils.spaceScanner(X_train, Y_train,\n",
        "                          'AG',\n",
        "                          fcNeuralNetworkModel, \n",
        "                          search_space[:],\n",
        "                          arch_params_dict.keys(),\n",
        "                          trainig_params_dict.keys(),\n",
        "                          fraction2eval=1,\n",
        "                          n_folds=7,\n",
        "                          fitting_attemps=1,\n",
        "                          stop_threshold=1,\n",
        "                          partial_CV=True,\n",
        "                          backup_file='./Results/SNN/AG/experiments_3.df',\n",
        "                          backup_freq=25,\n",
        "                          save_history_files=True,\n",
        "                          save_models_as_json=False)"
      ],
      "execution_count": null,
      "outputs": []
    },
    {
      "cell_type": "markdown",
      "metadata": {
        "id": "EgSWYzOFMc1t"
      },
      "source": [
        "## Resultados"
      ]
    },
    {
      "cell_type": "code",
      "metadata": {
        "id": "myTY13cp2FNW"
      },
      "source": [
        "results_list = ['./Results/SNN/HS/experiments_3_1.df',\n",
        "                './Results/SNN/HS/experiments_3_2.df']\n",
        "\n",
        "results_df = results_utils.mergeDataFrames(results_list, './Results/SNN/HS/experiments_3.df') "
      ],
      "execution_count": null,
      "outputs": []
    },
    {
      "cell_type": "code",
      "metadata": {
        "id": "dJjE6rP-Mc1u"
      },
      "source": [
        "import pickle\n",
        "with open('./Results/SNN/AG/experiments_3.df', 'rb') as file_handler:\n",
        "  results_df = pickle.load(file_handler)"
      ],
      "execution_count": 7,
      "outputs": []
    },
    {
      "cell_type": "code",
      "metadata": {
        "colab": {
          "base_uri": "https://localhost:8080/",
          "height": 312
        },
        "id": "85APDckuMc1s",
        "outputId": "c660a085-f02d-45ed-bf2a-ad209e0ac8d4"
      },
      "source": [
        "results_df.sort_values(by='val_acc_A', ascending=False).head()"
      ],
      "execution_count": null,
      "outputs": [
        {
          "output_type": "execute_result",
          "data": {
            "text/html": [
              "<div>\n",
              "<style scoped>\n",
              "    .dataframe tbody tr th:only-of-type {\n",
              "        vertical-align: middle;\n",
              "    }\n",
              "\n",
              "    .dataframe tbody tr th {\n",
              "        vertical-align: top;\n",
              "    }\n",
              "\n",
              "    .dataframe thead th {\n",
              "        text-align: right;\n",
              "    }\n",
              "</style>\n",
              "<table border=\"1\" class=\"dataframe\">\n",
              "  <thead>\n",
              "    <tr style=\"text-align: right;\">\n",
              "      <th></th>\n",
              "      <th>conf_ID</th>\n",
              "      <th>L1_size</th>\n",
              "      <th>L2_size</th>\n",
              "      <th>activation</th>\n",
              "      <th>p_dropout_1</th>\n",
              "      <th>p_dropout_2</th>\n",
              "      <th>optimizer</th>\n",
              "      <th>batch_size</th>\n",
              "      <th>max_epochs</th>\n",
              "      <th>best_epochh</th>\n",
              "      <th>train_acc_A</th>\n",
              "      <th>val_acc_A</th>\n",
              "      <th>min2best</th>\n",
              "      <th>max2best</th>\n",
              "      <th>median2best</th>\n",
              "      <th>train_acc_B</th>\n",
              "      <th>val_acc_B</th>\n",
              "    </tr>\n",
              "  </thead>\n",
              "  <tbody>\n",
              "    <tr>\n",
              "      <th>17</th>\n",
              "      <td>ySIAWwYR</td>\n",
              "      <td>550</td>\n",
              "      <td>75</td>\n",
              "      <td>relu</td>\n",
              "      <td>0.50</td>\n",
              "      <td>0.50</td>\n",
              "      <td>rmsprop-5e-4</td>\n",
              "      <td>256</td>\n",
              "      <td>75</td>\n",
              "      <td>40</td>\n",
              "      <td>0.801668</td>\n",
              "      <td>0.793492</td>\n",
              "      <td>30</td>\n",
              "      <td>64</td>\n",
              "      <td>37.0</td>\n",
              "      <td>0.811292</td>\n",
              "      <td>0.802945</td>\n",
              "    </tr>\n",
              "    <tr>\n",
              "      <th>49</th>\n",
              "      <td>WdNnmVTx</td>\n",
              "      <td>450</td>\n",
              "      <td>75</td>\n",
              "      <td>relu</td>\n",
              "      <td>0.25</td>\n",
              "      <td>0.25</td>\n",
              "      <td>rmsprop-5e-4</td>\n",
              "      <td>256</td>\n",
              "      <td>75</td>\n",
              "      <td>18</td>\n",
              "      <td>0.775302</td>\n",
              "      <td>0.792439</td>\n",
              "      <td>18</td>\n",
              "      <td>47</td>\n",
              "      <td>35.5</td>\n",
              "      <td>0.837831</td>\n",
              "      <td>0.799092</td>\n",
              "    </tr>\n",
              "    <tr>\n",
              "      <th>5</th>\n",
              "      <td>JelVIcMU</td>\n",
              "      <td>550</td>\n",
              "      <td>125</td>\n",
              "      <td>relu</td>\n",
              "      <td>0.50</td>\n",
              "      <td>0.50</td>\n",
              "      <td>rmsprop-5e-4</td>\n",
              "      <td>256</td>\n",
              "      <td>75</td>\n",
              "      <td>38</td>\n",
              "      <td>0.815493</td>\n",
              "      <td>0.792088</td>\n",
              "      <td>32</td>\n",
              "      <td>44</td>\n",
              "      <td>36.5</td>\n",
              "      <td>0.815784</td>\n",
              "      <td>0.796640</td>\n",
              "    </tr>\n",
              "    <tr>\n",
              "      <th>11</th>\n",
              "      <td>VNgcMqpK</td>\n",
              "      <td>550</td>\n",
              "      <td>100</td>\n",
              "      <td>relu</td>\n",
              "      <td>0.50</td>\n",
              "      <td>0.50</td>\n",
              "      <td>rmsprop-5e-4</td>\n",
              "      <td>256</td>\n",
              "      <td>75</td>\n",
              "      <td>32</td>\n",
              "      <td>0.782360</td>\n",
              "      <td>0.791390</td>\n",
              "      <td>28</td>\n",
              "      <td>32</td>\n",
              "      <td>30.5</td>\n",
              "      <td>0.776877</td>\n",
              "      <td>0.795242</td>\n",
              "    </tr>\n",
              "    <tr>\n",
              "      <th>23</th>\n",
              "      <td>GYIRIXdS</td>\n",
              "      <td>500</td>\n",
              "      <td>125</td>\n",
              "      <td>relu</td>\n",
              "      <td>0.50</td>\n",
              "      <td>0.50</td>\n",
              "      <td>rmsprop-5e-4</td>\n",
              "      <td>256</td>\n",
              "      <td>75</td>\n",
              "      <td>35</td>\n",
              "      <td>0.801494</td>\n",
              "      <td>0.790690</td>\n",
              "      <td>22</td>\n",
              "      <td>42</td>\n",
              "      <td>36.5</td>\n",
              "      <td>0.801494</td>\n",
              "      <td>0.800844</td>\n",
              "    </tr>\n",
              "  </tbody>\n",
              "</table>\n",
              "</div>"
            ],
            "text/plain": [
              "     conf_ID  L1_size  L2_size  ... median2best  train_acc_B  val_acc_B\n",
              "17  ySIAWwYR      550       75  ...        37.0     0.811292   0.802945\n",
              "49  WdNnmVTx      450       75  ...        35.5     0.837831   0.799092\n",
              "5   JelVIcMU      550      125  ...        36.5     0.815784   0.796640\n",
              "11  VNgcMqpK      550      100  ...        30.5     0.776877   0.795242\n",
              "23  GYIRIXdS      500      125  ...        36.5     0.801494   0.800844\n",
              "\n",
              "[5 rows x 17 columns]"
            ]
          },
          "metadata": {
            "tags": []
          },
          "execution_count": 13
        }
      ]
    },
    {
      "cell_type": "code",
      "metadata": {
        "colab": {
          "base_uri": "https://localhost:8080/",
          "height": 312
        },
        "id": "CuO5dfWN1D_M",
        "outputId": "886b7158-10b4-4a94-bb1c-d3806c84c504"
      },
      "source": [
        "results_df.sort_values(by='val_acc_B', ascending=False).head()"
      ],
      "execution_count": null,
      "outputs": [
        {
          "output_type": "execute_result",
          "data": {
            "text/html": [
              "<div>\n",
              "<style scoped>\n",
              "    .dataframe tbody tr th:only-of-type {\n",
              "        vertical-align: middle;\n",
              "    }\n",
              "\n",
              "    .dataframe tbody tr th {\n",
              "        vertical-align: top;\n",
              "    }\n",
              "\n",
              "    .dataframe thead th {\n",
              "        text-align: right;\n",
              "    }\n",
              "</style>\n",
              "<table border=\"1\" class=\"dataframe\">\n",
              "  <thead>\n",
              "    <tr style=\"text-align: right;\">\n",
              "      <th></th>\n",
              "      <th>conf_ID</th>\n",
              "      <th>L1_size</th>\n",
              "      <th>L2_size</th>\n",
              "      <th>activation</th>\n",
              "      <th>p_dropout_1</th>\n",
              "      <th>p_dropout_2</th>\n",
              "      <th>optimizer</th>\n",
              "      <th>batch_size</th>\n",
              "      <th>max_epochs</th>\n",
              "      <th>best_epochh</th>\n",
              "      <th>train_acc_A</th>\n",
              "      <th>val_acc_A</th>\n",
              "      <th>min2best</th>\n",
              "      <th>max2best</th>\n",
              "      <th>median2best</th>\n",
              "      <th>train_acc_B</th>\n",
              "      <th>val_acc_B</th>\n",
              "    </tr>\n",
              "  </thead>\n",
              "  <tbody>\n",
              "    <tr>\n",
              "      <th>37</th>\n",
              "      <td>ujTxMgcx</td>\n",
              "      <td>450</td>\n",
              "      <td>125</td>\n",
              "      <td>relu</td>\n",
              "      <td>0.25</td>\n",
              "      <td>0.25</td>\n",
              "      <td>rmsprop-5e-4</td>\n",
              "      <td>256</td>\n",
              "      <td>75</td>\n",
              "      <td>34</td>\n",
              "      <td>0.860760</td>\n",
              "      <td>0.783341</td>\n",
              "      <td>12</td>\n",
              "      <td>47</td>\n",
              "      <td>21.0</td>\n",
              "      <td>0.816482</td>\n",
              "      <td>0.803996</td>\n",
              "    </tr>\n",
              "    <tr>\n",
              "      <th>17</th>\n",
              "      <td>ySIAWwYR</td>\n",
              "      <td>550</td>\n",
              "      <td>75</td>\n",
              "      <td>relu</td>\n",
              "      <td>0.50</td>\n",
              "      <td>0.50</td>\n",
              "      <td>rmsprop-5e-4</td>\n",
              "      <td>256</td>\n",
              "      <td>75</td>\n",
              "      <td>40</td>\n",
              "      <td>0.801668</td>\n",
              "      <td>0.793492</td>\n",
              "      <td>30</td>\n",
              "      <td>64</td>\n",
              "      <td>37.0</td>\n",
              "      <td>0.811292</td>\n",
              "      <td>0.802945</td>\n",
              "    </tr>\n",
              "    <tr>\n",
              "      <th>23</th>\n",
              "      <td>GYIRIXdS</td>\n",
              "      <td>500</td>\n",
              "      <td>125</td>\n",
              "      <td>relu</td>\n",
              "      <td>0.50</td>\n",
              "      <td>0.50</td>\n",
              "      <td>rmsprop-5e-4</td>\n",
              "      <td>256</td>\n",
              "      <td>75</td>\n",
              "      <td>35</td>\n",
              "      <td>0.801494</td>\n",
              "      <td>0.790690</td>\n",
              "      <td>22</td>\n",
              "      <td>42</td>\n",
              "      <td>36.5</td>\n",
              "      <td>0.801494</td>\n",
              "      <td>0.800844</td>\n",
              "    </tr>\n",
              "    <tr>\n",
              "      <th>47</th>\n",
              "      <td>MFoZEMyN</td>\n",
              "      <td>450</td>\n",
              "      <td>100</td>\n",
              "      <td>relu</td>\n",
              "      <td>0.50</td>\n",
              "      <td>0.50</td>\n",
              "      <td>rmsprop-5e-4</td>\n",
              "      <td>256</td>\n",
              "      <td>75</td>\n",
              "      <td>23</td>\n",
              "      <td>0.753543</td>\n",
              "      <td>0.789644</td>\n",
              "      <td>23</td>\n",
              "      <td>37</td>\n",
              "      <td>30.5</td>\n",
              "      <td>0.783875</td>\n",
              "      <td>0.799094</td>\n",
              "    </tr>\n",
              "    <tr>\n",
              "      <th>49</th>\n",
              "      <td>WdNnmVTx</td>\n",
              "      <td>450</td>\n",
              "      <td>75</td>\n",
              "      <td>relu</td>\n",
              "      <td>0.25</td>\n",
              "      <td>0.25</td>\n",
              "      <td>rmsprop-5e-4</td>\n",
              "      <td>256</td>\n",
              "      <td>75</td>\n",
              "      <td>18</td>\n",
              "      <td>0.775302</td>\n",
              "      <td>0.792439</td>\n",
              "      <td>18</td>\n",
              "      <td>47</td>\n",
              "      <td>35.5</td>\n",
              "      <td>0.837831</td>\n",
              "      <td>0.799092</td>\n",
              "    </tr>\n",
              "  </tbody>\n",
              "</table>\n",
              "</div>"
            ],
            "text/plain": [
              "     conf_ID  L1_size  L2_size  ... median2best  train_acc_B  val_acc_B\n",
              "37  ujTxMgcx      450      125  ...        21.0     0.816482   0.803996\n",
              "17  ySIAWwYR      550       75  ...        37.0     0.811292   0.802945\n",
              "23  GYIRIXdS      500      125  ...        36.5     0.801494   0.800844\n",
              "47  MFoZEMyN      450      100  ...        30.5     0.783875   0.799094\n",
              "49  WdNnmVTx      450       75  ...        35.5     0.837831   0.799092\n",
              "\n",
              "[5 rows x 17 columns]"
            ]
          },
          "metadata": {
            "tags": []
          },
          "execution_count": 14
        }
      ]
    },
    {
      "cell_type": "code",
      "metadata": {
        "id": "vG8Outx04feS"
      },
      "source": [
        "params_dict = {\n",
        "    'L1_size': [550,500,450,400],                    \n",
        "    'L2_size': [125,100,75],                \n",
        "    'activation':['relu'],                                    \n",
        "    'p_dropout_1':[0.25,0.5],\n",
        "    'p_dropout_2':[0.25,0.5]                                \n",
        "}"
      ],
      "execution_count": 8,
      "outputs": []
    },
    {
      "cell_type": "markdown",
      "metadata": {
        "id": "sz7UkL8p4fsb"
      },
      "source": [
        "**Resultados por parámetro**"
      ]
    },
    {
      "cell_type": "code",
      "metadata": {
        "colab": {
          "base_uri": "https://localhost:8080/",
          "height": 845
        },
        "id": "RRlnbwb04fsd",
        "outputId": "1f81051c-c5c3-4542-ea4d-5ad0522dd174"
      },
      "source": [
        "results_utils.plotResultsByParameter1(results_df, \n",
        "                       params_dict, \n",
        "                       params2plot=['L1_size'],\n",
        "                       metric='val_acc_A')\n",
        "\n",
        "results_utils.plotResultsByParameter1(results_df, \n",
        "                       params_dict, \n",
        "                       params2plot=['L1_size'],\n",
        "                       metric='val_acc_B')"
      ],
      "execution_count": 9,
      "outputs": [
        {
          "output_type": "display_data",
          "data": {
            "image/png": "[encoded data removed]",
            "text/plain": [
              "<Figure size 864x486 with 1 Axes>"
            ]
          },
          "metadata": {
            "tags": [],
            "needs_background": "light"
          }
        },
        {
          "output_type": "display_data",
          "data": {
            "image/png": "[encoded data removed]",
            "text/plain": [
              "<Figure size 864x486 with 1 Axes>"
            ]
          },
          "metadata": {
            "tags": [],
            "needs_background": "light"
          }
        }
      ]
    },
    {
      "cell_type": "markdown",
      "metadata": {
        "id": "6lPusjxh4fsh"
      },
      "source": [
        "**L1_size >= 400**"
      ]
    },
    {
      "cell_type": "code",
      "metadata": {
        "colab": {
          "base_uri": "https://localhost:8080/",
          "height": 845
        },
        "id": "ERE4NBXZ4fsk",
        "outputId": "dc760af1-a9dc-48c3-d3e3-59f35e376c03"
      },
      "source": [
        "L1_mask = results_df['L1_size'].isin([450,550])\n",
        "results_subset = results_df.loc[L1_mask]\n",
        "\n",
        "results_utils.plotResultsByParameter1(results_subset, \n",
        "                       params_dict, \n",
        "                       params2plot=['L2_size'],\n",
        "                       metric='val_acc_A')\n",
        "\n",
        "results_utils.plotResultsByParameter1(results_subset, \n",
        "                       params_dict, \n",
        "                       params2plot=['L2_size'],\n",
        "                       metric='val_acc_B')"
      ],
      "execution_count": 10,
      "outputs": [
        {
          "output_type": "display_data",
          "data": {
            "image/png": "[encoded data removed]",
            "text/plain": [
              "<Figure size 864x486 with 1 Axes>"
            ]
          },
          "metadata": {
            "tags": [],
            "needs_background": "light"
          }
        },
        {
          "output_type": "display_data",
          "data": {
            "image/png": "[encoded data removed]",
            "text/plain": [
              "<Figure size 864x486 with 1 Axes>"
            ]
          },
          "metadata": {
            "tags": [],
            "needs_background": "light"
          }
        }
      ]
    },
    {
      "cell_type": "markdown",
      "metadata": {
        "id": "mK5vNS7t6FlT"
      },
      "source": [
        "### Resumen de los resultados\n",
        "* L1_size = [400,550]\n",
        "* L2_size = [100,75]\n",
        "* p_dropout_1 = [0.5]\n",
        "* p_dropout_2 = [0.5,**0.25**]\n",
        "\n",
        "\n",
        "* optimizador: ['adam-1e-3','adam-5e-4'], ['adam-1e-4','rmsprop-5e-4']\n",
        "* batch_size [256,512]"
      ]
    },
    {
      "cell_type": "markdown",
      "metadata": {
        "id": "FgidCHNB6ciI"
      },
      "source": [
        "# Búsqueda número 4"
      ]
    },
    {
      "cell_type": "markdown",
      "metadata": {
        "id": "XsZ4jkjv6cig"
      },
      "source": [
        "## Espacio de búsqueda"
      ]
    },
    {
      "cell_type": "markdown",
      "metadata": {
        "id": "3r2rdGZL6cih"
      },
      "source": [
        "**Parámetros de la arquitectura**"
      ]
    },
    {
      "cell_type": "code",
      "metadata": {
        "colab": {
          "base_uri": "https://localhost:8080/"
        },
        "id": "poaxZH176cij",
        "outputId": "626963e0-b87a-45c6-df66-de907fc85ad3"
      },
      "source": [
        "from itertools import product\n",
        "\n",
        "arch_params_dict = {\n",
        "    'L1_size': [550,450],                    \n",
        "    'L2_size': [125,100],                \n",
        "    'activation':['relu'],                                    \n",
        "    'p_dropout_1':[0.25,0.5],\n",
        "    'p_dropout_2':[0.25,0.5]                                \n",
        "}\n",
        "\n",
        "arch_params_keys = arch_params_dict.keys()\n",
        "arch_params_combos = list(product( *arch_params_dict.values() ))          \n",
        "\n",
        "arch_params_combos = [params_combo for params_combo in arch_params_combos if params_combo[-2]>=params_combo[-1]]\n",
        "print('{} arch_params_combos.'.format(len(arch_params_combos)))   "
      ],
      "execution_count": 11,
      "outputs": [
        {
          "output_type": "stream",
          "text": [
            "12 arch_params_combos.\n"
          ],
          "name": "stdout"
        }
      ]
    },
    {
      "cell_type": "markdown",
      "metadata": {
        "id": "3pa6KsAq6cio"
      },
      "source": [
        "**Parámetros de entrenamiento**"
      ]
    },
    {
      "cell_type": "code",
      "metadata": {
        "colab": {
          "base_uri": "https://localhost:8080/"
        },
        "id": "KyDdc2Kz6ciq",
        "outputId": "53976b49-096f-4e71-9a1a-b9e6285a5854"
      },
      "source": [
        "trainig_params_dict = {'optimizer':['adam-5e-4', 'rmsprop-5e-4'],\n",
        "                    'batch_size':[256, 512],\n",
        "                    'max_epochs':[75]}\n",
        "                        \n",
        "trainig_params_combos = list(product( *trainig_params_dict.values() ))\n",
        "\n",
        "print('\\n{} trainig_params_combos.'.format(len(trainig_params_combos)))"
      ],
      "execution_count": 12,
      "outputs": [
        {
          "output_type": "stream",
          "text": [
            "\n",
            "4 trainig_params_combos.\n"
          ],
          "name": "stdout"
        }
      ]
    },
    {
      "cell_type": "code",
      "metadata": {
        "colab": {
          "base_uri": "https://localhost:8080/"
        },
        "id": "k93RCYKz6cis",
        "outputId": "99de71b4-0f08-4704-e8db-3624ca774247"
      },
      "source": [
        "search_space = list(product(arch_params_combos, trainig_params_combos))\n",
        "\n",
        "print('\\n{} params combinations in the search_space.'.format(len(search_space))) "
      ],
      "execution_count": 13,
      "outputs": [
        {
          "output_type": "stream",
          "text": [
            "\n",
            "48 params combinations in the search_space.\n"
          ],
          "name": "stdout"
        }
      ]
    },
    {
      "cell_type": "markdown",
      "metadata": {
        "id": "2lLV9pAX6ciu"
      },
      "source": [
        "## Escaneo"
      ]
    },
    {
      "cell_type": "code",
      "metadata": {
        "id": "pfvjjHrHxzDi",
        "colab": {
          "base_uri": "https://localhost:8080/"
        },
        "outputId": "25842e8a-c533-419e-adab-ec01104637c6"
      },
      "source": [
        "results_df = nn_utils.spaceScanner(X_train, Y_train,\n",
        "                          'AG',\n",
        "                          fcNeuralNetworkModel, \n",
        "                          search_space,\n",
        "                          arch_params_dict.keys(),\n",
        "                          trainig_params_dict.keys(),\n",
        "                          fraction2eval=1,\n",
        "                          n_folds=7,\n",
        "                          fitting_attemps=1,\n",
        "                          stop_threshold=1,\n",
        "                          partial_CV=False,\n",
        "                          backup_file='./Results/SNN/AG/experiments_4.df',\n",
        "                          backup_freq=5,\n",
        "                          save_history_files=True,\n",
        "                          save_models_as_json=True,\n",
        "                          save_weights=True)"
      ],
      "execution_count": 14,
      "outputs": [
        {
          "output_type": "stream",
          "text": [
            "BackupFile: ./Results/SNN/AG/experiments_4.df\n",
            "SCANNING SEARCH SPACE\n",
            "\n",
            "48 configurations will be evaluated.\n",
            "1  - conf_ID: OXDpVNxw   *******  --  train_acc_1 = 0.794,  val_acc_1 = 0.785    --  train_acc_2 = 0.784,  val_acc_2 = 0.798   \n",
            "2  - conf_ID: eJgOLASi   *******  --  train_acc_1 = 0.817,  val_acc_1 = 0.791    --  train_acc_2 = 0.796,  val_acc_2 = 0.799   \n",
            "3  - conf_ID: jnKnpUnB   *******  --  train_acc_1 = 0.819,  val_acc_1 = 0.784    --  train_acc_2 = 0.83,   val_acc_2 = 0.801   \n",
            "4  - conf_ID: XBRHFSRy   *******  --  train_acc_1 = 0.841,  val_acc_1 = 0.786    --  train_acc_2 = 0.821,  val_acc_2 = 0.801   \n",
            "5  - conf_ID: gqBxXVKU   *******  --  train_acc_1 = 0.782,  val_acc_1 = 0.789    --  train_acc_2 = 0.797,  val_acc_2 = 0.799   \n",
            "6  - conf_ID: TLjTOrSP   *******  --  train_acc_1 = 0.796,  val_acc_1 = 0.79     --  train_acc_2 = 0.791,  val_acc_2 = 0.8     \n",
            "7  - conf_ID: ITRnpiHX   *******  --  train_acc_1 = 0.775,  val_acc_1 = 0.785    --  train_acc_2 = 0.797,  val_acc_2 = 0.802   \n",
            "8  - conf_ID: lSvqItNX   *******  --  train_acc_1 = 0.761,  val_acc_1 = 0.786    --  train_acc_2 = 0.811,  val_acc_2 = 0.798   \n",
            "9  - conf_ID: tZlChksM   *******  --  train_acc_1 = 0.818,  val_acc_1 = 0.788    --  train_acc_2 = 0.821,  val_acc_2 = 0.798   \n",
            "10 - conf_ID: OVzcpzJb   *******  --  train_acc_1 = 0.821,  val_acc_1 = 0.79     --  train_acc_2 = 0.816,  val_acc_2 = 0.8     \n",
            "11 - conf_ID: EjViPwKn   *******  --  train_acc_1 = 0.784,  val_acc_1 = 0.788    --  train_acc_2 = 0.776,  val_acc_2 = 0.802   \n",
            "12 - conf_ID: ATEtpRHO   *******  --  train_acc_1 = 0.828,  val_acc_1 = 0.787    --  train_acc_2 = 0.81,   val_acc_2 = 0.8     \n",
            "13 - conf_ID: jreIZdwl   *******  --  train_acc_1 = 0.774,  val_acc_1 = 0.791    --  train_acc_2 = 0.789,  val_acc_2 = 0.798   \n",
            "14 - conf_ID: dfnwECWA   *******  --  train_acc_1 = 0.777,  val_acc_1 = 0.789    --  train_acc_2 = 0.789,  val_acc_2 = 0.797   \n",
            "15 - conf_ID: SXpiCNWx   *******  --  train_acc_1 = 0.762,  val_acc_1 = 0.779    --  train_acc_2 = 0.809,  val_acc_2 = 0.799   \n",
            "16 - conf_ID: NqujmXdl   *******  --  train_acc_1 = 0.844,  val_acc_1 = 0.785    --  train_acc_2 = 0.819,  val_acc_2 = 0.8     \n",
            "17 - conf_ID: oQJeIVmv   *******  --  train_acc_1 = 0.766,  val_acc_1 = 0.792    --  train_acc_2 = 0.784,  val_acc_2 = 0.801   \n",
            "18 - conf_ID: joTuXhLn   *******  --  train_acc_1 = 0.805,  val_acc_1 = 0.792    --  train_acc_2 = 0.804,  val_acc_2 = 0.801   \n",
            "19 - conf_ID: OHOGqydV   *******  --  train_acc_1 = 0.804,  val_acc_1 = 0.787    --  train_acc_2 = 0.822,  val_acc_2 = 0.801   \n",
            "20 - conf_ID: Oajpwlyp   *******  --  train_acc_1 = 0.789,  val_acc_1 = 0.791    --  train_acc_2 = 0.816,  val_acc_2 = 0.801   \n",
            "21 - conf_ID: XhDqFWGE   *******  --  train_acc_1 = 0.772,  val_acc_1 = 0.79     --  train_acc_2 = 0.783,  val_acc_2 = 0.798   \n",
            "22 - conf_ID: ZVAuhkHI   *******  --  train_acc_1 = 0.788,  val_acc_1 = 0.793    --  train_acc_2 = 0.792,  val_acc_2 = 0.802   \n",
            "23 - conf_ID: xihWJsJc   *******  --  train_acc_1 = 0.8,    val_acc_1 = 0.789    --  train_acc_2 = 0.787,  val_acc_2 = 0.802   \n",
            "24 - conf_ID: FTbGqYpA   *******  --  train_acc_1 = 0.813,  val_acc_1 = 0.795    --  train_acc_2 = 0.813,  val_acc_2 = 0.806   \n",
            "25 - conf_ID: FCMIochT   *******  --  train_acc_1 = 0.792,  val_acc_1 = 0.79     --  train_acc_2 = 0.794,  val_acc_2 = 0.799   \n",
            "26 - conf_ID: UYmRLCWM   *******  --  train_acc_1 = 0.805,  val_acc_1 = 0.785    --  train_acc_2 = 0.797,  val_acc_2 = 0.798   \n",
            "27 - conf_ID: dYYaiCLF   *******  --  train_acc_1 = 0.788,  val_acc_1 = 0.782    --  train_acc_2 = 0.818,  val_acc_2 = 0.799   \n",
            "28 - conf_ID: MRNmaTDB   *******  --  train_acc_1 = 0.829,  val_acc_1 = 0.789    --  train_acc_2 = 0.833,  val_acc_2 = 0.8     \n",
            "29 - conf_ID: zDGWhdhW   *******  --  train_acc_1 = 0.788,  val_acc_1 = 0.787    --  train_acc_2 = 0.802,  val_acc_2 = 0.797   \n",
            "30 - conf_ID: jXQwcahO   *******  --  train_acc_1 = 0.803,  val_acc_1 = 0.791    --  train_acc_2 = 0.782,  val_acc_2 = 0.8     \n",
            "31 - conf_ID: ReHZMTxk   *******  --  train_acc_1 = 0.765,  val_acc_1 = 0.782    --  train_acc_2 = 0.819,  val_acc_2 = 0.798   \n",
            "32 - conf_ID: VWCZMWcY   *******  --  train_acc_1 = 0.824,  val_acc_1 = 0.787    --  train_acc_2 = 0.808,  val_acc_2 = 0.797   \n",
            "33 - conf_ID: hMnReRmP   *******  --  train_acc_1 = 0.838,  val_acc_1 = 0.788    --  train_acc_2 = 0.798,  val_acc_2 = 0.799   \n",
            "34 - conf_ID: aCKCdYUS   *******  --  train_acc_1 = 0.828,  val_acc_1 = 0.788    --  train_acc_2 = 0.802,  val_acc_2 = 0.797   \n",
            "35 - conf_ID: vlGFXbPv   *******  --  train_acc_1 = 0.784,  val_acc_1 = 0.788    --  train_acc_2 = 0.783,  val_acc_2 = 0.799   \n",
            "36 - conf_ID: dIkSrPWm   *******  --  train_acc_1 = 0.758,  val_acc_1 = 0.785    --  train_acc_2 = 0.814,  val_acc_2 = 0.798   \n",
            "37 - conf_ID: TKIwYhVF   *******  --  train_acc_1 = 0.777,  val_acc_1 = 0.787    --  train_acc_2 = 0.789,  val_acc_2 = 0.798   \n",
            "38 - conf_ID: ZrWihtJR   *******  --  train_acc_1 = 0.793,  val_acc_1 = 0.789    --  train_acc_2 = 0.802,  val_acc_2 = 0.799   \n",
            "39 - conf_ID: XyaOpgyE   *******  --  train_acc_1 = 0.853,  val_acc_1 = 0.783    --  train_acc_2 = 0.842,  val_acc_2 = 0.798   \n",
            "40 - conf_ID: UeAbodzD   *******  --  train_acc_1 = 0.778,  val_acc_1 = 0.784    --  train_acc_2 = 0.825,  val_acc_2 = 0.801   \n",
            "41 - conf_ID: heNMIfuo   *******  --  train_acc_1 = 0.794,  val_acc_1 = 0.792    --  train_acc_2 = 0.789,  val_acc_2 = 0.801   \n",
            "42 - conf_ID: oFZqIGEi   *******  --  train_acc_1 = 0.773,  val_acc_1 = 0.787    --  train_acc_2 = 0.807,  val_acc_2 = 0.799   \n",
            "43 - conf_ID: vfaxiUqE   *******  --  train_acc_1 = 0.834,  val_acc_1 = 0.788    --  train_acc_2 = 0.79,   val_acc_2 = 0.8     \n",
            "44 - conf_ID: SwxwDLzc   *******  --  train_acc_1 = 0.773,  val_acc_1 = 0.79     --  train_acc_2 = 0.823,  val_acc_2 = 0.8     \n",
            "45 - conf_ID: yWXBmOVs   *******  --  train_acc_1 = 0.783,  val_acc_1 = 0.787    --  train_acc_2 = 0.797,  val_acc_2 = 0.8     \n",
            "46 - conf_ID: cPuehBLW   *******  --  train_acc_1 = 0.771,  val_acc_1 = 0.791    --  train_acc_2 = 0.796,  val_acc_2 = 0.801   \n",
            "47 - conf_ID: WUxOLAaQ   *******  --  train_acc_1 = 0.808,  val_acc_1 = 0.789    --  train_acc_2 = 0.829,  val_acc_2 = 0.801   \n",
            "48 - conf_ID: jtzujWro   *******  --  train_acc_1 = 0.807,  val_acc_1 = 0.788    --  train_acc_2 = 0.811,  val_acc_2 = 0.799   \n",
            "\n",
            "PROCCESS COMPLETE. 48 CONFIGURATIONS WERE SUCCESFULLY EVALUATED.\n"
          ],
          "name": "stdout"
        }
      ]
    },
    {
      "cell_type": "markdown",
      "metadata": {
        "id": "Y1VTpBToxvdN"
      },
      "source": [
        "## Resultados"
      ]
    },
    {
      "cell_type": "code",
      "metadata": {
        "id": "Tsc9aukMx9Wm"
      },
      "source": [
        "results_list = ['./Results/SNN/HTA_experiments_4f_batch_1.df',\n",
        "                './Results/SNN/HTA_experiments_4f_batch_2.df',\n",
        "                './Results/SNN/HTA_experiments_4f_batch_3.df']\n",
        "\n",
        "results_df = results_utils.mergeDataFrames(results_list, './Results/SNN/HTA_experiments_4f.df') "
      ],
      "execution_count": null,
      "outputs": []
    },
    {
      "cell_type": "code",
      "metadata": {
        "id": "e0mAWKJsxvdv",
        "colab": {
          "base_uri": "https://localhost:8080/"
        },
        "outputId": "630cb4a9-4da4-472c-c4c9-d23a8083423f"
      },
      "source": [
        "import pickle\n",
        "with open('./Results/SNN/HTA_experiments_4f.df', 'rb') as file_handler:\n",
        "  results_df = pickle.load(file_handler)\n",
        "\n",
        "results_df.shape"
      ],
      "execution_count": null,
      "outputs": [
        {
          "output_type": "execute_result",
          "data": {
            "text/plain": [
              "(64, 17)"
            ]
          },
          "metadata": {
            "tags": []
          },
          "execution_count": 8
        }
      ]
    },
    {
      "cell_type": "code",
      "metadata": {
        "colab": {
          "base_uri": "https://localhost:8080/",
          "height": 239
        },
        "id": "fbyxVnqSxvdy",
        "outputId": "2ecb063e-4a44-4d53-da74-943ec26aca14"
      },
      "source": [
        "results_df.sort_values(by='val_acc_A', ascending=False).head()"
      ],
      "execution_count": null,
      "outputs": [
        {
          "output_type": "execute_result",
          "data": {
            "text/html": [
              "<div>\n",
              "<style scoped>\n",
              "    .dataframe tbody tr th:only-of-type {\n",
              "        vertical-align: middle;\n",
              "    }\n",
              "\n",
              "    .dataframe tbody tr th {\n",
              "        vertical-align: top;\n",
              "    }\n",
              "\n",
              "    .dataframe thead th {\n",
              "        text-align: right;\n",
              "    }\n",
              "</style>\n",
              "<table border=\"1\" class=\"dataframe\">\n",
              "  <thead>\n",
              "    <tr style=\"text-align: right;\">\n",
              "      <th></th>\n",
              "      <th>conf_ID</th>\n",
              "      <th>L1_size</th>\n",
              "      <th>L2_size</th>\n",
              "      <th>activation</th>\n",
              "      <th>p_dropout_1</th>\n",
              "      <th>p_dropout_2</th>\n",
              "      <th>optimizer</th>\n",
              "      <th>batch_size</th>\n",
              "      <th>max_epochs</th>\n",
              "      <th>best_epochh</th>\n",
              "      <th>train_acc_A</th>\n",
              "      <th>val_acc_A</th>\n",
              "      <th>min2best</th>\n",
              "      <th>max2best</th>\n",
              "      <th>median2best</th>\n",
              "      <th>train_acc_B</th>\n",
              "      <th>val_acc_B</th>\n",
              "    </tr>\n",
              "  </thead>\n",
              "  <tbody>\n",
              "    <tr>\n",
              "      <th>27</th>\n",
              "      <td>KQeFiZqG</td>\n",
              "      <td>550</td>\n",
              "      <td>75</td>\n",
              "      <td>relu</td>\n",
              "      <td>0.5</td>\n",
              "      <td>0.50</td>\n",
              "      <td>adam-5e-4</td>\n",
              "      <td>512</td>\n",
              "      <td>75</td>\n",
              "      <td>52</td>\n",
              "      <td>0.725633</td>\n",
              "      <td>0.736801</td>\n",
              "      <td>31</td>\n",
              "      <td>60</td>\n",
              "      <td>52</td>\n",
              "      <td>0.721234</td>\n",
              "      <td>0.748400</td>\n",
              "    </tr>\n",
              "    <tr>\n",
              "      <th>4</th>\n",
              "      <td>JzHKJxKW</td>\n",
              "      <td>550</td>\n",
              "      <td>100</td>\n",
              "      <td>relu</td>\n",
              "      <td>0.5</td>\n",
              "      <td>0.25</td>\n",
              "      <td>adam-1e-4</td>\n",
              "      <td>256</td>\n",
              "      <td>75</td>\n",
              "      <td>33</td>\n",
              "      <td>0.742834</td>\n",
              "      <td>0.735598</td>\n",
              "      <td>18</td>\n",
              "      <td>52</td>\n",
              "      <td>33</td>\n",
              "      <td>0.745704</td>\n",
              "      <td>0.748400</td>\n",
              "    </tr>\n",
              "    <tr>\n",
              "      <th>26</th>\n",
              "      <td>gKzBjYBj</td>\n",
              "      <td>550</td>\n",
              "      <td>75</td>\n",
              "      <td>relu</td>\n",
              "      <td>0.5</td>\n",
              "      <td>0.50</td>\n",
              "      <td>adam-5e-4</td>\n",
              "      <td>256</td>\n",
              "      <td>75</td>\n",
              "      <td>40</td>\n",
              "      <td>0.721467</td>\n",
              "      <td>0.734402</td>\n",
              "      <td>36</td>\n",
              "      <td>52</td>\n",
              "      <td>38</td>\n",
              "      <td>0.732002</td>\n",
              "      <td>0.747400</td>\n",
              "    </tr>\n",
              "    <tr>\n",
              "      <th>43</th>\n",
              "      <td>pCqsruJR</td>\n",
              "      <td>400</td>\n",
              "      <td>100</td>\n",
              "      <td>relu</td>\n",
              "      <td>0.5</td>\n",
              "      <td>0.50</td>\n",
              "      <td>adam-5e-4</td>\n",
              "      <td>512</td>\n",
              "      <td>75</td>\n",
              "      <td>40</td>\n",
              "      <td>0.711834</td>\n",
              "      <td>0.734197</td>\n",
              "      <td>37</td>\n",
              "      <td>66</td>\n",
              "      <td>46</td>\n",
              "      <td>0.733101</td>\n",
              "      <td>0.747198</td>\n",
              "    </tr>\n",
              "    <tr>\n",
              "      <th>30</th>\n",
              "      <td>wScrhgQv</td>\n",
              "      <td>550</td>\n",
              "      <td>75</td>\n",
              "      <td>relu</td>\n",
              "      <td>0.5</td>\n",
              "      <td>0.50</td>\n",
              "      <td>rmsprop-5e-4</td>\n",
              "      <td>256</td>\n",
              "      <td>75</td>\n",
              "      <td>49</td>\n",
              "      <td>0.756067</td>\n",
              "      <td>0.733799</td>\n",
              "      <td>32</td>\n",
              "      <td>70</td>\n",
              "      <td>44</td>\n",
              "      <td>0.734366</td>\n",
              "      <td>0.744800</td>\n",
              "    </tr>\n",
              "  </tbody>\n",
              "</table>\n",
              "</div>"
            ],
            "text/plain": [
              "     conf_ID  L1_size  L2_size  ... median2best  train_acc_B  val_acc_B\n",
              "27  KQeFiZqG      550       75  ...          52     0.721234   0.748400\n",
              "4   JzHKJxKW      550      100  ...          33     0.745704   0.748400\n",
              "26  gKzBjYBj      550       75  ...          38     0.732002   0.747400\n",
              "43  pCqsruJR      400      100  ...          46     0.733101   0.747198\n",
              "30  wScrhgQv      550       75  ...          44     0.734366   0.744800\n",
              "\n",
              "[5 rows x 17 columns]"
            ]
          },
          "metadata": {
            "tags": []
          },
          "execution_count": 9
        }
      ]
    },
    {
      "cell_type": "code",
      "metadata": {
        "colab": {
          "base_uri": "https://localhost:8080/",
          "height": 222
        },
        "id": "p839uwp1xvd3",
        "outputId": "76748407-0070-4ff4-dfa3-3a9f9e2664d7"
      },
      "source": [
        "results_df.sort_values(by='val_acc_B', ascending=False).head()"
      ],
      "execution_count": null,
      "outputs": [
        {
          "output_type": "execute_result",
          "data": {
            "text/html": [
              "<div>\n",
              "<style scoped>\n",
              "    .dataframe tbody tr th:only-of-type {\n",
              "        vertical-align: middle;\n",
              "    }\n",
              "\n",
              "    .dataframe tbody tr th {\n",
              "        vertical-align: top;\n",
              "    }\n",
              "\n",
              "    .dataframe thead th {\n",
              "        text-align: right;\n",
              "    }\n",
              "</style>\n",
              "<table border=\"1\" class=\"dataframe\">\n",
              "  <thead>\n",
              "    <tr style=\"text-align: right;\">\n",
              "      <th></th>\n",
              "      <th>conf_ID</th>\n",
              "      <th>L1_size</th>\n",
              "      <th>L2_size</th>\n",
              "      <th>activation</th>\n",
              "      <th>p_dropout_1</th>\n",
              "      <th>p_dropout_2</th>\n",
              "      <th>optimizer</th>\n",
              "      <th>batch_size</th>\n",
              "      <th>max_epochs</th>\n",
              "      <th>best_epochh</th>\n",
              "      <th>train_acc_A</th>\n",
              "      <th>val_acc_A</th>\n",
              "      <th>min2best</th>\n",
              "      <th>max2best</th>\n",
              "      <th>median2best</th>\n",
              "      <th>train_acc_B</th>\n",
              "      <th>val_acc_B</th>\n",
              "    </tr>\n",
              "  </thead>\n",
              "  <tbody>\n",
              "    <tr>\n",
              "      <th>53</th>\n",
              "      <td>MYHWkrFV</td>\n",
              "      <td>400</td>\n",
              "      <td>75</td>\n",
              "      <td>relu</td>\n",
              "      <td>0.5</td>\n",
              "      <td>0.25</td>\n",
              "      <td>adam-1e-4</td>\n",
              "      <td>512</td>\n",
              "      <td>75</td>\n",
              "      <td>37</td>\n",
              "      <td>0.721766</td>\n",
              "      <td>0.730004</td>\n",
              "      <td>26</td>\n",
              "      <td>63</td>\n",
              "      <td>37</td>\n",
              "      <td>0.739101</td>\n",
              "      <td>0.751600</td>\n",
              "    </tr>\n",
              "    <tr>\n",
              "      <th>44</th>\n",
              "      <td>EJYjTOAq</td>\n",
              "      <td>400</td>\n",
              "      <td>100</td>\n",
              "      <td>relu</td>\n",
              "      <td>0.5</td>\n",
              "      <td>0.50</td>\n",
              "      <td>adam-1e-4</td>\n",
              "      <td>256</td>\n",
              "      <td>75</td>\n",
              "      <td>34</td>\n",
              "      <td>0.713633</td>\n",
              "      <td>0.732395</td>\n",
              "      <td>33</td>\n",
              "      <td>59</td>\n",
              "      <td>35</td>\n",
              "      <td>0.741701</td>\n",
              "      <td>0.748801</td>\n",
              "    </tr>\n",
              "    <tr>\n",
              "      <th>8</th>\n",
              "      <td>pJEUGKCU</td>\n",
              "      <td>550</td>\n",
              "      <td>100</td>\n",
              "      <td>relu</td>\n",
              "      <td>0.5</td>\n",
              "      <td>0.50</td>\n",
              "      <td>adam-1e-3</td>\n",
              "      <td>256</td>\n",
              "      <td>75</td>\n",
              "      <td>30</td>\n",
              "      <td>0.697134</td>\n",
              "      <td>0.728802</td>\n",
              "      <td>28</td>\n",
              "      <td>60</td>\n",
              "      <td>39</td>\n",
              "      <td>0.735570</td>\n",
              "      <td>0.748600</td>\n",
              "    </tr>\n",
              "    <tr>\n",
              "      <th>21</th>\n",
              "      <td>nVhBMnAy</td>\n",
              "      <td>550</td>\n",
              "      <td>75</td>\n",
              "      <td>relu</td>\n",
              "      <td>0.5</td>\n",
              "      <td>0.25</td>\n",
              "      <td>adam-1e-4</td>\n",
              "      <td>512</td>\n",
              "      <td>75</td>\n",
              "      <td>48</td>\n",
              "      <td>0.754600</td>\n",
              "      <td>0.729801</td>\n",
              "      <td>24</td>\n",
              "      <td>67</td>\n",
              "      <td>43</td>\n",
              "      <td>0.746436</td>\n",
              "      <td>0.748402</td>\n",
              "    </tr>\n",
              "    <tr>\n",
              "      <th>27</th>\n",
              "      <td>KQeFiZqG</td>\n",
              "      <td>550</td>\n",
              "      <td>75</td>\n",
              "      <td>relu</td>\n",
              "      <td>0.5</td>\n",
              "      <td>0.50</td>\n",
              "      <td>adam-5e-4</td>\n",
              "      <td>512</td>\n",
              "      <td>75</td>\n",
              "      <td>52</td>\n",
              "      <td>0.725633</td>\n",
              "      <td>0.736801</td>\n",
              "      <td>31</td>\n",
              "      <td>60</td>\n",
              "      <td>52</td>\n",
              "      <td>0.721234</td>\n",
              "      <td>0.748400</td>\n",
              "    </tr>\n",
              "  </tbody>\n",
              "</table>\n",
              "</div>"
            ],
            "text/plain": [
              "     conf_ID  L1_size  L2_size  ... median2best  train_acc_B  val_acc_B\n",
              "53  MYHWkrFV      400       75  ...          37     0.739101   0.751600\n",
              "44  EJYjTOAq      400      100  ...          35     0.741701   0.748801\n",
              "8   pJEUGKCU      550      100  ...          39     0.735570   0.748600\n",
              "21  nVhBMnAy      550       75  ...          43     0.746436   0.748402\n",
              "27  KQeFiZqG      550       75  ...          52     0.721234   0.748400\n",
              "\n",
              "[5 rows x 17 columns]"
            ]
          },
          "metadata": {
            "tags": []
          },
          "execution_count": 10
        }
      ]
    },
    {
      "cell_type": "markdown",
      "metadata": {
        "id": "IDJ2TNIiEjSN"
      },
      "source": [
        "# Resources\n",
        "\n",
        "* Mini batch size selection: [1](https://datascience.stackexchange.com/questions/18414/are-there-any-rules-for-choosing-the-size-of-a-mini-batch), [2](https://www.quora.com/In-deep-learning-why-dont-we-use-the-whole-training-set-to-compute-the-gradient), [3](https://stats.stackexchange.com/questions/164876/what-is-the-trade-off-between-batch-size-and-number-of-iterations-to-train-a-neu)\n",
        "* Optimizers: [1](https://ai.stackexchange.com/questions/18206/what-kind-of-optimizer-is-suggested-to-use-for-binary-classification-of-similar)\n",
        "* RMSprop: [1](https://towardsdatascience.com/understanding-rmsprop-faster-neural-network-learning-62e116fcf29a)\n",
        "* Number of Hidden Layers: [1](https://stats.stackexchange.com/questions/181/how-to-choose-the-number-of-hidden-layers-and-nodes-in-a-feedforward-neural-netw)\n",
        "\n",
        "    \n"
      ]
    },
    {
      "cell_type": "markdown",
      "metadata": {
        "id": "mAWiBjjWaSx2"
      },
      "source": [
        "# SANDBOX"
      ]
    },
    {
      "cell_type": "code",
      "metadata": {
        "id": "t43bBiDo_7i3"
      },
      "source": [
        "import pickle"
      ],
      "execution_count": null,
      "outputs": []
    },
    {
      "cell_type": "code",
      "metadata": {
        "id": "t1cNpd33bp2A"
      },
      "source": [
        "with open('./Results/final/HTA_MERGED_TEST_RESULTS.df', 'rb') as file_handler:\n",
        "  merged_results = pickle.load(file_handler)"
      ],
      "execution_count": null,
      "outputs": []
    },
    {
      "cell_type": "code",
      "metadata": {
        "colab": {
          "base_uri": "https://localhost:8080/",
          "height": 540
        },
        "id": "4n6hhyIZbp2B",
        "outputId": "9dcc013a-a3c7-4262-a235-06ac327a1f1e"
      },
      "source": [
        "arch_mask = merged_results.architecture=='CNN-2'\n",
        "global_mask = merged_results.model_type.isin(['G', 'E1', 'E2'])\n",
        "merged_results.loc[arch_mask & global_mask].head(20)"
      ],
      "execution_count": null,
      "outputs": [
        {
          "output_type": "execute_result",
          "data": {
            "text/html": [
              "<div>\n",
              "<style scoped>\n",
              "    .dataframe tbody tr th:only-of-type {\n",
              "        vertical-align: middle;\n",
              "    }\n",
              "\n",
              "    .dataframe tbody tr th {\n",
              "        vertical-align: top;\n",
              "    }\n",
              "\n",
              "    .dataframe thead th {\n",
              "        text-align: right;\n",
              "    }\n",
              "</style>\n",
              "<table border=\"1\" class=\"dataframe\">\n",
              "  <thead>\n",
              "    <tr style=\"text-align: right;\">\n",
              "      <th></th>\n",
              "      <th>conf_id</th>\n",
              "      <th>tm_ID</th>\n",
              "      <th>model_type</th>\n",
              "      <th>architecture</th>\n",
              "      <th>A_acc</th>\n",
              "      <th>B1_acc</th>\n",
              "      <th>B2_acc</th>\n",
              "      <th>A1_f1</th>\n",
              "      <th>B1_f1</th>\n",
              "      <th>B2_f1</th>\n",
              "      <th>F1_multi</th>\n",
              "      <th>EMR</th>\n",
              "    </tr>\n",
              "  </thead>\n",
              "  <tbody>\n",
              "    <tr>\n",
              "      <th>147</th>\n",
              "      <td>xCdcvedN</td>\n",
              "      <td>NaN</td>\n",
              "      <td>G</td>\n",
              "      <td>CNN-2</td>\n",
              "      <td>0.708750</td>\n",
              "      <td>0.856875</td>\n",
              "      <td>0.700625</td>\n",
              "      <td>0.708312</td>\n",
              "      <td>0.808042</td>\n",
              "      <td>0.685307</td>\n",
              "      <td>0.733887</td>\n",
              "      <td>0.600000</td>\n",
              "    </tr>\n",
              "    <tr>\n",
              "      <th>148</th>\n",
              "      <td>xCdcvedN</td>\n",
              "      <td>NaN</td>\n",
              "      <td>E1</td>\n",
              "      <td>CNN-2</td>\n",
              "      <td>0.761875</td>\n",
              "      <td>0.864375</td>\n",
              "      <td>0.762500</td>\n",
              "      <td>0.748953</td>\n",
              "      <td>0.811570</td>\n",
              "      <td>0.730148</td>\n",
              "      <td>0.763557</td>\n",
              "      <td>0.690625</td>\n",
              "    </tr>\n",
              "    <tr>\n",
              "      <th>149</th>\n",
              "      <td>xCdcvedN</td>\n",
              "      <td>NaN</td>\n",
              "      <td>E2</td>\n",
              "      <td>CNN-2</td>\n",
              "      <td>0.758750</td>\n",
              "      <td>0.865000</td>\n",
              "      <td>0.759375</td>\n",
              "      <td>0.746333</td>\n",
              "      <td>0.811918</td>\n",
              "      <td>0.727265</td>\n",
              "      <td>0.761839</td>\n",
              "      <td>0.686250</td>\n",
              "    </tr>\n",
              "    <tr>\n",
              "      <th>157</th>\n",
              "      <td>YBJbUNaX</td>\n",
              "      <td>NaN</td>\n",
              "      <td>G</td>\n",
              "      <td>CNN-2</td>\n",
              "      <td>0.747500</td>\n",
              "      <td>0.852500</td>\n",
              "      <td>0.754375</td>\n",
              "      <td>0.741488</td>\n",
              "      <td>0.809815</td>\n",
              "      <td>0.729522</td>\n",
              "      <td>0.760275</td>\n",
              "      <td>0.670000</td>\n",
              "    </tr>\n",
              "    <tr>\n",
              "      <th>158</th>\n",
              "      <td>YBJbUNaX</td>\n",
              "      <td>NaN</td>\n",
              "      <td>E1</td>\n",
              "      <td>CNN-2</td>\n",
              "      <td>0.761250</td>\n",
              "      <td>0.861250</td>\n",
              "      <td>0.767500</td>\n",
              "      <td>0.746333</td>\n",
              "      <td>0.804878</td>\n",
              "      <td>0.732046</td>\n",
              "      <td>0.761086</td>\n",
              "      <td>0.693125</td>\n",
              "    </tr>\n",
              "    <tr>\n",
              "      <th>159</th>\n",
              "      <td>YBJbUNaX</td>\n",
              "      <td>NaN</td>\n",
              "      <td>E2</td>\n",
              "      <td>CNN-2</td>\n",
              "      <td>0.756250</td>\n",
              "      <td>0.860625</td>\n",
              "      <td>0.758750</td>\n",
              "      <td>0.742946</td>\n",
              "      <td>0.803814</td>\n",
              "      <td>0.725345</td>\n",
              "      <td>0.757368</td>\n",
              "      <td>0.683125</td>\n",
              "    </tr>\n",
              "    <tr>\n",
              "      <th>167</th>\n",
              "      <td>WFNrfnfd</td>\n",
              "      <td>NaN</td>\n",
              "      <td>G</td>\n",
              "      <td>CNN-2</td>\n",
              "      <td>0.720000</td>\n",
              "      <td>0.850000</td>\n",
              "      <td>0.806875</td>\n",
              "      <td>0.663005</td>\n",
              "      <td>0.779204</td>\n",
              "      <td>0.732174</td>\n",
              "      <td>0.724795</td>\n",
              "      <td>0.702500</td>\n",
              "    </tr>\n",
              "    <tr>\n",
              "      <th>168</th>\n",
              "      <td>WFNrfnfd</td>\n",
              "      <td>NaN</td>\n",
              "      <td>E1</td>\n",
              "      <td>CNN-2</td>\n",
              "      <td>0.764375</td>\n",
              "      <td>0.861250</td>\n",
              "      <td>0.784375</td>\n",
              "      <td>0.747555</td>\n",
              "      <td>0.805246</td>\n",
              "      <td>0.747279</td>\n",
              "      <td>0.766693</td>\n",
              "      <td>0.701875</td>\n",
              "    </tr>\n",
              "    <tr>\n",
              "      <th>169</th>\n",
              "      <td>WFNrfnfd</td>\n",
              "      <td>NaN</td>\n",
              "      <td>E2</td>\n",
              "      <td>CNN-2</td>\n",
              "      <td>0.768750</td>\n",
              "      <td>0.858125</td>\n",
              "      <td>0.775000</td>\n",
              "      <td>0.753497</td>\n",
              "      <td>0.799915</td>\n",
              "      <td>0.738182</td>\n",
              "      <td>0.763865</td>\n",
              "      <td>0.697500</td>\n",
              "    </tr>\n",
              "    <tr>\n",
              "      <th>177</th>\n",
              "      <td>GWVBtYHV</td>\n",
              "      <td>NaN</td>\n",
              "      <td>G</td>\n",
              "      <td>CNN-2</td>\n",
              "      <td>0.741875</td>\n",
              "      <td>0.850000</td>\n",
              "      <td>0.798125</td>\n",
              "      <td>0.703594</td>\n",
              "      <td>0.777340</td>\n",
              "      <td>0.736659</td>\n",
              "      <td>0.739198</td>\n",
              "      <td>0.705625</td>\n",
              "    </tr>\n",
              "    <tr>\n",
              "      <th>178</th>\n",
              "      <td>GWVBtYHV</td>\n",
              "      <td>NaN</td>\n",
              "      <td>E1</td>\n",
              "      <td>CNN-2</td>\n",
              "      <td>0.768125</td>\n",
              "      <td>0.862500</td>\n",
              "      <td>0.767500</td>\n",
              "      <td>0.756261</td>\n",
              "      <td>0.811875</td>\n",
              "      <td>0.736346</td>\n",
              "      <td>0.768161</td>\n",
              "      <td>0.693750</td>\n",
              "    </tr>\n",
              "    <tr>\n",
              "      <th>179</th>\n",
              "      <td>GWVBtYHV</td>\n",
              "      <td>NaN</td>\n",
              "      <td>E2</td>\n",
              "      <td>CNN-2</td>\n",
              "      <td>0.759375</td>\n",
              "      <td>0.859375</td>\n",
              "      <td>0.760625</td>\n",
              "      <td>0.747499</td>\n",
              "      <td>0.807085</td>\n",
              "      <td>0.729725</td>\n",
              "      <td>0.761436</td>\n",
              "      <td>0.685000</td>\n",
              "    </tr>\n",
              "    <tr>\n",
              "      <th>187</th>\n",
              "      <td>PZKzUveQ</td>\n",
              "      <td>NaN</td>\n",
              "      <td>G</td>\n",
              "      <td>CNN-2</td>\n",
              "      <td>0.726875</td>\n",
              "      <td>0.835000</td>\n",
              "      <td>0.746875</td>\n",
              "      <td>0.699986</td>\n",
              "      <td>0.739737</td>\n",
              "      <td>0.689660</td>\n",
              "      <td>0.709794</td>\n",
              "      <td>0.661875</td>\n",
              "    </tr>\n",
              "    <tr>\n",
              "      <th>188</th>\n",
              "      <td>PZKzUveQ</td>\n",
              "      <td>NaN</td>\n",
              "      <td>E1</td>\n",
              "      <td>CNN-2</td>\n",
              "      <td>0.759375</td>\n",
              "      <td>0.865625</td>\n",
              "      <td>0.753125</td>\n",
              "      <td>0.748065</td>\n",
              "      <td>0.812962</td>\n",
              "      <td>0.722048</td>\n",
              "      <td>0.761025</td>\n",
              "      <td>0.682500</td>\n",
              "    </tr>\n",
              "    <tr>\n",
              "      <th>189</th>\n",
              "      <td>PZKzUveQ</td>\n",
              "      <td>NaN</td>\n",
              "      <td>E2</td>\n",
              "      <td>CNN-2</td>\n",
              "      <td>0.753750</td>\n",
              "      <td>0.860625</td>\n",
              "      <td>0.747500</td>\n",
              "      <td>0.742104</td>\n",
              "      <td>0.804918</td>\n",
              "      <td>0.715581</td>\n",
              "      <td>0.754201</td>\n",
              "      <td>0.676250</td>\n",
              "    </tr>\n",
              "  </tbody>\n",
              "</table>\n",
              "</div>"
            ],
            "text/plain": [
              "      conf_id tm_ID model_type  ...     B2_f1  F1_multi       EMR\n",
              "147  xCdcvedN   NaN          G  ...  0.685307  0.733887  0.600000\n",
              "148  xCdcvedN   NaN         E1  ...  0.730148  0.763557  0.690625\n",
              "149  xCdcvedN   NaN         E2  ...  0.727265  0.761839  0.686250\n",
              "157  YBJbUNaX   NaN          G  ...  0.729522  0.760275  0.670000\n",
              "158  YBJbUNaX   NaN         E1  ...  0.732046  0.761086  0.693125\n",
              "159  YBJbUNaX   NaN         E2  ...  0.725345  0.757368  0.683125\n",
              "167  WFNrfnfd   NaN          G  ...  0.732174  0.724795  0.702500\n",
              "168  WFNrfnfd   NaN         E1  ...  0.747279  0.766693  0.701875\n",
              "169  WFNrfnfd   NaN         E2  ...  0.738182  0.763865  0.697500\n",
              "177  GWVBtYHV   NaN          G  ...  0.736659  0.739198  0.705625\n",
              "178  GWVBtYHV   NaN         E1  ...  0.736346  0.768161  0.693750\n",
              "179  GWVBtYHV   NaN         E2  ...  0.729725  0.761436  0.685000\n",
              "187  PZKzUveQ   NaN          G  ...  0.689660  0.709794  0.661875\n",
              "188  PZKzUveQ   NaN         E1  ...  0.722048  0.761025  0.682500\n",
              "189  PZKzUveQ   NaN         E2  ...  0.715581  0.754201  0.676250\n",
              "\n",
              "[15 rows x 12 columns]"
            ]
          },
          "metadata": {
            "tags": []
          },
          "execution_count": 12
        }
      ]
    },
    {
      "cell_type": "markdown",
      "metadata": {
        "id": "y0KadG6bM3qM"
      },
      "source": [
        "# NN TRAINING A GLOBAL CLASSIFIER"
      ]
    },
    {
      "cell_type": "markdown",
      "metadata": {
        "id": "5m9d9sOgM3qX"
      },
      "source": [
        "## Dataset"
      ]
    },
    {
      "cell_type": "code",
      "metadata": {
        "colab": {
          "base_uri": "https://localhost:8080/"
        },
        "id": "ANG0pfOPM3qZ",
        "outputId": "50bc56fb-b5af-40b3-8364-61652a14489c"
      },
      "source": [
        "X_train, Y_train = dataset_utils.loadEncodedTrainData(embedding_type='FT3',\n",
        "                                                 encoding_format='SINGLE-VEC',\n",
        "                                                 labels_to_return=['HTA'],\n",
        "                                                 n_folds=7)"
      ],
      "execution_count": null,
      "outputs": [
        {
          "output_type": "stream",
          "text": [
            "FastText 3 - Spanish Unannotated Corpora\n",
            "Encoding Format: SINGLE-VEC\n",
            "\n",
            "Process complete\n",
            "5000 train instances retrieved\n",
            "\n",
            "encodings_dim = (300,)\n"
          ],
          "name": "stdout"
        }
      ]
    },
    {
      "cell_type": "code",
      "metadata": {
        "id": "9tykaqR_Az0t"
      },
      "source": [
        "import numpy as np"
      ],
      "execution_count": null,
      "outputs": []
    },
    {
      "cell_type": "code",
      "metadata": {
        "id": "OeBbRIG4Al1S"
      },
      "source": [
        "X_train_merged = np.concatenate([X_train[i] for i in range(7)], axis=0)"
      ],
      "execution_count": null,
      "outputs": []
    },
    {
      "cell_type": "code",
      "metadata": {
        "id": "uenAqRSBbkKK"
      },
      "source": [
        "import tensorflow as tf"
      ],
      "execution_count": null,
      "outputs": []
    },
    {
      "cell_type": "code",
      "metadata": {
        "id": "JpUekAqSA-gd"
      },
      "source": [
        "Y_train_labels = Y_train['HTA']\n",
        "Y_train_labels = tf.keras.utils.to_categorical(Y_train_labels, num_classes=5)"
      ],
      "execution_count": null,
      "outputs": []
    },
    {
      "cell_type": "markdown",
      "metadata": {
        "id": "LniwSmIxBut7"
      },
      "source": [
        "## GETTING THE KERAS MODEL"
      ]
    },
    {
      "cell_type": "code",
      "metadata": {
        "id": "2mwaCQkXdJPo"
      },
      "source": [
        "XVMKseLS\t300\t75\trelu\t0.5\t0.5\trmsprop-1e-3\t512\t100\t46"
      ],
      "execution_count": null,
      "outputs": []
    },
    {
      "cell_type": "code",
      "metadata": {
        "id": "Kq8radWxBt53"
      },
      "source": [
        "arch_params= {\n",
        "    'L1_size': 300,                    \n",
        "    'L2_size': 75,                \n",
        "    'activation':'relu',                                    \n",
        "    'p_dropout_1': 0.5,\n",
        "    'p_dropout_2': 0.5                                \n",
        "}\n",
        "\n",
        "import tensorflow.keras.optimizers as keras_optimizers\n",
        "optimizer = keras_optimizers.Adam(learning_rate=0.001)\n",
        "\n",
        "my_keras_model = fcNeuralNetworkModel('HTA', arch_params, optimizer, verbose=True)"
      ],
      "execution_count": null,
      "outputs": []
    },
    {
      "cell_type": "markdown",
      "metadata": {
        "id": "3iPKAv_BCcHb"
      },
      "source": [
        "## FITTING THE KERAS MODEL"
      ]
    },
    {
      "cell_type": "code",
      "metadata": {
        "id": "AFdsJHjuCWxS"
      },
      "source": [
        "my_keras_model.fit(x=X_train_merged, \n",
        "            y=Y_train_labels,\n",
        "            epochs=2,\n",
        "            batch_size=512,\n",
        "            verbose=2)"
      ],
      "execution_count": null,
      "outputs": []
    },
    {
      "cell_type": "markdown",
      "metadata": {
        "id": "biTlP5uUGSo9"
      },
      "source": [
        "## TESTING"
      ]
    },
    {
      "cell_type": "code",
      "metadata": {
        "id": "k2e3Ze4XHHGW"
      },
      "source": [
        "def loadEncodedTestData(embedding_type, encoding_format, labels_to_return):\n",
        "  \"\"\" \n",
        "  Loads encoded test dataset from drive.\n",
        "  \n",
        "  Input:\n",
        "  embedding_type   - str, valid_types = ['FT1', 'FT2', 'FT3', 'W2V100', 'W2V300', 'GloVe100', 'GloVe300']\n",
        "  encoding_format  - str, valid_foramts = ['SINGLE-VEC', 'EMB-SEQ']\n",
        "\n",
        "  Output:\n",
        "  (X_test, Y_test) -- tuple containing the encoded dataset\n",
        "\n",
        "  --\n",
        "  X_train   - list[numpy_array], encoded train-set partitioned in K subsets\n",
        "  Y_train   - DataFrame, train set labels\n",
        "  X_test    - list[numpy_array], encoded test-set\n",
        "  Y_tes     - DataFrame, test set labels\n",
        "\n",
        "  \"\"\"\n",
        "  valid_embedding_types = ['FT1', 'FT2', 'FT3', 'W2V100', 'W2V300', 'GloVe100', 'GloVe300']\n",
        "  valid_encoding_format_options = ['SINGLE-VEC', 'EMB-SEQ']\n",
        "\n",
        "  if embedding_type not in valid_embedding_types:\n",
        "    print('Invalid embedding_type option. No data was returned.\\n')\n",
        "    print('...')\n",
        "    print(\"Valid embedding types: ['FT1', 'FT2', 'FT3', 'W2V100', 'W2V300', 'GloVe100', 'GloVe300']\")\n",
        "    return (None, None)\n",
        "\n",
        "  if encoding_format not in valid_encoding_format_options:\n",
        "    print('Invalid format option. No data was returned.\\n')\n",
        "    print('...')\n",
        "    print(\"Valid formats: ['SINGLE-VEC', 'EMB-SEQ']\")\n",
        "    return (None, None)\n",
        "\n",
        "  EMBEDDINGS_INFO = {'FT1':'FastText 1 - Common Crawl + Wikipedia',\n",
        "                    'FT2':'FastText 2 - Esp. Wikipedia',\n",
        "                    'FT3':'FastText 3 - Spanish Unannotated Corpora',\n",
        "                    'W2V300':'W2V 300d - Spanish Unannotated Corpora',\n",
        "                    'W2V100':'W2V 100d - Spanish CoNLL',\n",
        "                    'GloVe300':'GloVe 300d - Spanish Billion Word Corpus',\n",
        "                    'GloVe100':'GloVe 100d - Spanish Billion Word Corpus'}\n",
        "\n",
        "  embedding_info = EMBEDDINGS_INFO[embedding_type]\n",
        "\n",
        "  print(embedding_info)\n",
        "  print('Encoding Format: {}'.format(encoding_format))\n",
        "\n",
        "  import pandas as pd\n",
        "  prep_format = 2\n",
        "\n",
        "  # DATA\n",
        "  file_name = '{}_TEST_P{}.data'.format(embedding_type, prep_format)\n",
        "  with open('./dataset_files/Encoded/{}/{}'.format(encoding_format,file_name), 'rb') as filehandle:\n",
        "    encoded_test_data = pickle.load(filehandle)\n",
        "\n",
        "  # LABELS\n",
        "  test_dataset_df = pd.read_pickle('./dataset_files/preprocessed_test_dataset.data', None)\n",
        "  test_labels = test_dataset_df.loc[:,labels_to_return]\n",
        "\n",
        "  print('\\nProcess complete')\n",
        "  print('{} test instances retrieved'.format(len(encoded_test_data)))\n",
        "\n",
        "  # Check encodings dimensions\n",
        "  encodings_dim = encoded_test_data.shape\n",
        "\n",
        "  print('\\nencodings_dim = {}'.format(encodings_dim[1:]))\n",
        "\n",
        "  return(encoded_test_data, test_labels)"
      ],
      "execution_count": null,
      "outputs": []
    },
    {
      "cell_type": "code",
      "metadata": {
        "id": "hq2LI_IUcDK8"
      },
      "source": [
        "import pickle"
      ],
      "execution_count": null,
      "outputs": []
    },
    {
      "cell_type": "code",
      "metadata": {
        "id": "3_9SoIfqGUvW"
      },
      "source": [
        "X_test, Y_test = loadEncodedTestData(embedding_type='FT3',\n",
        "                                    encoding_format='SINGLE-VEC',\n",
        "                                    labels_to_return=['HTA'])"
      ],
      "execution_count": null,
      "outputs": []
    },
    {
      "cell_type": "code",
      "metadata": {
        "id": "js-Q7-UqHa4f"
      },
      "source": [
        "X_test.shape"
      ],
      "execution_count": null,
      "outputs": []
    },
    {
      "cell_type": "code",
      "metadata": {
        "id": "u0s3YJ0WHOnr"
      },
      "source": [
        "target = tf.keras.utils.to_categorical(Y_test['HTA'], num_classes=5)\n",
        "predicted  = np.where(my_keras_model.predict(X_test) > 0.5, 1, 0)"
      ],
      "execution_count": null,
      "outputs": []
    },
    {
      "cell_type": "code",
      "metadata": {
        "id": "8bhQy-uQF8KO"
      },
      "source": [
        "from sklearn.metrics import accuracy_score, precision_score, recall_score, f1_score\n",
        "\n",
        "accuracy_s = accuracy_score(target, predicted)\n",
        "A_f1 = f1_score(target, predicted, average=\"macro\")"
      ],
      "execution_count": null,
      "outputs": []
    },
    {
      "cell_type": "code",
      "metadata": {
        "id": "BjZk_AFEHvlC"
      },
      "source": [
        "accuracy_s, A_f1"
      ],
      "execution_count": null,
      "outputs": []
    }
  ]
}