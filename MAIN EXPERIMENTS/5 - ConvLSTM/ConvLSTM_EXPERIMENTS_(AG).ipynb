{
  "nbformat": 4,
  "nbformat_minor": 0,
  "metadata": {
    "colab": {
      "name": "ConvLSTM_EXPERIMENTS_(AG).ipynb",
      "provenance": [],
      "toc_visible": true
    },
    "kernelspec": {
      "name": "python3",
      "display_name": "Python 3"
    },
    "language_info": {
      "name": "python"
    }
  },
  "cells": [
    {
      "cell_type": "markdown",
      "metadata": {
        "id": "Zux5pPqB8VHo"
      },
      "source": [
        "# --- CHECK COMPLETE ---"
      ]
    },
    {
      "cell_type": "markdown",
      "metadata": {
        "id": "q5EmzImyiRQR"
      },
      "source": [
        "# Ajustes iniciales"
      ]
    },
    {
      "cell_type": "markdown",
      "metadata": {
        "id": "UwqNcg7jbu2l"
      },
      "source": [
        "## Conexión a drive"
      ]
    },
    {
      "cell_type": "code",
      "metadata": {
        "colab": {
          "base_uri": "https://localhost:8080/"
        },
        "id": "9afjizYkZgZB",
        "outputId": "75cabc88-7b83-46a7-9bcc-f17a4a2a223b"
      },
      "source": [
        "from google.colab import drive\n",
        "drive.mount('/content/drive')"
      ],
      "execution_count": 1,
      "outputs": [
        {
          "output_type": "stream",
          "text": [
            "Mounted at /content/drive\n"
          ],
          "name": "stdout"
        }
      ]
    },
    {
      "cell_type": "code",
      "metadata": {
        "id": "W9X3nCv_NaxP",
        "colab": {
          "base_uri": "https://localhost:8080/"
        },
        "outputId": "cc6d1cc1-5f93-43ac-bba4-62100ade865e"
      },
      "source": [
        "%cd ./drive/MyDrive/Colab Notebooks"
      ],
      "execution_count": 2,
      "outputs": [
        {
          "output_type": "stream",
          "text": [
            "/content/drive/MyDrive/Colab Notebooks\n"
          ],
          "name": "stdout"
        }
      ]
    },
    {
      "cell_type": "code",
      "metadata": {
        "colab": {
          "base_uri": "https://localhost:8080/",
          "height": 35
        },
        "id": "RU4dYtys-h5M",
        "outputId": "e477ada8-29eb-4adb-d78e-59f0e9f6efb7"
      },
      "source": [
        "%pwd"
      ],
      "execution_count": 3,
      "outputs": [
        {
          "output_type": "execute_result",
          "data": {
            "application/vnd.google.colaboratory.intrinsic+json": {
              "type": "string"
            },
            "text/plain": [
              "'/content/drive/MyDrive/Colab Notebooks'"
            ]
          },
          "metadata": {
            "tags": []
          },
          "execution_count": 3
        }
      ]
    },
    {
      "cell_type": "markdown",
      "metadata": {
        "id": "8fz70fVKJJ11"
      },
      "source": [
        "## Importar los módulos *_utils"
      ]
    },
    {
      "cell_type": "code",
      "metadata": {
        "id": "kpxrXFaJ4fxr"
      },
      "source": [
        "import sys\n",
        "sys.path.append('/content/drive/My Drive/Colab Notebooks/')\n",
        "from my_utils import dataset_utils\n",
        "from my_utils import eval_utils\n",
        "from my_utils import nn_utils\n",
        "from my_utils import results_utils"
      ],
      "execution_count": 4,
      "outputs": []
    },
    {
      "cell_type": "code",
      "metadata": {
        "id": "Jcdhuxpmcmbw"
      },
      "source": [
        "import pickle"
      ],
      "execution_count": 5,
      "outputs": []
    },
    {
      "cell_type": "markdown",
      "metadata": {
        "id": "-J6Rmj_pDqIQ"
      },
      "source": [
        "# Funciones locales"
      ]
    },
    {
      "cell_type": "markdown",
      "metadata": {
        "id": "2B41WbqORcif"
      },
      "source": [
        "## Prototipos de modelo\n",
        "\n",
        "The requirements to use the cuDNN implementation are:\n",
        "\n",
        "1. activation == tanh\n",
        "2. recurrent_activation == sigmoid\n",
        "3. recurrent_dropout == 0\n",
        "4. unroll is False\n",
        "5. use_bias is True\n",
        "6. Inputs, if use masking, are strictly right-padded.\n",
        "7. Eager execution is enabled in the outermost context.\n",
        "\n",
        "Check: KERAS docs [https://keras.io/api/layers/recurrent_layers/lstm/]\n",
        "\n"
      ]
    },
    {
      "cell_type": "markdown",
      "metadata": {
        "id": "4Q4a-v1Refx1"
      },
      "source": [
        "### RecurrentLSTM"
      ]
    },
    {
      "cell_type": "code",
      "metadata": {
        "id": "Cr8EmWPwEP8G"
      },
      "source": [
        "from tensorflow import keras\n",
        "from tensorflow.keras import layers\n",
        "\n",
        "def recurrentLSTM_NetModel(task, params, optimizer, verbose = False):\n",
        "  \"\"\"\n",
        "  Defines and compiles a new Keras model for a Convolutional Neural Network\n",
        "\n",
        "  \"\"\"\n",
        "\n",
        "  SEQ_LENGTH = 55\n",
        "  VEC_EMBEDDINGS_DIM = 300\n",
        "\n",
        "  units_lstm = params['units_lstm']\n",
        "  merge_mode = params['merge_mode']\n",
        "\n",
        "  n_filters  = params['n_filters']\n",
        "  kernel_size_1, kernel_size_2, kernel_size_3 = params['kernels_sizes']\n",
        "  conv_activation = params['conv_activation'] \n",
        "  units_DL1, units_DL2 = params['dense_layers_sizes']\n",
        "\n",
        "  lstm_dropout  = params['lstm_dropout']\n",
        "  spatial_dropout = params['spatial_dropout']\n",
        "  dense_dropout = params['dense_dropout']\n",
        "\n",
        "  embedding_sequence_input = keras.Input(name='INPUT',\n",
        "                                          shape=(SEQ_LENGTH, VEC_EMBEDDINGS_DIM), \n",
        "                                          dtype=\"float64\")\n",
        "  \n",
        "  LSTM_layer    = layers.LSTM(units=units_lstm, dropout=lstm_dropout, recurrent_dropout=0, return_sequences=True, name='LSTM')\n",
        "  BiLSTM_layer  = layers.Bidirectional(LSTM_layer, merge_mode, name='BI-LSTM')\n",
        "\n",
        "  lstm_out = BiLSTM_layer(embedding_sequence_input)\n",
        "\n",
        "  cnn_1 = layers.Conv1D(n_filters, kernel_size_1, activation=conv_activation, name = 'CNN_1')(lstm_out)\n",
        "  cnn_1 = layers.SpatialDropout1D(spatial_dropout, name = 'SPATIAL_DROPOUT_1')(cnn_1)\n",
        "\n",
        "  cnn_2 = layers.Conv1D(n_filters, kernel_size_2, activation=conv_activation, name = 'CNN_2')(lstm_out)\n",
        "  cnn_2 = layers.SpatialDropout1D(spatial_dropout, name = 'SPATIAL_DROPOUT_2')(cnn_2)\n",
        "\n",
        "  cnn_3 = layers.Conv1D(n_filters, kernel_size_3, activation=conv_activation, name = 'CNN_3')(lstm_out)\n",
        "  cnn_3 = layers.SpatialDropout1D(spatial_dropout, name = 'SPATIAL_DROPOUT_3')(cnn_3)\n",
        "\n",
        "\n",
        "  if params['pooling_method'] == 'max':\n",
        "    pool_1 = layers.GlobalMaxPooling1D(name = 'MAX_POOL_1')(cnn_1)\n",
        "    pool_2 = layers.GlobalMaxPooling1D(name = 'MAX_POOL_2')(cnn_2)\n",
        "    pool_3 = layers.GlobalMaxPooling1D(name = 'MAX_POOL_3')(cnn_3)\n",
        "  elif params['pooling_method'] == 'average':\n",
        "    pool_1 = layers.GlobalAveragePooling1D(name = 'AVG_POOL_1')(cnn_1)\n",
        "    pool_2 = layers.GlobalAveragePooling1D(name = 'AVG_POOL_2')(cnn_2)\n",
        "    pool_3 = layers.GlobalAveragePooling1D(name = 'AVG_POOL_3')(cnn_3)\n",
        "\n",
        "  fcnn_input = layers.Concatenate(axis=1, name = 'CONCATENATE')([pool_1, pool_2, pool_3])\n",
        "  fc_layer_1 = layers.Dense(units_DL1, activation=\"relu\", name = 'DL_1')(fcnn_input)\n",
        "  fc_layer_1 = layers.Dropout(dense_dropout, name = 'DROP_1')(fc_layer_1)\n",
        "  fc_layer_2 = layers.Dense(units_DL2, activation=\"relu\", name = 'DL_2')(fc_layer_1)\n",
        "  fc_layer_2 = layers.Dropout(dense_dropout, name = 'DROP_2')(fc_layer_2)\n",
        "\n",
        "  if task in ['HS', 'TR', 'AG']:\n",
        "    preds = layers.Dense(1, activation=\"sigmoid\", name = 'PREDICTOR')(fc_layer_2)\n",
        "    model = keras.Model(embedding_sequence_input, preds)\n",
        "\n",
        "    model.compile(loss=\"binary_crossentropy\", optimizer=optimizer, metrics=[\"acc\"])\n",
        "\n",
        "  elif task == 'HTA':\n",
        "    preds = layers.Dense(5, activation=\"softmax\", name = 'PREDICTOR')(fc_layer_2)\n",
        "    preds = reshape = layers.Reshape(target_shape=(5,))(preds)\n",
        "\n",
        "    model = keras.Model(embedding_sequence_input, preds)\n",
        "    model.compile(loss=\"categorical_crossentropy\", optimizer=optimizer, metrics=[\"acc\"])\n",
        "\n",
        "  if verbose:\n",
        "    model.summary()\n",
        "\n",
        "  return model"
      ],
      "execution_count": 6,
      "outputs": []
    },
    {
      "cell_type": "markdown",
      "metadata": {
        "id": "BbhAkIttjT9l"
      },
      "source": [
        "## Dataset"
      ]
    },
    {
      "cell_type": "code",
      "metadata": {
        "colab": {
          "base_uri": "https://localhost:8080/"
        },
        "id": "lzw_z-RgjT9m",
        "outputId": "386eedef-9cb4-4763-cfe7-86b49d9cd678"
      },
      "source": [
        "X_train, Y_train = dataset_utils.loadEncodedTrainData(embedding_type='FT3',\n",
        "                                                 encoding_format='EMB-SEQ',\n",
        "                                                 labels_to_return=['AG'],\n",
        "                                                 n_folds=7)"
      ],
      "execution_count": 7,
      "outputs": [
        {
          "output_type": "stream",
          "text": [
            "FastText 3 - Spanish Unannotated Corpora\n",
            "Encoding Format: EMB-SEQ\n",
            "\n",
            "Process complete\n",
            "5000 train instances retrieved\n",
            "\n",
            "encodings_dim = (55, 300)\n"
          ],
          "name": "stdout"
        }
      ]
    },
    {
      "cell_type": "markdown",
      "metadata": {
        "id": "SzjCt2gqPs6z"
      },
      "source": [
        "# Bloque 1 (optimizers)"
      ]
    },
    {
      "cell_type": "markdown",
      "metadata": {
        "id": "wQA8R_xXQKJL"
      },
      "source": [
        "## Espacio de búsqueda"
      ]
    },
    {
      "cell_type": "markdown",
      "metadata": {
        "id": "4xQlfIryfAFq"
      },
      "source": [
        "**Parámetros de la arquitectura**"
      ]
    },
    {
      "cell_type": "code",
      "metadata": {
        "colab": {
          "base_uri": "https://localhost:8080/"
        },
        "id": "i04H0tjFfkHU",
        "outputId": "1c74935e-9f2c-4b3c-a534-0f130cda8ca4"
      },
      "source": [
        "from itertools import product\n",
        "\n",
        "dense_layers_sizes = [(300,100),\n",
        "                      (200,100)]  \n",
        "\n",
        "arch_params = {'units_lstm':[200],\n",
        "          'merge_mode':['concat'],\n",
        "          'n_filters':[150],\n",
        "          'kernels_sizes':[(1,2,3),(2,3,4)],\n",
        "          'dense_layers_sizes': dense_layers_sizes,\n",
        "          'conv_activation':['tanh'],\n",
        "          'pooling_method':['max'],\n",
        "          'spatial_dropout':[0.5],\n",
        "          'lstm_dropout':[0.5],\n",
        "          'dense_dropout':[0.3]}\n",
        "\n",
        "arch_params_keys = arch_params.keys()\n",
        "\n",
        "arch_params_combos = list(product( *arch_params.values() ))          \n",
        "\n",
        "#arch_params_combos = [params_combo for params_combo in arch_params_combos if params_combo[-2]>=params_combo[-1]]\n",
        "print('{} arch_params_combos.'.format(len(arch_params_combos)))   "
      ],
      "execution_count": null,
      "outputs": [
        {
          "output_type": "stream",
          "text": [
            "4 arch_params_combos.\n"
          ],
          "name": "stdout"
        }
      ]
    },
    {
      "cell_type": "markdown",
      "metadata": {
        "id": "yeWlUp3meJCn"
      },
      "source": [
        "**Parámetros de la arquitectura**"
      ]
    },
    {
      "cell_type": "code",
      "metadata": {
        "id": "JoLM2TFGedA2",
        "colab": {
          "base_uri": "https://localhost:8080/"
        },
        "outputId": "139e5bf6-5700-4612-db56-32b39e6739f4"
      },
      "source": [
        "trainig_params_dict = {'optimizer':['adam-1e-3', 'adam-5e-4', 'adam-1e-4', 'rmsprop-1e-3', 'rmsprop-5e-4', 'rmsprop-1e-4'],\n",
        "                       'batch_size':[256,512,1024],\n",
        "                       'max_epochs':[75]}\n",
        "                        \n",
        "\n",
        "training_params_keys = trainig_params_dict.keys()\n",
        "trainig_params_combos = list(product( *trainig_params_dict.values() ))\n",
        "\n",
        "print('\\n{} trainig_params_combos.'.format(len(trainig_params_combos))) "
      ],
      "execution_count": null,
      "outputs": [
        {
          "output_type": "stream",
          "text": [
            "\n",
            "18 trainig_params_combos.\n"
          ],
          "name": "stdout"
        }
      ]
    },
    {
      "cell_type": "code",
      "metadata": {
        "colab": {
          "base_uri": "https://localhost:8080/"
        },
        "id": "JU88pZ5nxPDA",
        "outputId": "9416727f-89d5-4c9d-d3f6-83b331d0020a"
      },
      "source": [
        "search_space = list(product(arch_params_combos, trainig_params_combos))\n",
        "\n",
        "print('\\n{} params combinations in the search_space.'.format(len(search_space))) "
      ],
      "execution_count": null,
      "outputs": [
        {
          "output_type": "stream",
          "text": [
            "\n",
            "72 params combinations in the search_space.\n"
          ],
          "name": "stdout"
        }
      ]
    },
    {
      "cell_type": "markdown",
      "metadata": {
        "id": "GydZc89WMc1r"
      },
      "source": [
        "## Escaneo"
      ]
    },
    {
      "cell_type": "code",
      "metadata": {
        "id": "mFpOfG0LMc1r"
      },
      "source": [
        "results_df = nn_utils.spaceScanner(X_train, Y_train,\n",
        "                          'AG',\n",
        "                          recurrentLSTM_NetModel, \n",
        "                          search_space[40:],\n",
        "                          arch_params_keys,\n",
        "                          training_params_keys,\n",
        "                          fraction2eval=1,\n",
        "                          n_folds=7,\n",
        "                          fitting_attemps=1,\n",
        "                          stop_threshold=1,\n",
        "                          partial_CV=True,\n",
        "                          backup_file='./Results/ConvLSTM/AG/experiments_1_3.df',\n",
        "                          backup_freq=1,\n",
        "                          save_history_files=True,\n",
        "                          save_models_as_json=False)"
      ],
      "execution_count": null,
      "outputs": []
    },
    {
      "cell_type": "markdown",
      "metadata": {
        "id": "KsILxmy_lRZC"
      },
      "source": [
        "## Resultados"
      ]
    },
    {
      "cell_type": "code",
      "metadata": {
        "id": "UIlw70TYlPZt",
        "colab": {
          "base_uri": "https://localhost:8080/"
        },
        "outputId": "425caa69-e14c-4457-d37a-aaac8a3634e2"
      },
      "source": [
        "import pickle\n",
        "with open('./Results/ConvLSTM/AG/experiments_1.df', 'rb') as file_handler:\n",
        "  results_df = pickle.load(file_handler)\n",
        "\n",
        "results_df.shape"
      ],
      "execution_count": null,
      "outputs": [
        {
          "output_type": "execute_result",
          "data": {
            "text/plain": [
              "(72, 22)"
            ]
          },
          "metadata": {
            "tags": []
          },
          "execution_count": 9
        }
      ]
    },
    {
      "cell_type": "code",
      "metadata": {
        "id": "GEGruOzVadce"
      },
      "source": [
        "results_df.sort_values(by='val_acc_A', ascending=False).head()"
      ],
      "execution_count": null,
      "outputs": []
    },
    {
      "cell_type": "code",
      "metadata": {
        "id": "AU_Y5wP8jpdM"
      },
      "source": [
        "results_df.sort_values(by='val_acc_B', ascending=False).head()"
      ],
      "execution_count": null,
      "outputs": []
    },
    {
      "cell_type": "code",
      "metadata": {
        "id": "SWj2QbzCWSy-",
        "colab": {
          "base_uri": "https://localhost:8080/",
          "height": 843
        },
        "outputId": "66ac2bb6-3db2-47ad-a092-0cd414c077c4"
      },
      "source": [
        "params_dict = {'optimizer':['adam-1e-3', 'adam-5e-4', 'adam-1e-4', \n",
        "                            'rmsprop-1e-3', 'rmsprop-5e-4', 'rmsprop-1e-4']                                \n",
        "}\n",
        "\n",
        "results_utils.plotResultsByParameter1(results_df, \n",
        "                       params_dict, \n",
        "                       params2plot=['optimizer'],\n",
        "                       metric='val_acc_A')\n",
        "\n",
        "results_utils.plotResultsByParameter1(results_df, \n",
        "                       params_dict, \n",
        "                       params2plot=['optimizer'],\n",
        "                       metric='val_acc_B')"
      ],
      "execution_count": null,
      "outputs": [
        {
          "output_type": "display_data",
          "data": {
            "image/png": "[encoded data removed]",
            "text/plain": [
              "<Figure size 864x486 with 1 Axes>"
            ]
          },
          "metadata": {
            "tags": [],
            "needs_background": "light"
          }
        },
        {
          "output_type": "display_data",
          "data": {
            "image/png": "[encoded data removed]",
            "text/plain": [
              "<Figure size 864x486 with 1 Axes>"
            ]
          },
          "metadata": {
            "tags": [],
            "needs_background": "light"
          }
        }
      ]
    },
    {
      "cell_type": "code",
      "metadata": {
        "colab": {
          "base_uri": "https://localhost:8080/",
          "height": 845
        },
        "id": "_8EdaxElk9VT",
        "outputId": "753ba7e8-20b3-43fd-db51-b934883cead6"
      },
      "source": [
        "params_dict = {'batch_size':[256,512,1024]                                \n",
        "}\n",
        "\n",
        "optimizer_mask = results_df.optimizer.isin(['adam-1e-3', 'adam-5e-4'])\n",
        "\n",
        "results_utils.plotResultsByParameter1(results_df.loc[optimizer_mask], \n",
        "                       params_dict, \n",
        "                       params2plot=['batch_size'],\n",
        "                       metric='val_acc_A')\n",
        "\n",
        "results_utils.plotResultsByParameter1(results_df.loc[optimizer_mask], \n",
        "                       params_dict, \n",
        "                       params2plot=['batch_size'],\n",
        "                       metric='val_acc_B')"
      ],
      "execution_count": null,
      "outputs": [
        {
          "output_type": "display_data",
          "data": {
            "image/png": "[encoded data removed]",
            "text/plain": [
              "<Figure size 864x486 with 1 Axes>"
            ]
          },
          "metadata": {
            "tags": [],
            "needs_background": "light"
          }
        },
        {
          "output_type": "display_data",
          "data": {
            "image/png": "[encoded data removed]",
            "text/plain": [
              "<Figure size 864x486 with 1 Axes>"
            ]
          },
          "metadata": {
            "tags": [],
            "needs_background": "light"
          }
        }
      ]
    },
    {
      "cell_type": "markdown",
      "metadata": {
        "id": "FowTa73FLf5i"
      },
      "source": [
        "### Resumen de los resultados\n",
        "\n",
        "* optimizador: [**'adam-1e-3'**,'adam-5e-4']"
      ]
    },
    {
      "cell_type": "markdown",
      "metadata": {
        "id": "p1AZCLWdQADp"
      },
      "source": [
        "# Bloque 2 (**lstm_units**, kernels_sizes, batch_size)"
      ]
    },
    {
      "cell_type": "markdown",
      "metadata": {
        "id": "zqN_dk4rkwG-"
      },
      "source": [
        "## Espacio de búsqueda"
      ]
    },
    {
      "cell_type": "markdown",
      "metadata": {
        "id": "I6z0v7C0kwHB"
      },
      "source": [
        "**Parámetros de la arquitectura**"
      ]
    },
    {
      "cell_type": "code",
      "metadata": {
        "colab": {
          "base_uri": "https://localhost:8080/"
        },
        "id": "dbtDw7s3kwHD",
        "outputId": "794894d6-e797-4faa-a9e9-06877aee99c2"
      },
      "source": [
        "from itertools import product\n",
        "\n",
        "dense_layers_sizes = [(300,100),\n",
        "                      (200,100)]  \n",
        "\n",
        "arch_params = {'units_lstm':[150,200,250],\n",
        "          'merge_mode':['concat'],\n",
        "          'n_filters':[150],\n",
        "          'kernels_sizes':[(1,2,3),(2,3,4)],\n",
        "          'dense_layers_sizes': dense_layers_sizes,\n",
        "          'conv_activation':['tanh'],\n",
        "          'pooling_method':['max'],\n",
        "          'spatial_dropout':[0.5],\n",
        "          'lstm_dropout':[0.5],\n",
        "          'dense_dropout':[0.3]}\n",
        "\n",
        "arch_params_keys = arch_params.keys()\n",
        "\n",
        "arch_params_combos = list(product( *arch_params.values() ))          \n",
        "\n",
        "#arch_params_combos = [params_combo for params_combo in arch_params_combos if params_combo[-2]>=params_combo[-1]]\n",
        "print('{} arch_params_combos.'.format(len(arch_params_combos)))  "
      ],
      "execution_count": null,
      "outputs": [
        {
          "output_type": "stream",
          "text": [
            "12 arch_params_combos.\n"
          ],
          "name": "stdout"
        }
      ]
    },
    {
      "cell_type": "markdown",
      "metadata": {
        "id": "ublFPxQfkwHO"
      },
      "source": [
        "**Parámetros de la arquitectura**"
      ]
    },
    {
      "cell_type": "code",
      "metadata": {
        "colab": {
          "base_uri": "https://localhost:8080/"
        },
        "id": "glStaHuSkwHR",
        "outputId": "a1bbb317-1d33-485b-ad3e-2bbe146afefd"
      },
      "source": [
        "trainig_params_dict = {'optimizer':['adam-1e-3','adam-5e-4'],\n",
        "                       'batch_size':[256,512],\n",
        "                       'max_epochs':[75]}\n",
        "                        \n",
        "\n",
        "training_params_keys = trainig_params_dict.keys()\n",
        "trainig_params_combos = list(product( *trainig_params_dict.values() ))\n",
        "\n",
        "print('\\n{} trainig_params_combos.'.format(len(trainig_params_combos))) "
      ],
      "execution_count": null,
      "outputs": [
        {
          "output_type": "stream",
          "text": [
            "\n",
            "4 trainig_params_combos.\n"
          ],
          "name": "stdout"
        }
      ]
    },
    {
      "cell_type": "code",
      "metadata": {
        "colab": {
          "base_uri": "https://localhost:8080/"
        },
        "id": "CSTlxaJ2kwHU",
        "outputId": "3b678fbf-5043-47ca-a551-77e4adde072f"
      },
      "source": [
        "search_space = list(product(arch_params_combos, trainig_params_combos))\n",
        "\n",
        "print('\\n{} params combinations in the search_space.'.format(len(search_space))) "
      ],
      "execution_count": null,
      "outputs": [
        {
          "output_type": "stream",
          "text": [
            "\n",
            "48 params combinations in the search_space.\n"
          ],
          "name": "stdout"
        }
      ]
    },
    {
      "cell_type": "markdown",
      "metadata": {
        "id": "Za7mKib5IjAT"
      },
      "source": [
        "## Escaneo"
      ]
    },
    {
      "cell_type": "code",
      "metadata": {
        "id": "zgbnXDZqIjA6"
      },
      "source": [
        "results_df = nn_utils.spaceScanner(X_train, Y_train,\n",
        "                          'AG',\n",
        "                          recurrentLSTM_NetModel, \n",
        "                          search_space[38:],\n",
        "                          arch_params_keys,\n",
        "                          training_params_keys,\n",
        "                          fraction2eval=1,\n",
        "                          n_folds=7,\n",
        "                          fitting_attemps=1,\n",
        "                          stop_threshold=1,\n",
        "                          partial_CV=True,\n",
        "                          backup_file='./Results/ConvLSTM/AG/experiments_2_3.df',\n",
        "                          backup_freq=1,\n",
        "                          save_history_files=True,\n",
        "                          save_models_as_json=False)"
      ],
      "execution_count": null,
      "outputs": []
    },
    {
      "cell_type": "markdown",
      "metadata": {
        "id": "eYPix4R1kwHc"
      },
      "source": [
        "## Resultados"
      ]
    },
    {
      "cell_type": "code",
      "metadata": {
        "id": "GxLNa4qukwHe",
        "colab": {
          "base_uri": "https://localhost:8080/"
        },
        "outputId": "70012dd3-8b02-44eb-f36d-0a439a147d74"
      },
      "source": [
        "import pickle\n",
        "with open('./Results/ConvLSTM/AG/experiments_2.df', 'rb') as file_handler:\n",
        "  results_df = pickle.load(file_handler)\n",
        "\n",
        "results_df.shape"
      ],
      "execution_count": null,
      "outputs": [
        {
          "output_type": "execute_result",
          "data": {
            "text/plain": [
              "(47, 22)"
            ]
          },
          "metadata": {
            "tags": []
          },
          "execution_count": 19
        }
      ]
    },
    {
      "cell_type": "code",
      "metadata": {
        "id": "cnYdZrTW1TDN"
      },
      "source": [
        "results_df.sort_values(by='val_acc_A', ascending=False).head()"
      ],
      "execution_count": null,
      "outputs": []
    },
    {
      "cell_type": "code",
      "metadata": {
        "id": "2Wc8GTWH1TDg"
      },
      "source": [
        "results_df.sort_values(by='val_acc_B', ascending=False).head()"
      ],
      "execution_count": null,
      "outputs": []
    },
    {
      "cell_type": "code",
      "metadata": {
        "colab": {
          "base_uri": "https://localhost:8080/",
          "height": 909
        },
        "id": "jrBmsAXVsiPg",
        "outputId": "c5870374-e507-4889-f3cb-6bb90bf92c92"
      },
      "source": [
        "params_dict = {'optimizer':['adam-1e-3','adam-5e-4']}\n",
        "\n",
        "results_utils.plotResultsByParameter1(results_df, \n",
        "                       params_dict, \n",
        "                       params2plot=['optimizer'],\n",
        "                       metric='val_acc_A')\n",
        "\n",
        "results_utils.plotResultsByParameter1(results_df, \n",
        "                       params_dict, \n",
        "                       params2plot=['optimizer'],\n",
        "                       metric='val_acc_B')"
      ],
      "execution_count": null,
      "outputs": [
        {
          "output_type": "stream",
          "text": [
            "/usr/local/lib/python3.7/dist-packages/numpy/core/_asarray.py:83: VisibleDeprecationWarning: Creating an ndarray from ragged nested sequences (which is a list-or-tuple of lists-or-tuples-or ndarrays with different lengths or shapes) is deprecated. If you meant to do this, you must specify 'dtype=object' when creating the ndarray\n",
            "  return array(a, dtype, copy=False, order=order)\n"
          ],
          "name": "stderr"
        },
        {
          "output_type": "display_data",
          "data": {
            "image/png": "[encoded data removed]",
            "text/plain": [
              "<Figure size 864x486 with 1 Axes>"
            ]
          },
          "metadata": {
            "tags": [],
            "needs_background": "light"
          }
        },
        {
          "output_type": "stream",
          "text": [
            "/usr/local/lib/python3.7/dist-packages/numpy/core/_asarray.py:83: VisibleDeprecationWarning: Creating an ndarray from ragged nested sequences (which is a list-or-tuple of lists-or-tuples-or ndarrays with different lengths or shapes) is deprecated. If you meant to do this, you must specify 'dtype=object' when creating the ndarray\n",
            "  return array(a, dtype, copy=False, order=order)\n"
          ],
          "name": "stderr"
        },
        {
          "output_type": "display_data",
          "data": {
            "image/png": "[encoded data removed]",
            "text/plain": [
              "<Figure size 864x486 with 1 Axes>"
            ]
          },
          "metadata": {
            "tags": [],
            "needs_background": "light"
          }
        }
      ]
    },
    {
      "cell_type": "code",
      "metadata": {
        "colab": {
          "base_uri": "https://localhost:8080/",
          "height": 911
        },
        "id": "KEYbb-q4AJc5",
        "outputId": "7afca346-6a1d-4f34-c68e-0cb636fbfa76"
      },
      "source": [
        "params_dict = {'units_lstm':[150,200,250]}\n",
        "\n",
        "results_utils.plotResultsByParameter1(results_df, \n",
        "                       params_dict, \n",
        "                       params2plot=['units_lstm'],\n",
        "                       metric='val_acc_A')\n",
        "\n",
        "results_utils.plotResultsByParameter1(results_df, \n",
        "                       params_dict, \n",
        "                       params2plot=['units_lstm'],\n",
        "                       metric='val_acc_B')"
      ],
      "execution_count": null,
      "outputs": [
        {
          "output_type": "stream",
          "text": [
            "/usr/local/lib/python3.7/dist-packages/numpy/core/_asarray.py:83: VisibleDeprecationWarning: Creating an ndarray from ragged nested sequences (which is a list-or-tuple of lists-or-tuples-or ndarrays with different lengths or shapes) is deprecated. If you meant to do this, you must specify 'dtype=object' when creating the ndarray\n",
            "  return array(a, dtype, copy=False, order=order)\n"
          ],
          "name": "stderr"
        },
        {
          "output_type": "display_data",
          "data": {
            "image/png": "[encoded data removed]",
            "text/plain": [
              "<Figure size 864x486 with 1 Axes>"
            ]
          },
          "metadata": {
            "tags": [],
            "needs_background": "light"
          }
        },
        {
          "output_type": "stream",
          "text": [
            "/usr/local/lib/python3.7/dist-packages/numpy/core/_asarray.py:83: VisibleDeprecationWarning: Creating an ndarray from ragged nested sequences (which is a list-or-tuple of lists-or-tuples-or ndarrays with different lengths or shapes) is deprecated. If you meant to do this, you must specify 'dtype=object' when creating the ndarray\n",
            "  return array(a, dtype, copy=False, order=order)\n"
          ],
          "name": "stderr"
        },
        {
          "output_type": "display_data",
          "data": {
            "image/png": "[encoded data removed]",
            "text/plain": [
              "<Figure size 864x486 with 1 Axes>"
            ]
          },
          "metadata": {
            "tags": [],
            "needs_background": "light"
          }
        }
      ]
    },
    {
      "cell_type": "code",
      "metadata": {
        "colab": {
          "base_uri": "https://localhost:8080/",
          "height": 911
        },
        "id": "I1K6zynfcSKu",
        "outputId": "e7baa7a7-d97f-45ab-a6c5-551bb4a6596b"
      },
      "source": [
        "params_dict = {'kernels_sizes':[(1,2,3),(2,3,4)]}\n",
        "\n",
        "results_utils.plotResultsByParameter1(results_df, \n",
        "                       params_dict, \n",
        "                       params2plot=['kernels_sizes'],\n",
        "                       metric='val_acc_A')\n",
        "\n",
        "results_utils.plotResultsByParameter1(results_df, \n",
        "                       params_dict, \n",
        "                       params2plot=['kernels_sizes'],\n",
        "                       metric='val_acc_B')"
      ],
      "execution_count": null,
      "outputs": [
        {
          "output_type": "stream",
          "text": [
            "/usr/local/lib/python3.7/dist-packages/numpy/core/_asarray.py:83: VisibleDeprecationWarning: Creating an ndarray from ragged nested sequences (which is a list-or-tuple of lists-or-tuples-or ndarrays with different lengths or shapes) is deprecated. If you meant to do this, you must specify 'dtype=object' when creating the ndarray\n",
            "  return array(a, dtype, copy=False, order=order)\n"
          ],
          "name": "stderr"
        },
        {
          "output_type": "display_data",
          "data": {
            "image/png": "[encoded data removed]",
            "text/plain": [
              "<Figure size 864x486 with 1 Axes>"
            ]
          },
          "metadata": {
            "tags": [],
            "needs_background": "light"
          }
        },
        {
          "output_type": "stream",
          "text": [
            "/usr/local/lib/python3.7/dist-packages/numpy/core/_asarray.py:83: VisibleDeprecationWarning: Creating an ndarray from ragged nested sequences (which is a list-or-tuple of lists-or-tuples-or ndarrays with different lengths or shapes) is deprecated. If you meant to do this, you must specify 'dtype=object' when creating the ndarray\n",
            "  return array(a, dtype, copy=False, order=order)\n"
          ],
          "name": "stderr"
        },
        {
          "output_type": "display_data",
          "data": {
            "image/png": "[encoded data removed]",
            "text/plain": [
              "<Figure size 864x486 with 1 Axes>"
            ]
          },
          "metadata": {
            "tags": [],
            "needs_background": "light"
          }
        }
      ]
    },
    {
      "cell_type": "code",
      "metadata": {
        "colab": {
          "base_uri": "https://localhost:8080/",
          "height": 911
        },
        "id": "rAiXl55oa-n7",
        "outputId": "5b5b42fb-ad6c-4c26-8ca0-ee97e46690e3"
      },
      "source": [
        "params_dict = {'batch_size':[256,512]}\n",
        "\n",
        "results_utils.plotResultsByParameter1(results_df, \n",
        "                       params_dict, \n",
        "                       params2plot=['batch_size'],\n",
        "                       metric='val_acc_A')\n",
        "\n",
        "results_utils.plotResultsByParameter1(results_df, \n",
        "                       params_dict, \n",
        "                       params2plot=['batch_size'],\n",
        "                       metric='val_acc_B')"
      ],
      "execution_count": null,
      "outputs": [
        {
          "output_type": "stream",
          "text": [
            "/usr/local/lib/python3.7/dist-packages/numpy/core/_asarray.py:83: VisibleDeprecationWarning: Creating an ndarray from ragged nested sequences (which is a list-or-tuple of lists-or-tuples-or ndarrays with different lengths or shapes) is deprecated. If you meant to do this, you must specify 'dtype=object' when creating the ndarray\n",
            "  return array(a, dtype, copy=False, order=order)\n"
          ],
          "name": "stderr"
        },
        {
          "output_type": "display_data",
          "data": {
            "image/png": "[encoded data removed]",
            "text/plain": [
              "<Figure size 864x486 with 1 Axes>"
            ]
          },
          "metadata": {
            "tags": [],
            "needs_background": "light"
          }
        },
        {
          "output_type": "stream",
          "text": [
            "/usr/local/lib/python3.7/dist-packages/numpy/core/_asarray.py:83: VisibleDeprecationWarning: Creating an ndarray from ragged nested sequences (which is a list-or-tuple of lists-or-tuples-or ndarrays with different lengths or shapes) is deprecated. If you meant to do this, you must specify 'dtype=object' when creating the ndarray\n",
            "  return array(a, dtype, copy=False, order=order)\n"
          ],
          "name": "stderr"
        },
        {
          "output_type": "display_data",
          "data": {
            "image/png": "[encoded data removed]",
            "text/plain": [
              "<Figure size 864x486 with 1 Axes>"
            ]
          },
          "metadata": {
            "tags": [],
            "needs_background": "light"
          }
        }
      ]
    },
    {
      "cell_type": "markdown",
      "metadata": {
        "id": "s5ZAy6f-MIl6"
      },
      "source": [
        "### Resumen de los resultados\n",
        "\n",
        "* LSTM-units: [-150-,200]\n",
        "* kernels_sizes: [-(1,2,3)-, (2,3,4)]\n",
        "\n",
        "* batch_size: [**256**]\n",
        "* optimizador: [**'adam-1e-3'**,'adam-5e-4']"
      ]
    },
    {
      "cell_type": "markdown",
      "metadata": {
        "id": "ZuR_USigIEMo"
      },
      "source": [
        "# Bloque 3 (n_filters, cnn_activ)\n"
      ]
    },
    {
      "cell_type": "markdown",
      "metadata": {
        "id": "uGy10FUrQMji"
      },
      "source": [
        "## Espacio de búsqueda"
      ]
    },
    {
      "cell_type": "markdown",
      "metadata": {
        "id": "C52rFSYZQMjj"
      },
      "source": [
        "**Parámetros de la arquitectura**"
      ]
    },
    {
      "cell_type": "code",
      "metadata": {
        "colab": {
          "base_uri": "https://localhost:8080/"
        },
        "id": "K-Xrof6YQMjk",
        "outputId": "4be7d21b-8ff9-4dc5-d731-381af5adaee9"
      },
      "source": [
        "from itertools import product\n",
        "\n",
        "dense_layers_sizes = [(300,100),\n",
        "                      (300,75),\n",
        "                      (200,100),\n",
        "                      (200,75)]  \n",
        "\n",
        "arch_params = {'units_lstm':[150],\n",
        "          'merge_mode':['concat'],\n",
        "          'n_filters':[100,150,200],\n",
        "          'kernels_sizes':[(1,2,3)],\n",
        "          'dense_layers_sizes': dense_layers_sizes,\n",
        "          'conv_activation':['tanh','relu'],\n",
        "          'pooling_method':['max'],\n",
        "          'spatial_dropout':[0.5],\n",
        "          'lstm_dropout':[0.5],\n",
        "          'dense_dropout':[0.3]}\n",
        "\n",
        "arch_params_keys = arch_params.keys()\n",
        "\n",
        "arch_params_combos = list(product( *arch_params.values() ))          \n",
        "\n",
        "#arch_params_combos = [params_combo for params_combo in arch_params_combos if params_combo[-2]>=params_combo[-1]]\n",
        "print('{} arch_params_combos.'.format(len(arch_params_combos)))  "
      ],
      "execution_count": null,
      "outputs": [
        {
          "output_type": "stream",
          "text": [
            "24 arch_params_combos.\n"
          ],
          "name": "stdout"
        }
      ]
    },
    {
      "cell_type": "markdown",
      "metadata": {
        "id": "GUV7f-TacG7L"
      },
      "source": [
        "**Parámetros de la arquitectura**"
      ]
    },
    {
      "cell_type": "code",
      "metadata": {
        "colab": {
          "base_uri": "https://localhost:8080/"
        },
        "id": "m5A-MYfIcG7O",
        "outputId": "19f6ed55-d70e-4293-a329-b97dac140e97"
      },
      "source": [
        "trainig_params_dict = {'optimizer':['adam-1e-3','adam-5e-4'],\n",
        "                       'batch_size':[256],\n",
        "                       'max_epochs':[75]}\n",
        "                        \n",
        "\n",
        "training_params_keys = trainig_params_dict.keys()\n",
        "trainig_params_combos = list(product( *trainig_params_dict.values() ))\n",
        "\n",
        "print('\\n{} trainig_params_combos.'.format(len(trainig_params_combos))) "
      ],
      "execution_count": null,
      "outputs": [
        {
          "output_type": "stream",
          "text": [
            "\n",
            "2 trainig_params_combos.\n"
          ],
          "name": "stdout"
        }
      ]
    },
    {
      "cell_type": "code",
      "metadata": {
        "colab": {
          "base_uri": "https://localhost:8080/"
        },
        "id": "0ca4V8nEQMjq",
        "outputId": "f3ff12c5-49b3-4358-a8bb-7a9c808a2ae0"
      },
      "source": [
        "search_space = list(product(arch_params_combos, trainig_params_combos))\n",
        "\n",
        "print('\\n{} params combinations in the search_space.'.format(len(search_space))) "
      ],
      "execution_count": null,
      "outputs": [
        {
          "output_type": "stream",
          "text": [
            "\n",
            "48 params combinations in the search_space.\n"
          ],
          "name": "stdout"
        }
      ]
    },
    {
      "cell_type": "markdown",
      "metadata": {
        "id": "e0myPaxhg7MD"
      },
      "source": [
        "## Escaneo"
      ]
    },
    {
      "cell_type": "code",
      "metadata": {
        "id": "sYEb8smWg7MP"
      },
      "source": [
        "results_df = nn_utils.spaceScanner(X_train, Y_train,\n",
        "                          'AG',\n",
        "                          recurrentLSTM_NetModel, \n",
        "                          search_space[24:],\n",
        "                          arch_params_keys,\n",
        "                          training_params_keys,\n",
        "                          fraction2eval=1,\n",
        "                          n_folds=7,\n",
        "                          fitting_attemps=1,\n",
        "                          stop_threshold=1,\n",
        "                          partial_CV=True,\n",
        "                          backup_file='./Results/ConvLSTM/AG/experiments_3_2.df',\n",
        "                          backup_freq=1,\n",
        "                          save_history_files=True,\n",
        "                          save_models_as_json=False)"
      ],
      "execution_count": null,
      "outputs": []
    },
    {
      "cell_type": "markdown",
      "metadata": {
        "id": "bvaJ0Qf0XDdn"
      },
      "source": [
        "## Resultados"
      ]
    },
    {
      "cell_type": "code",
      "metadata": {
        "id": "riDo6wxuXDd5",
        "colab": {
          "base_uri": "https://localhost:8080/"
        },
        "outputId": "ecaf3a7b-f804-4664-cbac-a4886664d5a9"
      },
      "source": [
        "import pickle\n",
        "with open('./Results/ConvLSTM/AG/experiments_3.df', 'rb') as file_handler:\n",
        "  results_df = pickle.load(file_handler)\n",
        "\n",
        "results_df.shape"
      ],
      "execution_count": null,
      "outputs": [
        {
          "output_type": "execute_result",
          "data": {
            "text/plain": [
              "(48, 22)"
            ]
          },
          "metadata": {
            "tags": []
          },
          "execution_count": 13
        }
      ]
    },
    {
      "cell_type": "code",
      "metadata": {
        "id": "tLEf0NbjXDd7"
      },
      "source": [
        "results_df.sort_values(by='val_acc_A', ascending=False).head()"
      ],
      "execution_count": null,
      "outputs": []
    },
    {
      "cell_type": "code",
      "metadata": {
        "id": "TdvFpn_VXDd9"
      },
      "source": [
        "results_df.sort_values(by='val_acc_B', ascending=False).head()"
      ],
      "execution_count": null,
      "outputs": []
    },
    {
      "cell_type": "code",
      "metadata": {
        "colab": {
          "base_uri": "https://localhost:8080/",
          "height": 821
        },
        "id": "nHIBffO_skZB",
        "outputId": "e3df7789-054e-4804-82e7-d5e7f2a7c0f4"
      },
      "source": [
        "params_dict = {'conv_activation':['tanh','relu']}\n",
        "\n",
        "results_utils.plotResultsByParameter1(results_df, \n",
        "                       params_dict, \n",
        "                       params2plot=['conv_activation'],\n",
        "                       metric='val_acc_A')\n",
        "\n",
        "results_utils.plotResultsByParameter1(results_df, \n",
        "                       params_dict, \n",
        "                       params2plot=['conv_activation'],\n",
        "                       metric='val_acc_B')"
      ],
      "execution_count": null,
      "outputs": [
        {
          "output_type": "display_data",
          "data": {
            "image/png": "[encoded data removed]",
            "text/plain": [
              "<Figure size 864x486 with 1 Axes>"
            ]
          },
          "metadata": {
            "tags": [],
            "needs_background": "light"
          }
        },
        {
          "output_type": "display_data",
          "data": {
            "image/png": "[encoded data removed]",
            "text/plain": [
              "<Figure size 864x486 with 1 Axes>"
            ]
          },
          "metadata": {
            "tags": [],
            "needs_background": "light"
          }
        }
      ]
    },
    {
      "cell_type": "code",
      "metadata": {
        "colab": {
          "base_uri": "https://localhost:8080/",
          "height": 821
        },
        "id": "LsihMqjNkIud",
        "outputId": "37170c67-4855-4e22-c5ee-91c62278110d"
      },
      "source": [
        "params_dict = {'n_filters':[100,150,200]}\n",
        "\n",
        "results_utils.plotResultsByParameter1(results_df, \n",
        "                       params_dict, \n",
        "                       params2plot=['n_filters'],\n",
        "                       metric='val_acc_A')\n",
        "\n",
        "results_utils.plotResultsByParameter1(results_df, \n",
        "                       params_dict, \n",
        "                       params2plot=['n_filters'],\n",
        "                       metric='val_acc_B')"
      ],
      "execution_count": null,
      "outputs": [
        {
          "output_type": "display_data",
          "data": {
            "image/png": "[encoded data removed]",
            "text/plain": [
              "<Figure size 864x486 with 1 Axes>"
            ]
          },
          "metadata": {
            "tags": [],
            "needs_background": "light"
          }
        },
        {
          "output_type": "display_data",
          "data": {
            "image/png": "[encoded data removed]",
            "text/plain": [
              "<Figure size 864x486 with 1 Axes>"
            ]
          },
          "metadata": {
            "tags": [],
            "needs_background": "light"
          }
        }
      ]
    },
    {
      "cell_type": "code",
      "metadata": {
        "colab": {
          "base_uri": "https://localhost:8080/",
          "height": 821
        },
        "id": "o2FBokp6xGQw",
        "outputId": "4728a4ef-2194-4d76-87f0-9215f4ea8337"
      },
      "source": [
        "params_dict = {'dense_layers_sizes':[(300,100),\n",
        "                      (300,75),\n",
        "                      (200,100),\n",
        "                      (200,75)]}\n",
        "\n",
        "results_utils.plotResultsByParameter1(results_df, \n",
        "                       params_dict, \n",
        "                       params2plot=['dense_layers_sizes'],\n",
        "                       metric='val_acc_A')\n",
        "\n",
        "results_utils.plotResultsByParameter1(results_df, \n",
        "                       params_dict, \n",
        "                       params2plot=['dense_layers_sizes'],\n",
        "                       metric='val_acc_B') "
      ],
      "execution_count": null,
      "outputs": [
        {
          "output_type": "display_data",
          "data": {
            "image/png": "[encoded data removed]",
            "text/plain": [
              "<Figure size 864x486 with 1 Axes>"
            ]
          },
          "metadata": {
            "tags": [],
            "needs_background": "light"
          }
        },
        {
          "output_type": "display_data",
          "data": {
            "image/png": "[encoded data removed]",
            "text/plain": [
              "<Figure size 864x486 with 1 Axes>"
            ]
          },
          "metadata": {
            "tags": [],
            "needs_background": "light"
          }
        }
      ]
    },
    {
      "cell_type": "markdown",
      "metadata": {
        "id": "mXLR6FzoM8Vs"
      },
      "source": [
        "### Resumen de los resultados\n",
        "\n",
        "* LSTM-units: [-150-, 200]\n",
        "* kernels_sizes: [-(1,2,3)-, (2,3,4)]\n",
        "* n_filters: [**100**, 150]\n",
        "* conv_activ: ['tanh']\n",
        "* dese-layers: [(300,100), **(300,75)**, **(200,100)**]\n",
        "\n",
        "* batch_size: [**256**]\n",
        "* optimizador: [**'adam-1e-3'**,'adam-5e-4']"
      ]
    },
    {
      "cell_type": "markdown",
      "metadata": {
        "id": "yJjxpOhuXvUF"
      },
      "source": [
        "# Bloque 4 (dropout)"
      ]
    },
    {
      "cell_type": "markdown",
      "metadata": {
        "id": "nfrCZXSLoN3e"
      },
      "source": [
        "## Espacio de búsqueda"
      ]
    },
    {
      "cell_type": "markdown",
      "metadata": {
        "id": "D3zKbg8soN3g"
      },
      "source": [
        "**Parámetros de la arquitectura**"
      ]
    },
    {
      "cell_type": "code",
      "metadata": {
        "colab": {
          "base_uri": "https://localhost:8080/"
        },
        "id": "58f4fu7ioN3h",
        "outputId": "5b366f6c-d07d-44de-e9aa-914e94acab39"
      },
      "source": [
        "from itertools import product\n",
        "\n",
        "dense_layers_sizes = [(300,75),\n",
        "                      (200,100)]  \n",
        "\n",
        "arch_params = {'units_lstm':[150],\n",
        "          'merge_mode':['concat'],\n",
        "          'n_filters':[100],\n",
        "          'kernels_sizes':[(1,2,3)],\n",
        "          'dense_layers_sizes': dense_layers_sizes,\n",
        "          'conv_activation':['tanh'],\n",
        "          'pooling_method':['max'],\n",
        "          'spatial_dropout':[0.3,0.5,0.7],\n",
        "          'lstm_dropout':[0.3,0.5,0.7],\n",
        "          'dense_dropout':[0.3,0.5,0.7]}\n",
        "\n",
        "arch_params_keys = arch_params.keys()\n",
        "\n",
        "arch_params_combos = list(product( *arch_params.values() ))          \n",
        "\n",
        "#arch_params_combos = [params_combo for params_combo in arch_params_combos if params_combo[-2]>=params_combo[-1]]\n",
        "print('{} arch_params_combos.'.format(len(arch_params_combos)))  "
      ],
      "execution_count": null,
      "outputs": [
        {
          "output_type": "stream",
          "text": [
            "18 arch_params_combos.\n"
          ],
          "name": "stdout"
        }
      ]
    },
    {
      "cell_type": "markdown",
      "metadata": {
        "id": "Ba0DOrsyoN3l"
      },
      "source": [
        "**Parámetros de la arquitectura**"
      ]
    },
    {
      "cell_type": "code",
      "metadata": {
        "colab": {
          "base_uri": "https://localhost:8080/"
        },
        "id": "aL0oDOzmoN3n",
        "outputId": "34f72a60-8d57-4fea-aa2a-618f016a8465"
      },
      "source": [
        "trainig_params_dict = {'optimizer':['adam-1e-3'],\n",
        "                       'batch_size':[256],\n",
        "                       'max_epochs':[75]}\n",
        "                        \n",
        "\n",
        "training_params_keys = trainig_params_dict.keys()\n",
        "trainig_params_combos = list(product( *trainig_params_dict.values() ))\n",
        "\n",
        "print('\\n{} trainig_params_combos.'.format(len(trainig_params_combos))) "
      ],
      "execution_count": null,
      "outputs": [
        {
          "output_type": "stream",
          "text": [
            "\n",
            "1 trainig_params_combos.\n"
          ],
          "name": "stdout"
        }
      ]
    },
    {
      "cell_type": "code",
      "metadata": {
        "colab": {
          "base_uri": "https://localhost:8080/"
        },
        "id": "SZwycOBuoN3p",
        "outputId": "4b5bf70c-21af-43c7-b8e2-485db3629e3c"
      },
      "source": [
        "search_space = list(product(arch_params_combos, trainig_params_combos))\n",
        "\n",
        "print('\\n{} params combinations in the search_space.'.format(len(search_space))) "
      ],
      "execution_count": null,
      "outputs": [
        {
          "output_type": "stream",
          "text": [
            "\n",
            "18 params combinations in the search_space.\n"
          ],
          "name": "stdout"
        }
      ]
    },
    {
      "cell_type": "markdown",
      "metadata": {
        "id": "7ZwrExso2pIl"
      },
      "source": [
        "## Escaneo"
      ]
    },
    {
      "cell_type": "code",
      "metadata": {
        "id": "5tixF46w2rM0"
      },
      "source": [
        "results_df = nn_utils.spaceScanner(X_train, Y_train,\n",
        "                          'AG',\n",
        "                          recurrentLSTM_NetModel, \n",
        "                          search_space[:9],\n",
        "                          arch_params_keys,\n",
        "                          training_params_keys,\n",
        "                          fraction2eval=1,\n",
        "                          n_folds=7,\n",
        "                          fitting_attemps=1,\n",
        "                          stop_threshold=1,\n",
        "                          partial_CV=True,\n",
        "                          backup_file='./Results/ConvLSTM/AG/experiments_4.df',\n",
        "                          backup_freq=1,\n",
        "                          save_history_files=True,\n",
        "                          save_models_as_json=False)"
      ],
      "execution_count": null,
      "outputs": []
    },
    {
      "cell_type": "markdown",
      "metadata": {
        "id": "wkhqtui7REyp"
      },
      "source": [
        "## Resultados"
      ]
    },
    {
      "cell_type": "code",
      "metadata": {
        "colab": {
          "base_uri": "https://localhost:8080/"
        },
        "id": "aa7kotfzREza",
        "outputId": "029319fd-e884-4458-e73a-54e59dabb581"
      },
      "source": [
        "import pickle\n",
        "from pandas import DataFrame\n",
        "\n",
        "with open('./Results/ConvLSTM/AG/experiments_4.df', 'rb') as file_handler:\n",
        "  results_df = pickle.load(file_handler)\n",
        "\n",
        "results_df.shape"
      ],
      "execution_count": 6,
      "outputs": [
        {
          "output_type": "execute_result",
          "data": {
            "text/plain": [
              "(54, 22)"
            ]
          },
          "metadata": {
            "tags": []
          },
          "execution_count": 6
        }
      ]
    },
    {
      "cell_type": "code",
      "metadata": {
        "id": "03JgpAEhREzd"
      },
      "source": [
        "results_df.sort_values(by='val_acc_A', ascending=False).head()"
      ],
      "execution_count": null,
      "outputs": []
    },
    {
      "cell_type": "code",
      "metadata": {
        "id": "MSZk7lPrREze"
      },
      "source": [
        "results_df.sort_values(by='val_acc_B', ascending=False).head(36)"
      ],
      "execution_count": null,
      "outputs": []
    },
    {
      "cell_type": "code",
      "metadata": {
        "colab": {
          "base_uri": "https://localhost:8080/",
          "height": 845
        },
        "id": "rv7_eL_64dJm",
        "outputId": "b16fac52-37af-4585-e9d8-749a13ed601a"
      },
      "source": [
        "params_dict = {'lstm_dropout':[0.3,0.5,0.7]}\n",
        "\n",
        "results_utils.plotResultsByParameter1(results_df, \n",
        "                       params_dict, \n",
        "                       params2plot=['lstm_dropout'],\n",
        "                       metric='val_acc_A')\n",
        "\n",
        "results_utils.plotResultsByParameter1(results_df, \n",
        "                       params_dict, \n",
        "                       params2plot=['lstm_dropout'],\n",
        "                       metric='val_acc_B')"
      ],
      "execution_count": null,
      "outputs": [
        {
          "output_type": "display_data",
          "data": {
            "image/png": "[encoded data removed]",
            "text/plain": [
              "<Figure size 864x486 with 1 Axes>"
            ]
          },
          "metadata": {
            "tags": [],
            "needs_background": "light"
          }
        },
        {
          "output_type": "display_data",
          "data": {
            "image/png": "[encoded data removed]",
            "text/plain": [
              "<Figure size 864x486 with 1 Axes>"
            ]
          },
          "metadata": {
            "tags": [],
            "needs_background": "light"
          }
        }
      ]
    },
    {
      "cell_type": "code",
      "metadata": {
        "colab": {
          "base_uri": "https://localhost:8080/",
          "height": 845
        },
        "id": "DPiAc7ZI44IG",
        "outputId": "19175554-22aa-49d5-e665-330e37df5feb"
      },
      "source": [
        "params_dict = {'spatial_dropout':[0.3,0.5,0.7]}\n",
        "\n",
        "results_utils.plotResultsByParameter1(results_df, \n",
        "                       params_dict, \n",
        "                       params2plot=['spatial_dropout'],\n",
        "                       metric='val_acc_A')\n",
        "\n",
        "results_utils.plotResultsByParameter1(results_df, \n",
        "                       params_dict, \n",
        "                       params2plot=['spatial_dropout'],\n",
        "                       metric='val_acc_B')"
      ],
      "execution_count": null,
      "outputs": [
        {
          "output_type": "display_data",
          "data": {
            "image/png": "[encoded data removed]",
            "text/plain": [
              "<Figure size 864x486 with 1 Axes>"
            ]
          },
          "metadata": {
            "tags": [],
            "needs_background": "light"
          }
        },
        {
          "output_type": "display_data",
          "data": {
            "image/png": "[encoded data removed]",
            "text/plain": [
              "<Figure size 864x486 with 1 Axes>"
            ]
          },
          "metadata": {
            "tags": [],
            "needs_background": "light"
          }
        }
      ]
    },
    {
      "cell_type": "code",
      "metadata": {
        "colab": {
          "base_uri": "https://localhost:8080/",
          "height": 852
        },
        "id": "H13V7a3YIPPV",
        "outputId": "ea9fbbea-4a50-4adf-9dc3-721766ade86d"
      },
      "source": [
        "params_dict = {'dense_dropout':[0.3,0.5,0.7]}\n",
        "\n",
        "results_utils.plotResultsByParameter1(results_df, \n",
        "                       params_dict, \n",
        "                       params2plot=['dense_dropout'],\n",
        "                       metric='val_acc_A')\n",
        "\n",
        "results_utils.plotResultsByParameter1(results_df, \n",
        "                       params_dict, \n",
        "                       params2plot=['dense_dropout'],\n",
        "                       metric='val_acc_B')"
      ],
      "execution_count": null,
      "outputs": [
        {
          "output_type": "display_data",
          "data": {
            "image/png": "[encoded data removed]",
            "text/plain": [
              "<Figure size 864x486 with 1 Axes>"
            ]
          },
          "metadata": {
            "tags": [],
            "needs_background": "light"
          }
        },
        {
          "output_type": "display_data",
          "data": {
            "image/png": "[encoded data removed]",
            "text/plain": [
              "<Figure size 864x486 with 1 Axes>"
            ]
          },
          "metadata": {
            "tags": [],
            "needs_background": "light"
          }
        }
      ]
    },
    {
      "cell_type": "markdown",
      "metadata": {
        "id": "iNqVNZvE50IM"
      },
      "source": [
        "### Resumen de los resultados (checked)\n",
        "\n",
        "* LSTM-units: [-150-, 200]\n",
        "* kernels_sizes: [-(1,2,3)-, (2,3,4)]\n",
        "* n_filters: [**100**, 150]\n",
        "* conv_activ: ['tanh']\n",
        "* dese-layers: [(300,100), **(300,75)**, **(200,100)**]\n",
        "* lstm_dropout: [0.7]\n",
        "* spatial_dropout: [0.5]\n",
        "* dense_dropout: [0.5]\n",
        "\n",
        "* batch_size: [**256**]\n",
        "* optimizador: [**'adam-1e-3'**]"
      ]
    },
    {
      "cell_type": "markdown",
      "metadata": {
        "id": "_LoYGBK78-0n"
      },
      "source": [
        "# Bloque 5 (validacion completa)"
      ]
    },
    {
      "cell_type": "markdown",
      "metadata": {
        "id": "R79svBvj8-00"
      },
      "source": [
        "## Espacio de búsqueda"
      ]
    },
    {
      "cell_type": "markdown",
      "metadata": {
        "id": "fcFQ01M_8-01"
      },
      "source": [
        "**Parámetros de la arquitectura**"
      ]
    },
    {
      "cell_type": "code",
      "metadata": {
        "colab": {
          "base_uri": "https://localhost:8080/"
        },
        "id": "yoPJqPT38-02",
        "outputId": "a8fe5c3a-8d0f-4b86-878b-25f69d15063d"
      },
      "source": [
        "from itertools import product\n",
        "\n",
        "dense_layers_sizes = [(300,75),\n",
        "                      (200,100)]  \n",
        "\n",
        "arch_params = {'units_lstm':[150,200],\n",
        "          'merge_mode':['concat'],\n",
        "          'n_filters':[100,150],\n",
        "          'kernels_sizes':[(1,2,3),(2,3,4)],\n",
        "          'dense_layers_sizes': dense_layers_sizes,\n",
        "          'conv_activation':['relu'],\n",
        "          'pooling_method':['max'],\n",
        "          'spatial_dropout':[0.7],\n",
        "          'lstm_dropout':[0.5],\n",
        "          'dense_dropout':[0.5]}\n",
        "\n",
        "arch_params_keys = arch_params.keys()\n",
        "\n",
        "arch_params_combos = list(product( *arch_params.values() ))          \n",
        "\n",
        "#arch_params_combos = [params_combo for params_combo in arch_params_combos if params_combo[-2]>=params_combo[-1]]\n",
        "print('{} arch_params_combos.'.format(len(arch_params_combos)))  "
      ],
      "execution_count": 8,
      "outputs": [
        {
          "output_type": "stream",
          "text": [
            "16 arch_params_combos.\n"
          ],
          "name": "stdout"
        }
      ]
    },
    {
      "cell_type": "markdown",
      "metadata": {
        "id": "JXHZHq8c8-03"
      },
      "source": [
        "**Parámetros de la arquitectura**"
      ]
    },
    {
      "cell_type": "code",
      "metadata": {
        "colab": {
          "base_uri": "https://localhost:8080/"
        },
        "id": "D0o9_Kp98-04",
        "outputId": "664e08c0-894d-4972-bc04-880a798604f5"
      },
      "source": [
        "trainig_params_dict = {'optimizer':['adam-1e-3'],\n",
        "                       'batch_size':[256],\n",
        "                       'max_epochs':[75]}\n",
        "                        \n",
        "\n",
        "training_params_keys = trainig_params_dict.keys()\n",
        "trainig_params_combos = list(product( *trainig_params_dict.values() ))\n",
        "\n",
        "print('\\n{} trainig_params_combos.'.format(len(trainig_params_combos))) "
      ],
      "execution_count": 9,
      "outputs": [
        {
          "output_type": "stream",
          "text": [
            "\n",
            "1 trainig_params_combos.\n"
          ],
          "name": "stdout"
        }
      ]
    },
    {
      "cell_type": "code",
      "metadata": {
        "colab": {
          "base_uri": "https://localhost:8080/"
        },
        "id": "7Bl0A_t48-06",
        "outputId": "8ae0e98d-5d81-40d4-e4f1-e37577df9a94"
      },
      "source": [
        "search_space = list(product(arch_params_combos, trainig_params_combos))\n",
        "\n",
        "print('\\n{} params combinations in the search_space.'.format(len(search_space))) "
      ],
      "execution_count": 10,
      "outputs": [
        {
          "output_type": "stream",
          "text": [
            "\n",
            "16 params combinations in the search_space.\n"
          ],
          "name": "stdout"
        }
      ]
    },
    {
      "cell_type": "markdown",
      "metadata": {
        "id": "p-SsIc5D8-07"
      },
      "source": [
        "## Escaneo"
      ]
    },
    {
      "cell_type": "code",
      "metadata": {
        "id": "2YQ0BuZd8-09",
        "colab": {
          "base_uri": "https://localhost:8080/"
        },
        "outputId": "2791624d-4517-41e7-db21-f4404538137f"
      },
      "source": [
        "results_df = nn_utils.spaceScanner(X_train, Y_train,\n",
        "                          'AG',\n",
        "                          recurrentLSTM_NetModel, \n",
        "                          search_space[:16],\n",
        "                          arch_params_keys,\n",
        "                          training_params_keys,\n",
        "                          fraction2eval=1,\n",
        "                          n_folds=7,\n",
        "                          fitting_attemps=1,\n",
        "                          stop_threshold=1,\n",
        "                          partial_CV=False,\n",
        "                          backup_file='./Results/ConvLSTM/AG/experiments_5_1.df',\n",
        "                          backup_freq=1,\n",
        "                          save_history_files=True,\n",
        "                          save_models_as_json=True,\n",
        "                          save_weights=True\n",
        "                          )"
      ],
      "execution_count": 14,
      "outputs": [
        {
          "output_type": "stream",
          "text": [
            "BackupFile: ./Results/ConvLSTM/AG/experiments_5_1.df\n",
            "SCANNING SEARCH SPACE\n",
            "\n",
            "16 configurations will be evaluated.\n",
            "1  - conf_ID: gcVkhcdU   *******  --  train_acc_1 = 0.81,   val_acc_1 = 0.819    --  train_acc_2 = 0.803,  val_acc_2 = 0.828   \n",
            "2  - conf_ID: xLKkQHkm   *******  --  train_acc_1 = 0.807,  val_acc_1 = 0.816    --  train_acc_2 = 0.821,  val_acc_2 = 0.823   \n",
            "3  - conf_ID: eTTyKeyx   *******  --  train_acc_1 = 0.806,  val_acc_1 = 0.812    --  train_acc_2 = 0.813,  val_acc_2 = 0.824   \n",
            "4  - conf_ID: PiKgmstT   *******  --  train_acc_1 = 0.791,  val_acc_1 = 0.818    --  train_acc_2 = 0.8,    val_acc_2 = 0.824   \n",
            "5  - conf_ID: hgRvRlbQ   *******  --  train_acc_1 = 0.792,  val_acc_1 = 0.814    --  train_acc_2 = 0.798,  val_acc_2 = 0.823   \n",
            "6  - conf_ID: XGYrXoWQ   *******  --  train_acc_1 = 0.795,  val_acc_1 = 0.816    --  train_acc_2 = 0.802,  val_acc_2 = 0.827   \n",
            "7  - conf_ID: XHyEtTrF   *******  --  train_acc_1 = 0.824,  val_acc_1 = 0.814    --  train_acc_2 = 0.8,    val_acc_2 = 0.824   \n",
            "8  - conf_ID: lMZNBqTw   *******  --  train_acc_1 = 0.809,  val_acc_1 = 0.816    --  train_acc_2 = 0.801,  val_acc_2 = 0.826   \n",
            "9  - conf_ID: tskhzKsw   *******  --  train_acc_1 = 0.775,  val_acc_1 = 0.814    --  train_acc_2 = 0.794,  val_acc_2 = 0.825   \n",
            "10 - conf_ID: UOKoIhha   *******  --  train_acc_1 = 0.796,  val_acc_1 = 0.818    --  train_acc_2 = 0.804,  val_acc_2 = 0.826   \n",
            "11 - conf_ID: FciEgTWN   *******  --  train_acc_1 = 0.787,  val_acc_1 = 0.815    --  train_acc_2 = 0.804,  val_acc_2 = 0.824   \n",
            "12 - conf_ID: KNwuXynu   *******  --  train_acc_1 = 0.803,  val_acc_1 = 0.818    --  train_acc_2 = 0.808,  val_acc_2 = 0.828   \n",
            "13 - conf_ID: pPKFflbE   *******  --  train_acc_1 = 0.772,  val_acc_1 = 0.812    --  train_acc_2 = 0.815,  val_acc_2 = 0.823   \n",
            "14 - conf_ID: tRZxWsll   *******  --  train_acc_1 = 0.788,  val_acc_1 = 0.819    --  train_acc_2 = 0.792,  val_acc_2 = 0.827   \n",
            "15 - conf_ID: hIDNfBLz   *******  --  train_acc_1 = 0.827,  val_acc_1 = 0.815    --  train_acc_2 = 0.845,  val_acc_2 = 0.826   \n",
            "16 - conf_ID: VNZvaMik   *******  --  train_acc_1 = 0.794,  val_acc_1 = 0.815    --  train_acc_2 = 0.82,   val_acc_2 = 0.827   \n",
            "\n",
            "PROCCESS COMPLETE. 16 CONFIGURATIONS WERE SUCCESFULLY EVALUATED.\n"
          ],
          "name": "stdout"
        }
      ]
    },
    {
      "cell_type": "markdown",
      "metadata": {
        "id": "WU90SsDkvDln"
      },
      "source": [
        "## Resultados"
      ]
    },
    {
      "cell_type": "code",
      "metadata": {
        "id": "aH_HpBv3ay2s"
      },
      "source": [
        "results_list = ['./Results/ConvLSTM/AG/experiments_5f_1.df',\n",
        "                './Results/ConvLSTM/AG/experiments_5f_2.df']\n",
        "\n",
        "results_df = results_utils.mergeDataFrames(results_list, './Results/ConvLSTM/AG/experiments_5f.df')"
      ],
      "execution_count": null,
      "outputs": []
    },
    {
      "cell_type": "code",
      "metadata": {
        "colab": {
          "base_uri": "https://localhost:8080/"
        },
        "id": "bPARc-kZvDlq",
        "outputId": "617eee5c-d556-4467-c7af-5abca1af1798"
      },
      "source": [
        "import pickle\n",
        "from pandas import DataFrame\n",
        "\n",
        "with open('./Results/ConvLSTM/AG/experiments_5f.df', 'rb') as file_handler:\n",
        "  results_df = pickle.load(file_handler)\n",
        "\n",
        "results_df.shape"
      ],
      "execution_count": null,
      "outputs": [
        {
          "output_type": "execute_result",
          "data": {
            "text/plain": [
              "(16, 22)"
            ]
          },
          "metadata": {
            "tags": []
          },
          "execution_count": 7
        }
      ]
    }
  ]
}