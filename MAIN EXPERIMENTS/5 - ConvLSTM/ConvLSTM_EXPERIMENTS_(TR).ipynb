{
  "nbformat": 4,
  "nbformat_minor": 0,
  "metadata": {
    "colab": {
      "name": "ConvLSTM_EXPERIMENTS_(TR).ipynb",
      "provenance": [],
      "collapsed_sections": [],
      "toc_visible": true
    },
    "kernelspec": {
      "name": "python3",
      "display_name": "Python 3"
    },
    "language_info": {
      "name": "python"
    },
    "accelerator": "GPU"
  },
  "cells": [
    {
      "cell_type": "markdown",
      "metadata": {
        "id": "iLXBfxYj8mck"
      },
      "source": [
        "# --- CHECK COMPLETE ---"
      ]
    },
    {
      "cell_type": "markdown",
      "metadata": {
        "id": "q5EmzImyiRQR"
      },
      "source": [
        "# Ajustes iniciales"
      ]
    },
    {
      "cell_type": "markdown",
      "metadata": {
        "id": "UwqNcg7jbu2l"
      },
      "source": [
        "## Conexión a drive"
      ]
    },
    {
      "cell_type": "code",
      "metadata": {
        "colab": {
          "base_uri": "https://localhost:8080/"
        },
        "id": "9afjizYkZgZB",
        "outputId": "0930cfdc-074a-4a55-e603-8f2f658678a2"
      },
      "source": [
        "from google.colab import drive\n",
        "drive.mount('/content/drive')"
      ],
      "execution_count": 1,
      "outputs": [
        {
          "output_type": "stream",
          "text": [
            "Mounted at /content/drive\n"
          ],
          "name": "stdout"
        }
      ]
    },
    {
      "cell_type": "code",
      "metadata": {
        "id": "W9X3nCv_NaxP",
        "colab": {
          "base_uri": "https://localhost:8080/"
        },
        "outputId": "7d16e9a5-3e7c-441d-82bd-2dd2d412f8dc"
      },
      "source": [
        "%cd ./drive/MyDrive/Colab Notebooks"
      ],
      "execution_count": 2,
      "outputs": [
        {
          "output_type": "stream",
          "text": [
            "/content/drive/MyDrive/Colab Notebooks\n"
          ],
          "name": "stdout"
        }
      ]
    },
    {
      "cell_type": "code",
      "metadata": {
        "colab": {
          "base_uri": "https://localhost:8080/",
          "height": 35
        },
        "id": "RU4dYtys-h5M",
        "outputId": "fc5e8038-1ec3-4697-bb2c-9588a9033dc1"
      },
      "source": [
        "%pwd"
      ],
      "execution_count": 3,
      "outputs": [
        {
          "output_type": "execute_result",
          "data": {
            "application/vnd.google.colaboratory.intrinsic+json": {
              "type": "string"
            },
            "text/plain": [
              "'/content/drive/MyDrive/Colab Notebooks'"
            ]
          },
          "metadata": {
            "tags": []
          },
          "execution_count": 3
        }
      ]
    },
    {
      "cell_type": "markdown",
      "metadata": {
        "id": "8fz70fVKJJ11"
      },
      "source": [
        "## Importar los módulos *_utils"
      ]
    },
    {
      "cell_type": "code",
      "metadata": {
        "id": "kpxrXFaJ4fxr"
      },
      "source": [
        "import sys\n",
        "sys.path.append('/content/drive/My Drive/Colab Notebooks/')\n",
        "from my_utils import dataset_utils\n",
        "from my_utils import eval_utils\n",
        "from my_utils import nn_utils\n",
        "from my_utils import results_utils"
      ],
      "execution_count": 4,
      "outputs": []
    },
    {
      "cell_type": "code",
      "metadata": {
        "id": "Jcdhuxpmcmbw"
      },
      "source": [
        "import pickle"
      ],
      "execution_count": 5,
      "outputs": []
    },
    {
      "cell_type": "markdown",
      "metadata": {
        "id": "-J6Rmj_pDqIQ"
      },
      "source": [
        "# Funciones locales"
      ]
    },
    {
      "cell_type": "markdown",
      "metadata": {
        "id": "2B41WbqORcif"
      },
      "source": [
        "## Prototipos de modelo\n",
        "\n",
        "The requirements to use the cuDNN implementation are:\n",
        "\n",
        "1. activation == tanh\n",
        "2. recurrent_activation == sigmoid\n",
        "3. recurrent_dropout == 0\n",
        "4. unroll is False\n",
        "5. use_bias is True\n",
        "6. Inputs, if use masking, are strictly right-padded.\n",
        "7. Eager execution is enabled in the outermost context.\n",
        "\n",
        "Check: KERAS docs [https://keras.io/api/layers/recurrent_layers/lstm/]\n",
        "\n"
      ]
    },
    {
      "cell_type": "markdown",
      "metadata": {
        "id": "4Q4a-v1Refx1"
      },
      "source": [
        "### RecurrentLSTM"
      ]
    },
    {
      "cell_type": "code",
      "metadata": {
        "id": "Cr8EmWPwEP8G"
      },
      "source": [
        "from tensorflow import keras\n",
        "from tensorflow.keras import layers\n",
        "\n",
        "def recurrentLSTM_NetModel(task, params, optimizer, verbose = False):\n",
        "  \"\"\"\n",
        "  Defines and compiles a new Keras model for a Convolutional Neural Network\n",
        "\n",
        "  \"\"\"\n",
        "\n",
        "  SEQ_LENGTH = 55\n",
        "  VEC_EMBEDDINGS_DIM = 300\n",
        "\n",
        "  units_lstm = params['units_lstm']\n",
        "  merge_mode = params['merge_mode']\n",
        "\n",
        "  n_filters  = params['n_filters']\n",
        "  kernel_size_1, kernel_size_2, kernel_size_3 = params['kernels_sizes']\n",
        "  conv_activation = params['conv_activation'] \n",
        "  units_DL1, units_DL2 = params['dense_layers_sizes']\n",
        "\n",
        "  lstm_dropout  = params['lstm_dropout']\n",
        "  spatial_dropout = params['spatial_dropout']\n",
        "  dense_dropout = params['dense_dropout']\n",
        "\n",
        "  embedding_sequence_input = keras.Input(name='INPUT',\n",
        "                                          shape=(SEQ_LENGTH, VEC_EMBEDDINGS_DIM), \n",
        "                                          dtype=\"float64\")\n",
        "  \n",
        "  LSTM_layer    = layers.LSTM(units=units_lstm, dropout=lstm_dropout, recurrent_dropout=0, return_sequences=True, name='LSTM')\n",
        "  BiLSTM_layer  = layers.Bidirectional(LSTM_layer, merge_mode, name='BI-LSTM')\n",
        "\n",
        "  lstm_out = BiLSTM_layer(embedding_sequence_input)\n",
        "\n",
        "  cnn_1 = layers.Conv1D(n_filters, kernel_size_1, activation=conv_activation, name = 'CNN_1')(lstm_out)\n",
        "  cnn_1 = layers.SpatialDropout1D(spatial_dropout, name = 'SPATIAL_DROPOUT_1')(cnn_1)\n",
        "\n",
        "  cnn_2 = layers.Conv1D(n_filters, kernel_size_2, activation=conv_activation, name = 'CNN_2')(lstm_out)\n",
        "  cnn_2 = layers.SpatialDropout1D(spatial_dropout, name = 'SPATIAL_DROPOUT_2')(cnn_2)\n",
        "\n",
        "  cnn_3 = layers.Conv1D(n_filters, kernel_size_3, activation=conv_activation, name = 'CNN_3')(lstm_out)\n",
        "  cnn_3 = layers.SpatialDropout1D(spatial_dropout, name = 'SPATIAL_DROPOUT_3')(cnn_3)\n",
        "\n",
        "\n",
        "  if params['pooling_method'] == 'max':\n",
        "    pool_1 = layers.GlobalMaxPooling1D(name = 'MAX_POOL_1')(cnn_1)\n",
        "    pool_2 = layers.GlobalMaxPooling1D(name = 'MAX_POOL_2')(cnn_2)\n",
        "    pool_3 = layers.GlobalMaxPooling1D(name = 'MAX_POOL_3')(cnn_3)\n",
        "  elif params['pooling_method'] == 'average':\n",
        "    pool_1 = layers.GlobalAveragePooling1D(name = 'AVG_POOL_1')(cnn_1)\n",
        "    pool_2 = layers.GlobalAveragePooling1D(name = 'AVG_POOL_2')(cnn_2)\n",
        "    pool_3 = layers.GlobalAveragePooling1D(name = 'AVG_POOL_3')(cnn_3)\n",
        "\n",
        "  fcnn_input = layers.Concatenate(axis=1, name = 'CONCATENATE')([pool_1, pool_2, pool_3])\n",
        "  fc_layer_1 = layers.Dense(units_DL1, activation=\"relu\", name = 'DL_1')(fcnn_input)\n",
        "  fc_layer_1 = layers.Dropout(dense_dropout, name = 'DROP_1')(fc_layer_1)\n",
        "  fc_layer_2 = layers.Dense(units_DL2, activation=\"relu\", name = 'DL_2')(fc_layer_1)\n",
        "  fc_layer_2 = layers.Dropout(dense_dropout, name = 'DROP_2')(fc_layer_2)\n",
        "\n",
        "  if task in ['HS', 'TR', 'AG']:\n",
        "    preds = layers.Dense(1, activation=\"sigmoid\", name = 'PREDICTOR')(fc_layer_2)\n",
        "    model = keras.Model(embedding_sequence_input, preds)\n",
        "\n",
        "    model.compile(loss=\"binary_crossentropy\", optimizer=optimizer, metrics=[\"acc\"])\n",
        "\n",
        "  elif task == 'HTA':\n",
        "    preds = layers.Dense(5, activation=\"softmax\", name = 'PREDICTOR')(fc_layer_2)\n",
        "    preds = reshape = layers.Reshape(target_shape=(5,))(preds)\n",
        "\n",
        "    model = keras.Model(embedding_sequence_input, preds)\n",
        "    model.compile(loss=\"categorical_crossentropy\", optimizer=optimizer, metrics=[\"acc\"])\n",
        "\n",
        "  if verbose:\n",
        "    model.summary()\n",
        "\n",
        "  return model"
      ],
      "execution_count": 6,
      "outputs": []
    },
    {
      "cell_type": "markdown",
      "metadata": {
        "id": "BbhAkIttjT9l"
      },
      "source": [
        "## Dataset"
      ]
    },
    {
      "cell_type": "code",
      "metadata": {
        "colab": {
          "base_uri": "https://localhost:8080/"
        },
        "id": "lzw_z-RgjT9m",
        "outputId": "b309726c-5f8e-4f74-e14d-594911b7f853"
      },
      "source": [
        "X_train, Y_train = dataset_utils.loadEncodedTrainData(embedding_type='FT3',\n",
        "                                                 encoding_format='EMB-SEQ',\n",
        "                                                 labels_to_return=['TR'],\n",
        "                                                 n_folds=7)"
      ],
      "execution_count": 7,
      "outputs": [
        {
          "output_type": "stream",
          "text": [
            "FastText 3 - Spanish Unannotated Corpora\n",
            "Encoding Format: EMB-SEQ\n",
            "\n",
            "Process complete\n",
            "5000 train instances retrieved\n",
            "\n",
            "encodings_dim = (55, 300)\n"
          ],
          "name": "stdout"
        }
      ]
    },
    {
      "cell_type": "markdown",
      "metadata": {
        "id": "SzjCt2gqPs6z"
      },
      "source": [
        "# Bloque 1 (optimizers)"
      ]
    },
    {
      "cell_type": "markdown",
      "metadata": {
        "id": "wQA8R_xXQKJL"
      },
      "source": [
        "## Espacio de búsqueda"
      ]
    },
    {
      "cell_type": "markdown",
      "metadata": {
        "id": "4xQlfIryfAFq"
      },
      "source": [
        "**Parámetros de la arquitectura**"
      ]
    },
    {
      "cell_type": "code",
      "metadata": {
        "colab": {
          "base_uri": "https://localhost:8080/"
        },
        "id": "i04H0tjFfkHU",
        "outputId": "95141393-6c95-4a5a-c76d-86a2d58dfb75"
      },
      "source": [
        "from itertools import product\n",
        "\n",
        "dense_layers_sizes = [(300,100),\n",
        "                      (200,100)]  \n",
        "\n",
        "arch_params = {'units_lstm':[200],\n",
        "          'merge_mode':['concat'],\n",
        "          'n_filters':[150],\n",
        "          'kernels_sizes':[(1,2,3),(2,3,4)],\n",
        "          'dense_layers_sizes': dense_layers_sizes,\n",
        "          'conv_activation':['tanh'],\n",
        "          'pooling_method':['max'],\n",
        "          'spatial_dropout':[0.5],\n",
        "          'lstm_dropout':[0.5],\n",
        "          'dense_dropout':[0.3]}\n",
        "\n",
        "arch_params_keys = arch_params.keys()\n",
        "\n",
        "arch_params_combos = list(product( *arch_params.values() ))          \n",
        "\n",
        "#arch_params_combos = [params_combo for params_combo in arch_params_combos if params_combo[-2]>=params_combo[-1]]\n",
        "print('{} arch_params_combos.'.format(len(arch_params_combos)))   "
      ],
      "execution_count": null,
      "outputs": [
        {
          "output_type": "stream",
          "text": [
            "4 arch_params_combos.\n"
          ],
          "name": "stdout"
        }
      ]
    },
    {
      "cell_type": "markdown",
      "metadata": {
        "id": "yeWlUp3meJCn"
      },
      "source": [
        "**Parámetros de la arquitectura**"
      ]
    },
    {
      "cell_type": "code",
      "metadata": {
        "id": "JoLM2TFGedA2",
        "colab": {
          "base_uri": "https://localhost:8080/"
        },
        "outputId": "c3b6e299-cc04-42e4-bf3c-779404179617"
      },
      "source": [
        "trainig_params_dict = {'optimizer':['adam-1e-3', 'adam-5e-4', 'adam-1e-4', 'rmsprop-1e-3', 'rmsprop-5e-4', 'rmsprop-1e-4'],\n",
        "                       'batch_size':[256,512,1024],\n",
        "                       'max_epochs':[75]}\n",
        "                        \n",
        "\n",
        "training_params_keys = trainig_params_dict.keys()\n",
        "trainig_params_combos = list(product( *trainig_params_dict.values() ))\n",
        "\n",
        "print('\\n{} trainig_params_combos.'.format(len(trainig_params_combos))) "
      ],
      "execution_count": null,
      "outputs": [
        {
          "output_type": "stream",
          "text": [
            "\n",
            "18 trainig_params_combos.\n"
          ],
          "name": "stdout"
        }
      ]
    },
    {
      "cell_type": "code",
      "metadata": {
        "colab": {
          "base_uri": "https://localhost:8080/"
        },
        "id": "JU88pZ5nxPDA",
        "outputId": "004308bc-9c03-45fa-df3a-79a08d8d8b9d"
      },
      "source": [
        "search_space = list(product(arch_params_combos, trainig_params_combos))\n",
        "\n",
        "print('\\n{} params combinations in the search_space.'.format(len(search_space))) "
      ],
      "execution_count": null,
      "outputs": [
        {
          "output_type": "stream",
          "text": [
            "\n",
            "72 params combinations in the search_space.\n"
          ],
          "name": "stdout"
        }
      ]
    },
    {
      "cell_type": "markdown",
      "metadata": {
        "id": "GydZc89WMc1r"
      },
      "source": [
        "## Escaneo"
      ]
    },
    {
      "cell_type": "code",
      "metadata": {
        "id": "mFpOfG0LMc1r"
      },
      "source": [
        "results_df = nn_utils.spaceScanner(X_train, Y_train,\n",
        "                          'TR',\n",
        "                          recurrentLSTM_NetModel, \n",
        "                          search_space[40:],\n",
        "                          arch_params_keys,\n",
        "                          training_params_keys,\n",
        "                          fraction2eval=1,\n",
        "                          n_folds=7,\n",
        "                          fitting_attemps=1,\n",
        "                          stop_threshold=1,\n",
        "                          partial_CV=True,\n",
        "                          backup_file='./Results/ConvLSTM/TR/experiments_1_3.df',\n",
        "                          backup_freq=1,\n",
        "                          save_history_files=True,\n",
        "                          save_models_as_json=False)\n",
        "\n",
        "## mean time per run = 5 min\n",
        "## (36 runs) start-time 7:02  finish-time:                          "
      ],
      "execution_count": null,
      "outputs": []
    },
    {
      "cell_type": "markdown",
      "metadata": {
        "id": "KsILxmy_lRZC"
      },
      "source": [
        "## Resultados"
      ]
    },
    {
      "cell_type": "code",
      "metadata": {
        "id": "UIlw70TYlPZt",
        "colab": {
          "base_uri": "https://localhost:8080/"
        },
        "outputId": "e6af689f-7d8c-44fe-9bb6-14489722d4ee"
      },
      "source": [
        "import pickle\n",
        "with open('./Results/ConvLSTM/TR/experiments_1.df', 'rb') as file_handler:\n",
        "  results_df = pickle.load(file_handler)\n",
        "\n",
        "results_df.shape"
      ],
      "execution_count": null,
      "outputs": [
        {
          "output_type": "execute_result",
          "data": {
            "text/plain": [
              "(72, 22)"
            ]
          },
          "metadata": {
            "tags": []
          },
          "execution_count": 9
        }
      ]
    },
    {
      "cell_type": "code",
      "metadata": {
        "id": "GEGruOzVadce"
      },
      "source": [
        "results_df.sort_values(by='val_acc_A', ascending=False).head()"
      ],
      "execution_count": null,
      "outputs": []
    },
    {
      "cell_type": "code",
      "metadata": {
        "id": "AU_Y5wP8jpdM"
      },
      "source": [
        "results_df.sort_values(by='val_acc_B', ascending=False).head()"
      ],
      "execution_count": null,
      "outputs": []
    },
    {
      "cell_type": "code",
      "metadata": {
        "id": "SWj2QbzCWSy-",
        "colab": {
          "base_uri": "https://localhost:8080/",
          "height": 843
        },
        "outputId": "bf33ab17-cc20-488f-eada-8c54ea134688"
      },
      "source": [
        "params_dict = {'optimizer':['adam-1e-3', 'adam-5e-4', 'adam-1e-4', \n",
        "                            'rmsprop-1e-3', 'rmsprop-5e-4', 'rmsprop-1e-4']                                \n",
        "}\n",
        "\n",
        "results_utils.plotResultsByParameter1(results_df, \n",
        "                       params_dict, \n",
        "                       params2plot=['optimizer'],\n",
        "                       metric='val_acc_A')\n",
        "\n",
        "results_utils.plotResultsByParameter1(results_df, \n",
        "                       params_dict, \n",
        "                       params2plot=['optimizer'],\n",
        "                       metric='val_acc_B')"
      ],
      "execution_count": null,
      "outputs": [
        {
          "output_type": "display_data",
          "data": {
            "image/png": "[encoded data removed]",
            "text/plain": [
              "<Figure size 864x486 with 1 Axes>"
            ]
          },
          "metadata": {
            "tags": [],
            "needs_background": "light"
          }
        },
        {
          "output_type": "display_data",
          "data": {
            "image/png": "[encoded data removed]",
            "text/plain": [
              "<Figure size 864x486 with 1 Axes>"
            ]
          },
          "metadata": {
            "tags": [],
            "needs_background": "light"
          }
        }
      ]
    },
    {
      "cell_type": "code",
      "metadata": {
        "colab": {
          "base_uri": "https://localhost:8080/",
          "height": 845
        },
        "id": "AdNUt2yZkJdP",
        "outputId": "7deb02d2-b693-48e5-f9b5-2d59f67efe93"
      },
      "source": [
        "optimizer_mask = results_df.optimizer.isin(['adam-1e-3', 'adam-5e-4'])\n",
        "\n",
        "params_dict = {'batch_size':[256,512,1024]}\n",
        "\n",
        "results_utils.plotResultsByParameter1(results_df.loc[optimizer_mask], \n",
        "                       params_dict, \n",
        "                       params2plot=['batch_size'],\n",
        "                       metric='val_acc_A')\n",
        "\n",
        "results_utils.plotResultsByParameter1(results_df.loc[optimizer_mask], \n",
        "                       params_dict, \n",
        "                       params2plot=['batch_size'],\n",
        "                       metric='val_acc_B')"
      ],
      "execution_count": null,
      "outputs": [
        {
          "output_type": "display_data",
          "data": {
            "image/png": "[encoded data removed]",
            "text/plain": [
              "<Figure size 864x486 with 1 Axes>"
            ]
          },
          "metadata": {
            "tags": [],
            "needs_background": "light"
          }
        },
        {
          "output_type": "display_data",
          "data": {
            "image/png": "[encoded data removed]",
            "text/plain": [
              "<Figure size 864x486 with 1 Axes>"
            ]
          },
          "metadata": {
            "tags": [],
            "needs_background": "light"
          }
        }
      ]
    },
    {
      "cell_type": "markdown",
      "metadata": {
        "id": "FowTa73FLf5i"
      },
      "source": [
        "### Resumen de los resultados\n",
        "\n",
        "* optimizador: [**'adam-1e-3'**, 'adam-5e-4']\n",
        "* batch-size: 256\n"
      ]
    },
    {
      "cell_type": "markdown",
      "metadata": {
        "id": "p1AZCLWdQADp"
      },
      "source": [
        "# Bloque 2 (**lstm_units**, kernels_sizes, batch_size)"
      ]
    },
    {
      "cell_type": "markdown",
      "metadata": {
        "id": "zqN_dk4rkwG-"
      },
      "source": [
        "## Espacio de búsqueda"
      ]
    },
    {
      "cell_type": "markdown",
      "metadata": {
        "id": "I6z0v7C0kwHB"
      },
      "source": [
        "**Parámetros de la arquitectura**"
      ]
    },
    {
      "cell_type": "code",
      "metadata": {
        "colab": {
          "base_uri": "https://localhost:8080/"
        },
        "id": "dbtDw7s3kwHD",
        "outputId": "25f7d563-5597-4216-8dc1-6c92dc8bae18"
      },
      "source": [
        "from itertools import product\n",
        "\n",
        "dense_layers_sizes = [(300,100),\n",
        "                      (200,100)]  \n",
        "\n",
        "arch_params = {'units_lstm':[150,200,250],\n",
        "          'merge_mode':['concat'],\n",
        "          'n_filters':[150],\n",
        "          'kernels_sizes':[(1,2,3),(2,3,4)],\n",
        "          'dense_layers_sizes': dense_layers_sizes,\n",
        "          'conv_activation':['tanh'],\n",
        "          'pooling_method':['max'],\n",
        "          'spatial_dropout':[0.5],\n",
        "          'lstm_dropout':[0.5],\n",
        "          'dense_dropout':[0.3]}\n",
        "\n",
        "arch_params_keys = arch_params.keys()\n",
        "\n",
        "arch_params_combos = list(product( *arch_params.values() ))          \n",
        "\n",
        "#arch_params_combos = [params_combo for params_combo in arch_params_combos if params_combo[-2]>=params_combo[-1]]\n",
        "print('{} arch_params_combos.'.format(len(arch_params_combos)))  "
      ],
      "execution_count": null,
      "outputs": [
        {
          "output_type": "stream",
          "text": [
            "12 arch_params_combos.\n"
          ],
          "name": "stdout"
        }
      ]
    },
    {
      "cell_type": "markdown",
      "metadata": {
        "id": "ublFPxQfkwHO"
      },
      "source": [
        "**Parámetros de la arquitectura**"
      ]
    },
    {
      "cell_type": "code",
      "metadata": {
        "colab": {
          "base_uri": "https://localhost:8080/"
        },
        "id": "glStaHuSkwHR",
        "outputId": "9c7159f3-2aa6-4698-ec49-010384802360"
      },
      "source": [
        "trainig_params_dict = {'optimizer':['adam-1e-3','adam-5e-4'],\n",
        "                       'batch_size':[256,512],\n",
        "                       'max_epochs':[75]}\n",
        "                        \n",
        "\n",
        "training_params_keys = trainig_params_dict.keys()\n",
        "trainig_params_combos = list(product( *trainig_params_dict.values() ))\n",
        "\n",
        "print('\\n{} trainig_params_combos.'.format(len(trainig_params_combos))) "
      ],
      "execution_count": null,
      "outputs": [
        {
          "output_type": "stream",
          "text": [
            "\n",
            "4 trainig_params_combos.\n"
          ],
          "name": "stdout"
        }
      ]
    },
    {
      "cell_type": "code",
      "metadata": {
        "colab": {
          "base_uri": "https://localhost:8080/"
        },
        "id": "CSTlxaJ2kwHU",
        "outputId": "3527b541-3196-4cee-8c0c-5a8d1e5dbdf6"
      },
      "source": [
        "search_space = list(product(arch_params_combos, trainig_params_combos))\n",
        "\n",
        "print('\\n{} params combinations in the search_space.'.format(len(search_space))) "
      ],
      "execution_count": null,
      "outputs": [
        {
          "output_type": "stream",
          "text": [
            "\n",
            "48 params combinations in the search_space.\n"
          ],
          "name": "stdout"
        }
      ]
    },
    {
      "cell_type": "markdown",
      "metadata": {
        "id": "Za7mKib5IjAT"
      },
      "source": [
        "## Escaneo"
      ]
    },
    {
      "cell_type": "code",
      "metadata": {
        "id": "zgbnXDZqIjA6"
      },
      "source": [
        "results_df = nn_utils.spaceScanner(X_train, Y_train,\n",
        "                          'TR',\n",
        "                          recurrentLSTM_NetModel, \n",
        "                          search_space[37:],\n",
        "                          arch_params_keys,\n",
        "                          training_params_keys,\n",
        "                          fraction2eval=1,\n",
        "                          n_folds=7,\n",
        "                          fitting_attemps=1,\n",
        "                          stop_threshold=1,\n",
        "                          partial_CV=True,\n",
        "                          backup_file='./Results/ConvLSTM/TR/experiments_2_3.df',\n",
        "                          backup_freq=1,\n",
        "                          save_history_files=True,\n",
        "                          save_models_as_json=False)"
      ],
      "execution_count": null,
      "outputs": []
    },
    {
      "cell_type": "markdown",
      "metadata": {
        "id": "eYPix4R1kwHc"
      },
      "source": [
        "## Resultados"
      ]
    },
    {
      "cell_type": "code",
      "metadata": {
        "id": "GxLNa4qukwHe",
        "colab": {
          "base_uri": "https://localhost:8080/"
        },
        "outputId": "252a67a5-439e-4a12-bae5-dfafbb54d01a"
      },
      "source": [
        "import pickle\n",
        "with open('./Results/ConvLSTM/TR/experiments_2.df', 'rb') as file_handler:\n",
        "  results_df = pickle.load(file_handler)\n",
        "\n",
        "results_df.shape"
      ],
      "execution_count": 8,
      "outputs": [
        {
          "output_type": "execute_result",
          "data": {
            "text/plain": [
              "(47, 22)"
            ]
          },
          "metadata": {
            "tags": []
          },
          "execution_count": 8
        }
      ]
    },
    {
      "cell_type": "code",
      "metadata": {
        "id": "cnYdZrTW1TDN"
      },
      "source": [
        "results_df.sort_values(by='val_acc_A', ascending=False).head(5)"
      ],
      "execution_count": null,
      "outputs": []
    },
    {
      "cell_type": "code",
      "metadata": {
        "id": "2Wc8GTWH1TDg"
      },
      "source": [
        "results_df.sort_values(by='val_acc_B', ascending=False).head()"
      ],
      "execution_count": null,
      "outputs": []
    },
    {
      "cell_type": "code",
      "metadata": {
        "colab": {
          "base_uri": "https://localhost:8080/",
          "height": 932
        },
        "id": "jrBmsAXVsiPg",
        "outputId": "a580d043-cdfc-4336-f121-189c4e62674f"
      },
      "source": [
        "params_dict = {'optimizer':['adam-1e-3','adam-5e-4']}\n",
        "\n",
        "results_utils.plotResultsByParameter1(results_df, \n",
        "                       params_dict, \n",
        "                       params2plot=['optimizer'],\n",
        "                       metric='val_acc_A')\n",
        "\n",
        "results_utils.plotResultsByParameter1(results_df, \n",
        "                       params_dict, \n",
        "                       params2plot=['optimizer'],\n",
        "                       metric='val_acc_B')"
      ],
      "execution_count": null,
      "outputs": [
        {
          "output_type": "stream",
          "text": [
            "/usr/local/lib/python3.7/dist-packages/numpy/core/_asarray.py:83: VisibleDeprecationWarning: Creating an ndarray from ragged nested sequences (which is a list-or-tuple of lists-or-tuples-or ndarrays with different lengths or shapes) is deprecated. If you meant to do this, you must specify 'dtype=object' when creating the ndarray\n",
            "  return array(a, dtype, copy=False, order=order)\n"
          ],
          "name": "stderr"
        },
        {
          "output_type": "display_data",
          "data": {
            "image/png": "[encoded data removed]",
            "text/plain": [
              "<Figure size 864x486 with 1 Axes>"
            ]
          },
          "metadata": {
            "tags": [],
            "needs_background": "light"
          }
        },
        {
          "output_type": "stream",
          "text": [
            "/usr/local/lib/python3.7/dist-packages/numpy/core/_asarray.py:83: VisibleDeprecationWarning: Creating an ndarray from ragged nested sequences (which is a list-or-tuple of lists-or-tuples-or ndarrays with different lengths or shapes) is deprecated. If you meant to do this, you must specify 'dtype=object' when creating the ndarray\n",
            "  return array(a, dtype, copy=False, order=order)\n"
          ],
          "name": "stderr"
        },
        {
          "output_type": "display_data",
          "data": {
            "image/png": "[encoded data removed]",
            "text/plain": [
              "<Figure size 864x486 with 1 Axes>"
            ]
          },
          "metadata": {
            "tags": [],
            "needs_background": "light"
          }
        }
      ]
    },
    {
      "cell_type": "code",
      "metadata": {
        "colab": {
          "base_uri": "https://localhost:8080/",
          "height": 934
        },
        "id": "33ka0b9b-ls-",
        "outputId": "36980e7e-6927-4366-fbd1-b3caa47b0c70"
      },
      "source": [
        "params_dict = {'batch_size':[256,512]}\n",
        "\n",
        "results_utils.plotResultsByParameter1(results_df, \n",
        "                       params_dict, \n",
        "                       params2plot=['batch_size'],\n",
        "                       metric='val_acc_A')\n",
        "\n",
        "results_utils.plotResultsByParameter1(results_df, \n",
        "                       params_dict, \n",
        "                       params2plot=['batch_size'],\n",
        "                       metric='val_acc_B')"
      ],
      "execution_count": 9,
      "outputs": [
        {
          "output_type": "stream",
          "text": [
            "/usr/local/lib/python3.7/dist-packages/numpy/core/_asarray.py:83: VisibleDeprecationWarning: Creating an ndarray from ragged nested sequences (which is a list-or-tuple of lists-or-tuples-or ndarrays with different lengths or shapes) is deprecated. If you meant to do this, you must specify 'dtype=object' when creating the ndarray\n",
            "  return array(a, dtype, copy=False, order=order)\n"
          ],
          "name": "stderr"
        },
        {
          "output_type": "display_data",
          "data": {
            "image/png": "[encoded data removed]",
            "text/plain": [
              "<Figure size 864x486 with 1 Axes>"
            ]
          },
          "metadata": {
            "tags": [],
            "needs_background": "light"
          }
        },
        {
          "output_type": "stream",
          "text": [
            "/usr/local/lib/python3.7/dist-packages/numpy/core/_asarray.py:83: VisibleDeprecationWarning: Creating an ndarray from ragged nested sequences (which is a list-or-tuple of lists-or-tuples-or ndarrays with different lengths or shapes) is deprecated. If you meant to do this, you must specify 'dtype=object' when creating the ndarray\n",
            "  return array(a, dtype, copy=False, order=order)\n"
          ],
          "name": "stderr"
        },
        {
          "output_type": "display_data",
          "data": {
            "image/png": "[encoded data removed]",
            "text/plain": [
              "<Figure size 864x486 with 1 Axes>"
            ]
          },
          "metadata": {
            "tags": [],
            "needs_background": "light"
          }
        }
      ]
    },
    {
      "cell_type": "code",
      "metadata": {
        "colab": {
          "base_uri": "https://localhost:8080/",
          "height": 934
        },
        "id": "KEYbb-q4AJc5",
        "outputId": "b153a7b5-59df-4a98-9677-06981612da31"
      },
      "source": [
        "params_dict = {'units_lstm':[150,200,250]}\n",
        "\n",
        "results_utils.plotResultsByParameter1(results_df, \n",
        "                       params_dict, \n",
        "                       params2plot=['units_lstm'],\n",
        "                       metric='val_acc_A')\n",
        "\n",
        "results_utils.plotResultsByParameter1(results_df, \n",
        "                       params_dict, \n",
        "                       params2plot=['units_lstm'],\n",
        "                       metric='val_acc_B')"
      ],
      "execution_count": null,
      "outputs": [
        {
          "output_type": "stream",
          "text": [
            "/usr/local/lib/python3.7/dist-packages/numpy/core/_asarray.py:83: VisibleDeprecationWarning: Creating an ndarray from ragged nested sequences (which is a list-or-tuple of lists-or-tuples-or ndarrays with different lengths or shapes) is deprecated. If you meant to do this, you must specify 'dtype=object' when creating the ndarray\n",
            "  return array(a, dtype, copy=False, order=order)\n"
          ],
          "name": "stderr"
        },
        {
          "output_type": "display_data",
          "data": {
            "image/png": "[encoded data removed]",
            "text/plain": [
              "<Figure size 864x486 with 1 Axes>"
            ]
          },
          "metadata": {
            "tags": [],
            "needs_background": "light"
          }
        },
        {
          "output_type": "stream",
          "text": [
            "/usr/local/lib/python3.7/dist-packages/numpy/core/_asarray.py:83: VisibleDeprecationWarning: Creating an ndarray from ragged nested sequences (which is a list-or-tuple of lists-or-tuples-or ndarrays with different lengths or shapes) is deprecated. If you meant to do this, you must specify 'dtype=object' when creating the ndarray\n",
            "  return array(a, dtype, copy=False, order=order)\n"
          ],
          "name": "stderr"
        },
        {
          "output_type": "display_data",
          "data": {
            "image/png": "[encoded data removed]",
            "text/plain": [
              "<Figure size 864x486 with 1 Axes>"
            ]
          },
          "metadata": {
            "tags": [],
            "needs_background": "light"
          }
        }
      ]
    },
    {
      "cell_type": "code",
      "metadata": {
        "colab": {
          "base_uri": "https://localhost:8080/",
          "height": 934
        },
        "id": "I1K6zynfcSKu",
        "outputId": "31b2d09e-a7bf-492c-a31a-13ed887d382f"
      },
      "source": [
        "params_dict = {'kernels_sizes':[(1,2,3),(2,3,4)]}\n",
        "\n",
        "results_utils.plotResultsByParameter1(results_df, \n",
        "                       params_dict, \n",
        "                       params2plot=['kernels_sizes'],\n",
        "                       metric='val_acc_A')\n",
        "\n",
        "results_utils.plotResultsByParameter1(results_df, \n",
        "                       params_dict, \n",
        "                       params2plot=['kernels_sizes'],\n",
        "                       metric='val_acc_B')"
      ],
      "execution_count": null,
      "outputs": [
        {
          "output_type": "stream",
          "text": [
            "/usr/local/lib/python3.7/dist-packages/numpy/core/_asarray.py:83: VisibleDeprecationWarning: Creating an ndarray from ragged nested sequences (which is a list-or-tuple of lists-or-tuples-or ndarrays with different lengths or shapes) is deprecated. If you meant to do this, you must specify 'dtype=object' when creating the ndarray\n",
            "  return array(a, dtype, copy=False, order=order)\n"
          ],
          "name": "stderr"
        },
        {
          "output_type": "display_data",
          "data": {
            "image/png": "[encoded data removed]",
            "text/plain": [
              "<Figure size 864x486 with 1 Axes>"
            ]
          },
          "metadata": {
            "tags": [],
            "needs_background": "light"
          }
        },
        {
          "output_type": "stream",
          "text": [
            "/usr/local/lib/python3.7/dist-packages/numpy/core/_asarray.py:83: VisibleDeprecationWarning: Creating an ndarray from ragged nested sequences (which is a list-or-tuple of lists-or-tuples-or ndarrays with different lengths or shapes) is deprecated. If you meant to do this, you must specify 'dtype=object' when creating the ndarray\n",
            "  return array(a, dtype, copy=False, order=order)\n"
          ],
          "name": "stderr"
        },
        {
          "output_type": "display_data",
          "data": {
            "image/png": "[encoded data removed]",
            "text/plain": [
              "<Figure size 864x486 with 1 Axes>"
            ]
          },
          "metadata": {
            "tags": [],
            "needs_background": "light"
          }
        }
      ]
    },
    {
      "cell_type": "markdown",
      "metadata": {
        "id": "s5ZAy6f-MIl6"
      },
      "source": [
        "### Resumen de los resultados (checked)\n",
        "\n",
        "* LSTM-units: 150\n",
        "* kernels_sizes: [**(1,2,3)**, (2,3,4)]\n",
        "\n",
        "* optimizador: [**'adam-1e-3'**]\n",
        "* batch_size: [**256**, 512]"
      ]
    },
    {
      "cell_type": "markdown",
      "metadata": {
        "id": "ZuR_USigIEMo"
      },
      "source": [
        "# Bloque 3 (n_filters, cnn_activ)\n"
      ]
    },
    {
      "cell_type": "markdown",
      "metadata": {
        "id": "uGy10FUrQMji"
      },
      "source": [
        "## Espacio de búsqueda"
      ]
    },
    {
      "cell_type": "markdown",
      "metadata": {
        "id": "C52rFSYZQMjj"
      },
      "source": [
        "**Parámetros de la arquitectura**"
      ]
    },
    {
      "cell_type": "code",
      "metadata": {
        "colab": {
          "base_uri": "https://localhost:8080/"
        },
        "id": "K-Xrof6YQMjk",
        "outputId": "545c5333-1727-46f8-ebde-56523f7c70b9"
      },
      "source": [
        "from itertools import product\n",
        "\n",
        "dense_layers_sizes = [(300,100),\n",
        "                      (300,75),\n",
        "                      (200,100),\n",
        "                      (200,75)]  \n",
        "\n",
        "arch_params = {'units_lstm':[150],\n",
        "          'merge_mode':['concat'],\n",
        "          'n_filters':[100,150,200],\n",
        "          'kernels_sizes':[(1,2,3)],\n",
        "          'dense_layers_sizes': dense_layers_sizes,\n",
        "          'conv_activation':['tanh','relu'],\n",
        "          'pooling_method':['max'],\n",
        "          'spatial_dropout':[0.5],\n",
        "          'lstm_dropout':[0.5],\n",
        "          'dense_dropout':[0.3]}\n",
        "\n",
        "arch_params_keys = arch_params.keys()\n",
        "\n",
        "arch_params_combos = list(product( *arch_params.values() ))          \n",
        "\n",
        "print('{} arch_params_combos.'.format(len(arch_params_combos)))  "
      ],
      "execution_count": null,
      "outputs": [
        {
          "output_type": "stream",
          "text": [
            "24 arch_params_combos.\n"
          ],
          "name": "stdout"
        }
      ]
    },
    {
      "cell_type": "markdown",
      "metadata": {
        "id": "GUV7f-TacG7L"
      },
      "source": [
        "**Parámetros de la arquitectura**"
      ]
    },
    {
      "cell_type": "code",
      "metadata": {
        "colab": {
          "base_uri": "https://localhost:8080/"
        },
        "id": "m5A-MYfIcG7O",
        "outputId": "96ecc5dd-e9e3-4e08-908d-ed612e55fe42"
      },
      "source": [
        "trainig_params_dict = {'optimizer':['adam-1e-3'],\n",
        "                       'batch_size':[256,512],\n",
        "                       'max_epochs':[75]}\n",
        "                        \n",
        "\n",
        "training_params_keys = trainig_params_dict.keys()\n",
        "trainig_params_combos = list(product( *trainig_params_dict.values() ))\n",
        "\n",
        "print('\\n{} trainig_params_combos.'.format(len(trainig_params_combos))) "
      ],
      "execution_count": null,
      "outputs": [
        {
          "output_type": "stream",
          "text": [
            "\n",
            "2 trainig_params_combos.\n"
          ],
          "name": "stdout"
        }
      ]
    },
    {
      "cell_type": "code",
      "metadata": {
        "colab": {
          "base_uri": "https://localhost:8080/"
        },
        "id": "0ca4V8nEQMjq",
        "outputId": "58af0a86-206a-48cc-a082-b32c3f23855b"
      },
      "source": [
        "search_space = list(product(arch_params_combos, trainig_params_combos))\n",
        "\n",
        "print('\\n{} params combinations in the search_space.'.format(len(search_space))) "
      ],
      "execution_count": null,
      "outputs": [
        {
          "output_type": "stream",
          "text": [
            "\n",
            "48 params combinations in the search_space.\n"
          ],
          "name": "stdout"
        }
      ]
    },
    {
      "cell_type": "markdown",
      "metadata": {
        "id": "e0myPaxhg7MD"
      },
      "source": [
        "## Escaneo"
      ]
    },
    {
      "cell_type": "code",
      "metadata": {
        "id": "sYEb8smWg7MP"
      },
      "source": [
        "results_df = nn_utils.spaceScanner(X_train, Y_train,\n",
        "                          'TR',\n",
        "                          recurrentLSTM_NetModel, \n",
        "                          search_space[24:36],\n",
        "                          arch_params_keys,\n",
        "                          training_params_keys,\n",
        "                          fraction2eval=1,\n",
        "                          n_folds=7,\n",
        "                          fitting_attemps=1,\n",
        "                          stop_threshold=1,\n",
        "                          partial_CV=True,\n",
        "                          backup_file='./Results/ConvLSTM/TR/experiments_3_2_1.df',\n",
        "                          backup_freq=5,\n",
        "                          save_history_files=True,\n",
        "                          save_models_as_json=False)"
      ],
      "execution_count": null,
      "outputs": []
    },
    {
      "cell_type": "markdown",
      "metadata": {
        "id": "bvaJ0Qf0XDdn"
      },
      "source": [
        "## Resultados"
      ]
    },
    {
      "cell_type": "code",
      "metadata": {
        "id": "riDo6wxuXDd5",
        "colab": {
          "base_uri": "https://localhost:8080/"
        },
        "outputId": "b7b0abc0-6456-4839-849e-057c26bf8559"
      },
      "source": [
        "import pickle\n",
        "with open('./Results/ConvLSTM/TR/experiments_3.df', 'rb') as file_handler:\n",
        "  results_df = pickle.load(file_handler)\n",
        "\n",
        "results_df.shape"
      ],
      "execution_count": 10,
      "outputs": [
        {
          "output_type": "execute_result",
          "data": {
            "text/plain": [
              "(48, 22)"
            ]
          },
          "metadata": {
            "tags": []
          },
          "execution_count": 10
        }
      ]
    },
    {
      "cell_type": "code",
      "metadata": {
        "id": "tLEf0NbjXDd7"
      },
      "source": [
        "results_df.sort_values(by='val_acc_A', ascending=False).head()"
      ],
      "execution_count": null,
      "outputs": []
    },
    {
      "cell_type": "code",
      "metadata": {
        "id": "TdvFpn_VXDd9"
      },
      "source": [
        "results_df.sort_values(by='val_acc_B', ascending=False).head()"
      ],
      "execution_count": null,
      "outputs": []
    },
    {
      "cell_type": "code",
      "metadata": {
        "colab": {
          "base_uri": "https://localhost:8080/",
          "height": 845
        },
        "id": "nHIBffO_skZB",
        "outputId": "625f6705-2cb8-40e3-fec4-2c4c42311308"
      },
      "source": [
        "params_dict = {'conv_activation':['tanh','relu']}\n",
        "\n",
        "results_utils.plotResultsByParameter1(results_df, \n",
        "                       params_dict, \n",
        "                       params2plot=['conv_activation'],\n",
        "                       metric='val_acc_A')\n",
        "\n",
        "results_utils.plotResultsByParameter1(results_df, \n",
        "                       params_dict, \n",
        "                       params2plot=['conv_activation'],\n",
        "                       metric='val_acc_B')"
      ],
      "execution_count": 11,
      "outputs": [
        {
          "output_type": "display_data",
          "data": {
            "image/png": "[encoded data removed]",
            "text/plain": [
              "<Figure size 864x486 with 1 Axes>"
            ]
          },
          "metadata": {
            "tags": [],
            "needs_background": "light"
          }
        },
        {
          "output_type": "display_data",
          "data": {
            "image/png": "[encoded data removed]",
            "text/plain": [
              "<Figure size 864x486 with 1 Axes>"
            ]
          },
          "metadata": {
            "tags": [],
            "needs_background": "light"
          }
        }
      ]
    },
    {
      "cell_type": "code",
      "metadata": {
        "colab": {
          "base_uri": "https://localhost:8080/",
          "height": 845
        },
        "id": "LsihMqjNkIud",
        "outputId": "2a4da6f3-fef0-4347-f624-2cd07a12052b"
      },
      "source": [
        "params_dict = {'n_filters':[100,150,200]}\n",
        "\n",
        "results_utils.plotResultsByParameter1(results_df, \n",
        "                       params_dict, \n",
        "                       params2plot=['n_filters'],\n",
        "                       metric='val_acc_A')\n",
        "\n",
        "results_utils.plotResultsByParameter1(results_df, \n",
        "                       params_dict, \n",
        "                       params2plot=['n_filters'],\n",
        "                       metric='val_acc_B')"
      ],
      "execution_count": null,
      "outputs": [
        {
          "output_type": "display_data",
          "data": {
            "image/png": "[encoded data removed]",
            "text/plain": [
              "<Figure size 864x486 with 1 Axes>"
            ]
          },
          "metadata": {
            "tags": [],
            "needs_background": "light"
          }
        },
        {
          "output_type": "display_data",
          "data": {
            "image/png": "[encoded data removed]",
            "text/plain": [
              "<Figure size 864x486 with 1 Axes>"
            ]
          },
          "metadata": {
            "tags": [],
            "needs_background": "light"
          }
        }
      ]
    },
    {
      "cell_type": "code",
      "metadata": {
        "colab": {
          "base_uri": "https://localhost:8080/",
          "height": 845
        },
        "id": "zaUxrgqdrz1p",
        "outputId": "e9eb282b-27d9-477e-a66b-2b3c228b883b"
      },
      "source": [
        "params_dict = {'dense_layers_sizes':[(300,100),\n",
        "                      (300,75),\n",
        "                      (200,100),\n",
        "                      (200,75)]}\n",
        "\n",
        "results_utils.plotResultsByParameter1(results_df, \n",
        "                       params_dict, \n",
        "                       params2plot=['dense_layers_sizes'],\n",
        "                       metric='val_acc_A')\n",
        "\n",
        "results_utils.plotResultsByParameter1(results_df, \n",
        "                       params_dict, \n",
        "                       params2plot=['dense_layers_sizes'],\n",
        "                       metric='val_acc_B')                      "
      ],
      "execution_count": null,
      "outputs": [
        {
          "output_type": "display_data",
          "data": {
            "image/png": "[encoded data removed]",
            "text/plain": [
              "<Figure size 864x486 with 1 Axes>"
            ]
          },
          "metadata": {
            "tags": [],
            "needs_background": "light"
          }
        },
        {
          "output_type": "display_data",
          "data": {
            "image/png": "[encoded data removed]",
            "text/plain": [
              "<Figure size 864x486 with 1 Axes>"
            ]
          },
          "metadata": {
            "tags": [],
            "needs_background": "light"
          }
        }
      ]
    },
    {
      "cell_type": "markdown",
      "metadata": {
        "id": "mXLR6FzoM8Vs"
      },
      "source": [
        "### Resumen de los resultados (checked)\n",
        "* LSTM-units: 150\n",
        "* kernels_sizes: [**(1,2,3)**, (2,3,4)]\n",
        "* n_filters: [100, -150-]\n",
        "* conv_activ: [tanh, -'relu'-]\n",
        "* dese-layers: [(300,100), **(200,75)**]\n",
        "\n",
        "\n",
        "* optimizador: ['adam-1e-3']\n",
        "* batch_size: [**256**,512]"
      ]
    },
    {
      "cell_type": "markdown",
      "metadata": {
        "id": "yJjxpOhuXvUF"
      },
      "source": [
        "# Bloque 4 (dropout)"
      ]
    },
    {
      "cell_type": "markdown",
      "metadata": {
        "id": "nfrCZXSLoN3e"
      },
      "source": [
        "## Espacio de búsqueda"
      ]
    },
    {
      "cell_type": "markdown",
      "metadata": {
        "id": "D3zKbg8soN3g"
      },
      "source": [
        "**Parámetros de la arquitectura**"
      ]
    },
    {
      "cell_type": "code",
      "metadata": {
        "colab": {
          "base_uri": "https://localhost:8080/"
        },
        "id": "58f4fu7ioN3h",
        "outputId": "68f5cc70-a5ff-4a21-c670-b11d419a330a"
      },
      "source": [
        "from itertools import product\n",
        "\n",
        "dense_layers_sizes = [(300,100),\n",
        "                      (200,75)]  \n",
        "\n",
        "arch_params = {'units_lstm':[150],\n",
        "          'merge_mode':['concat'],\n",
        "          'n_filters':[150],\n",
        "          'kernels_sizes':[(1,2,3)],\n",
        "          'dense_layers_sizes': dense_layers_sizes,\n",
        "          'conv_activation':['relu'],\n",
        "          'pooling_method':['max'],\n",
        "          'spatial_dropout':[0.3,0.5,0.7],\n",
        "          'lstm_dropout':[0.3,0.5,0.7],\n",
        "          'dense_dropout':[0.3,0.5,0.7]}\n",
        "\n",
        "arch_params_keys = arch_params.keys()\n",
        "\n",
        "arch_params_combos = list(product( *arch_params.values() ))          \n",
        "\n",
        "#arch_params_combos = [params_combo for params_combo in arch_params_combos if params_combo[-2]>=params_combo[-1]]\n",
        "print('{} arch_params_combos.'.format(len(arch_params_combos)))  "
      ],
      "execution_count": null,
      "outputs": [
        {
          "output_type": "stream",
          "text": [
            "36 arch_params_combos.\n"
          ],
          "name": "stdout"
        }
      ]
    },
    {
      "cell_type": "markdown",
      "metadata": {
        "id": "Ba0DOrsyoN3l"
      },
      "source": [
        "**Parámetros de la arquitectura**"
      ]
    },
    {
      "cell_type": "code",
      "metadata": {
        "colab": {
          "base_uri": "https://localhost:8080/"
        },
        "id": "aL0oDOzmoN3n",
        "outputId": "ee8f8ace-e6d5-4731-f443-ac556a14ef73"
      },
      "source": [
        "trainig_params_dict = {'optimizer':['adam-1e-3'],\n",
        "                       'batch_size':[256],\n",
        "                       'max_epochs':[75]}\n",
        "                        \n",
        "\n",
        "training_params_keys = trainig_params_dict.keys()\n",
        "trainig_params_combos = list(product( *trainig_params_dict.values() ))\n",
        "\n",
        "print('\\n{} trainig_params_combos.'.format(len(trainig_params_combos))) "
      ],
      "execution_count": null,
      "outputs": [
        {
          "output_type": "stream",
          "text": [
            "\n",
            "1 trainig_params_combos.\n"
          ],
          "name": "stdout"
        }
      ]
    },
    {
      "cell_type": "code",
      "metadata": {
        "colab": {
          "base_uri": "https://localhost:8080/"
        },
        "id": "SZwycOBuoN3p",
        "outputId": "c362e666-7d22-4c8d-dd89-a7ae6718923d"
      },
      "source": [
        "search_space = list(product(arch_params_combos, trainig_params_combos))\n",
        "\n",
        "print('\\n{} params combinations in the search_space.'.format(len(search_space))) "
      ],
      "execution_count": null,
      "outputs": [
        {
          "output_type": "stream",
          "text": [
            "\n",
            "36 params combinations in the search_space.\n"
          ],
          "name": "stdout"
        }
      ]
    },
    {
      "cell_type": "markdown",
      "metadata": {
        "id": "7ZwrExso2pIl"
      },
      "source": [
        "## Escaneo"
      ]
    },
    {
      "cell_type": "code",
      "metadata": {
        "id": "5tixF46w2rM0"
      },
      "source": [
        "results_df = nn_utils.spaceScanner(X_train, Y_train,\n",
        "                          'TR',\n",
        "                          recurrentLSTM_NetModel, \n",
        "                          search_space[27:36],\n",
        "                          arch_params_keys,\n",
        "                          training_params_keys,\n",
        "                          fraction2eval=1,\n",
        "                          n_folds=7,\n",
        "                          fitting_attemps=1,\n",
        "                          stop_threshold=1,\n",
        "                          partial_CV=True,\n",
        "                          backup_file='./Results/ConvLSTM/TR/experiments_4_3.df',\n",
        "                          backup_freq=3,\n",
        "                          save_history_files=True,\n",
        "                          save_models_as_json=False)"
      ],
      "execution_count": null,
      "outputs": []
    },
    {
      "cell_type": "markdown",
      "metadata": {
        "id": "wkhqtui7REyp"
      },
      "source": [
        "## Resultados"
      ]
    },
    {
      "cell_type": "code",
      "metadata": {
        "colab": {
          "base_uri": "https://localhost:8080/"
        },
        "id": "aa7kotfzREza",
        "outputId": "65d26779-4b95-4cff-a530-9c7542cdbb7e"
      },
      "source": [
        "import pickle\n",
        "from pandas import DataFrame\n",
        "\n",
        "with open('./Results/ConvLSTM/TR/experiments_4_newest.df', 'rb') as file_handler:\n",
        "  results_df = pickle.load(file_handler)\n",
        "\n",
        "results_df.shape"
      ],
      "execution_count": 12,
      "outputs": [
        {
          "output_type": "execute_result",
          "data": {
            "text/plain": [
              "(53, 22)"
            ]
          },
          "metadata": {
            "tags": []
          },
          "execution_count": 12
        }
      ]
    },
    {
      "cell_type": "code",
      "metadata": {
        "id": "03JgpAEhREzd"
      },
      "source": [
        "results_df.sort_values(by='val_acc_A', ascending=False).head()"
      ],
      "execution_count": null,
      "outputs": []
    },
    {
      "cell_type": "code",
      "metadata": {
        "id": "MSZk7lPrREze"
      },
      "source": [
        "results_df.sort_values(by='val_acc_B', ascending=False).head(36)"
      ],
      "execution_count": null,
      "outputs": []
    },
    {
      "cell_type": "code",
      "metadata": {
        "colab": {
          "base_uri": "https://localhost:8080/",
          "height": 934
        },
        "id": "rv7_eL_64dJm",
        "outputId": "6fa91d46-3228-4c54-dac0-f191d078236a"
      },
      "source": [
        "params_dict = {'lstm_dropout':[0.3,0.5,0.7]}\n",
        "\n",
        "results_utils.plotResultsByParameter1(results_df, \n",
        "                       params_dict, \n",
        "                       params2plot=['lstm_dropout'],\n",
        "                       metric='val_acc_A')\n",
        "\n",
        "results_utils.plotResultsByParameter1(results_df, \n",
        "                       params_dict, \n",
        "                       params2plot=['lstm_dropout'],\n",
        "                       metric='val_acc_B')"
      ],
      "execution_count": 13,
      "outputs": [
        {
          "output_type": "stream",
          "text": [
            "/usr/local/lib/python3.7/dist-packages/numpy/core/_asarray.py:83: VisibleDeprecationWarning: Creating an ndarray from ragged nested sequences (which is a list-or-tuple of lists-or-tuples-or ndarrays with different lengths or shapes) is deprecated. If you meant to do this, you must specify 'dtype=object' when creating the ndarray\n",
            "  return array(a, dtype, copy=False, order=order)\n"
          ],
          "name": "stderr"
        },
        {
          "output_type": "display_data",
          "data": {
            "image/png": "[encoded data removed]",
            "text/plain": [
              "<Figure size 864x486 with 1 Axes>"
            ]
          },
          "metadata": {
            "tags": [],
            "needs_background": "light"
          }
        },
        {
          "output_type": "stream",
          "text": [
            "/usr/local/lib/python3.7/dist-packages/numpy/core/_asarray.py:83: VisibleDeprecationWarning: Creating an ndarray from ragged nested sequences (which is a list-or-tuple of lists-or-tuples-or ndarrays with different lengths or shapes) is deprecated. If you meant to do this, you must specify 'dtype=object' when creating the ndarray\n",
            "  return array(a, dtype, copy=False, order=order)\n"
          ],
          "name": "stderr"
        },
        {
          "output_type": "display_data",
          "data": {
            "image/png": "[encoded data removed]",
            "text/plain": [
              "<Figure size 864x486 with 1 Axes>"
            ]
          },
          "metadata": {
            "tags": [],
            "needs_background": "light"
          }
        }
      ]
    },
    {
      "cell_type": "code",
      "metadata": {
        "colab": {
          "base_uri": "https://localhost:8080/",
          "height": 838
        },
        "id": "DPiAc7ZI44IG",
        "outputId": "0c7391f0-b27c-47e4-86f4-d4b60276985b"
      },
      "source": [
        "lstm_drop_mask = results_df.lstm_dropout == 0.7\n",
        "\n",
        "params_dict = {'spatial_dropout':[0.3,0.5,0.7]}\n",
        "\n",
        "results_utils.plotResultsByParameter1(results_df.loc[lstm_drop_mask], \n",
        "                       params_dict, \n",
        "                       params2plot=['spatial_dropout'],\n",
        "                       metric='val_acc_A')\n",
        "\n",
        "results_utils.plotResultsByParameter1(results_df.loc[lstm_drop_mask], \n",
        "                       params_dict, \n",
        "                       params2plot=['spatial_dropout'],\n",
        "                       metric='val_acc_B')"
      ],
      "execution_count": 14,
      "outputs": [
        {
          "output_type": "display_data",
          "data": {
            "image/png": "[encoded data removed]",
            "text/plain": [
              "<Figure size 864x486 with 1 Axes>"
            ]
          },
          "metadata": {
            "tags": [],
            "needs_background": "light"
          }
        },
        {
          "output_type": "display_data",
          "data": {
            "image/png": "[encoded data removed]",
            "text/plain": [
              "<Figure size 864x486 with 1 Axes>"
            ]
          },
          "metadata": {
            "tags": [],
            "needs_background": "light"
          }
        }
      ]
    },
    {
      "cell_type": "code",
      "metadata": {
        "colab": {
          "base_uri": "https://localhost:8080/",
          "height": 838
        },
        "id": "8Wv-tM21i5o0",
        "outputId": "bf7ac76d-79fb-4457-f5f3-53e36e6bb11d"
      },
      "source": [
        "lstm_drop_mask = results_df.lstm_dropout == 0.7\n",
        "\n",
        "params_dict = {'dense_dropout':[0.3,0.5,0.7]}\n",
        "\n",
        "results_utils.plotResultsByParameter1(results_df.loc[lstm_drop_mask], \n",
        "                       params_dict, \n",
        "                       params2plot=['dense_dropout'],\n",
        "                       metric='val_acc_A')\n",
        "\n",
        "results_utils.plotResultsByParameter1(results_df.loc[lstm_drop_mask], \n",
        "                       params_dict, \n",
        "                       params2plot=['dense_dropout'],\n",
        "                       metric='val_acc_B')"
      ],
      "execution_count": 15,
      "outputs": [
        {
          "output_type": "display_data",
          "data": {
            "image/png": "[encoded data removed]",
            "text/plain": [
              "<Figure size 864x486 with 1 Axes>"
            ]
          },
          "metadata": {
            "tags": [],
            "needs_background": "light"
          }
        },
        {
          "output_type": "display_data",
          "data": {
            "image/png": "[encoded data removed]",
            "text/plain": [
              "<Figure size 864x486 with 1 Axes>"
            ]
          },
          "metadata": {
            "tags": [],
            "needs_background": "light"
          }
        }
      ]
    },
    {
      "cell_type": "markdown",
      "metadata": {
        "id": "iNqVNZvE50IM"
      },
      "source": [
        "### Resumen de los resultados (checked)\n",
        "* LSTM-units: 150\n",
        "* kernels_sizes: [-(1,2,3)-, (2,3,4)]\n",
        "* n_filters: [100, -150-]\n",
        "* conv_activ: [tanh, -'relu'-]\n",
        "* dese-layers: [(300,100), **(200,75)**]\n",
        "* lstm-drop: [0.7]\n",
        "* spatial-drop: [0.5, 0.7]\n",
        "* dense-drop: [0.5, 0.7]\n",
        "\n",
        "\n",
        "* optimizador: ['adam-1e-3']\n",
        "* batch_size: [**256**,512]"
      ]
    },
    {
      "cell_type": "markdown",
      "metadata": {
        "id": "_LoYGBK78-0n"
      },
      "source": [
        "# Bloque 5 (validación completa)"
      ]
    },
    {
      "cell_type": "markdown",
      "metadata": {
        "id": "R79svBvj8-00"
      },
      "source": [
        "## Espacio de búsqueda"
      ]
    },
    {
      "cell_type": "markdown",
      "metadata": {
        "id": "fcFQ01M_8-01"
      },
      "source": [
        "**Parámetros de la arquitectura**"
      ]
    },
    {
      "cell_type": "code",
      "metadata": {
        "colab": {
          "base_uri": "https://localhost:8080/"
        },
        "id": "yoPJqPT38-02",
        "outputId": "69efbfdf-254c-4eba-b554-3c0b793d5734"
      },
      "source": [
        "from itertools import product\n",
        "\n",
        "dense_layers_sizes = [(200,75)]  \n",
        "\n",
        "arch_params = {'units_lstm':[150],\n",
        "          'merge_mode':['concat'],\n",
        "          'n_filters':[100, 150],\n",
        "          'kernels_sizes':[(1,2,3)],\n",
        "          'dense_layers_sizes': dense_layers_sizes,\n",
        "          'conv_activation':['tanh','relu'],\n",
        "          'pooling_method':['max'],\n",
        "          'spatial_dropout':[0.5],\n",
        "          'lstm_dropout':[0.5,0.7],\n",
        "          'dense_dropout':[0.5,0.7]}\n",
        "\n",
        "arch_params_keys = arch_params.keys()\n",
        "\n",
        "arch_params_combos = list(product( *arch_params.values() ))          \n",
        "\n",
        "#arch_params_combos = [params_combo for params_combo in arch_params_combos if params_combo[-2]>=params_combo[-1]]\n",
        "print('{} arch_params_combos.'.format(len(arch_params_combos)))  "
      ],
      "execution_count": 19,
      "outputs": [
        {
          "output_type": "stream",
          "text": [
            "16 arch_params_combos.\n"
          ],
          "name": "stdout"
        }
      ]
    },
    {
      "cell_type": "markdown",
      "metadata": {
        "id": "JXHZHq8c8-03"
      },
      "source": [
        "**Parámetros de la arquitectura**"
      ]
    },
    {
      "cell_type": "code",
      "metadata": {
        "colab": {
          "base_uri": "https://localhost:8080/"
        },
        "id": "D0o9_Kp98-04",
        "outputId": "5c84ffaf-ec4e-46b6-901c-25d891fdd948"
      },
      "source": [
        "trainig_params_dict = {'optimizer':['adam-1e-3'],\n",
        "                       'batch_size':[256],\n",
        "                       'max_epochs':[75]}\n",
        "                        \n",
        "\n",
        "training_params_keys = trainig_params_dict.keys()\n",
        "trainig_params_combos = list(product( *trainig_params_dict.values() ))\n",
        "\n",
        "print('\\n{} trainig_params_combos.'.format(len(trainig_params_combos))) "
      ],
      "execution_count": 20,
      "outputs": [
        {
          "output_type": "stream",
          "text": [
            "\n",
            "1 trainig_params_combos.\n"
          ],
          "name": "stdout"
        }
      ]
    },
    {
      "cell_type": "code",
      "metadata": {
        "colab": {
          "base_uri": "https://localhost:8080/"
        },
        "id": "7Bl0A_t48-06",
        "outputId": "5de9af61-4463-4756-d0ff-de84f257b778"
      },
      "source": [
        "search_space = list(product(arch_params_combos, trainig_params_combos))\n",
        "\n",
        "print('\\n{} params combinations in the search_space.'.format(len(search_space))) "
      ],
      "execution_count": 21,
      "outputs": [
        {
          "output_type": "stream",
          "text": [
            "\n",
            "16 params combinations in the search_space.\n"
          ],
          "name": "stdout"
        }
      ]
    },
    {
      "cell_type": "markdown",
      "metadata": {
        "id": "p-SsIc5D8-07"
      },
      "source": [
        "## Escaneo"
      ]
    },
    {
      "cell_type": "code",
      "metadata": {
        "id": "2YQ0BuZd8-09",
        "colab": {
          "base_uri": "https://localhost:8080/"
        },
        "outputId": "ff84f990-f94b-42a1-ea44-54566b4e7073"
      },
      "source": [
        "results_df = nn_utils.spaceScanner(X_train, Y_train,\n",
        "                          'TR',\n",
        "                          recurrentLSTM_NetModel, \n",
        "                          search_space[:16],\n",
        "                          arch_params_keys,\n",
        "                          training_params_keys,\n",
        "                          fraction2eval=1,\n",
        "                          n_folds=7,\n",
        "                          fitting_attemps=1,\n",
        "                          stop_threshold=1,\n",
        "                          partial_CV=False,\n",
        "                          backup_file='./Results/ConvLSTM/TR/experiments_5_1.df',\n",
        "                          backup_freq=1,\n",
        "                          save_history_files=True,\n",
        "                          save_models_as_json=True,\n",
        "                          save_weights=True\n",
        "                          )"
      ],
      "execution_count": 24,
      "outputs": [
        {
          "output_type": "stream",
          "text": [
            "BackupFile: ./Results/ConvLSTM/TR/experiments_5_1.df\n",
            "SCANNING SEARCH SPACE\n",
            "\n",
            "16 configurations will be evaluated.\n",
            "1  - conf_ID: BhDEucJj   *******  --  train_acc_1 = 0.856,  val_acc_1 = 0.894    --  train_acc_2 = 0.847,  val_acc_2 = 0.9     \n",
            "2  - conf_ID: AnVKbKCX   *******  --  train_acc_1 = 0.839,  val_acc_1 = 0.897    --  train_acc_2 = 0.852,  val_acc_2 = 0.903   \n",
            "3  - conf_ID: QYWMRwAW   *******  --  train_acc_1 = 0.844,  val_acc_1 = 0.9      --  train_acc_2 = 0.856,  val_acc_2 = 0.905   \n",
            "4  - conf_ID: gmfJbLbd   *******  --  train_acc_1 = 0.84,   val_acc_1 = 0.899    --  train_acc_2 = 0.853,  val_acc_2 = 0.906   \n",
            "5  - conf_ID: egygfFsW   *******  --  train_acc_1 = 0.862,  val_acc_1 = 0.899    --  train_acc_2 = 0.866,  val_acc_2 = 0.904   \n",
            "6  - conf_ID: vffEAEqi   *******  --  train_acc_1 = 0.847,  val_acc_1 = 0.896    --  train_acc_2 = 0.859,  val_acc_2 = 0.905   \n",
            "7  - conf_ID: dSsSKnVs   *******  --  train_acc_1 = 0.862,  val_acc_1 = 0.902    --  train_acc_2 = 0.863,  val_acc_2 = 0.908   \n",
            "8  - conf_ID: iFfHteVR   *******  --  train_acc_1 = 0.848,  val_acc_1 = 0.9      --  train_acc_2 = 0.846,  val_acc_2 = 0.908   \n",
            "9  - conf_ID: JZKkrzQX   *******  --  train_acc_1 = 0.86,   val_acc_1 = 0.897    --  train_acc_2 = 0.858,  val_acc_2 = 0.902   \n",
            "10 - conf_ID: vWkTHiYG   *******  --  train_acc_1 = 0.855,  val_acc_1 = 0.896    --  train_acc_2 = 0.848,  val_acc_2 = 0.903   \n",
            "11 - conf_ID: eatwzMbh   *******  --  train_acc_1 = 0.852,  val_acc_1 = 0.901    --  train_acc_2 = 0.848,  val_acc_2 = 0.905   \n",
            "12 - conf_ID: NIQKIlIr   *******  --  train_acc_1 = 0.844,  val_acc_1 = 0.899    --  train_acc_2 = 0.85,   val_acc_2 = 0.908   \n",
            "13 - conf_ID: mHPidtum   *******  --  train_acc_1 = 0.851,  val_acc_1 = 0.899    --  train_acc_2 = 0.858,  val_acc_2 = 0.906   \n",
            "14 - conf_ID: QNMPvXTX   *******  --  train_acc_1 = 0.847,  val_acc_1 = 0.899    --  train_acc_2 = 0.844,  val_acc_2 = 0.903   \n",
            "15 - conf_ID: iamRRqSI   *******  --  train_acc_1 = 0.858,  val_acc_1 = 0.902    --  train_acc_2 = 0.849,  val_acc_2 = 0.907   \n",
            "16 - conf_ID: cEozDdue   *******  --  train_acc_1 = 0.842,  val_acc_1 = 0.9      --  train_acc_2 = 0.845,  val_acc_2 = 0.906   \n",
            "\n",
            "PROCCESS COMPLETE. 16 CONFIGURATIONS WERE SUCCESFULLY EVALUATED.\n"
          ],
          "name": "stdout"
        }
      ]
    },
    {
      "cell_type": "markdown",
      "metadata": {
        "id": "WU90SsDkvDln"
      },
      "source": [
        "## Resultados"
      ]
    },
    {
      "cell_type": "code",
      "metadata": {
        "id": "aH_HpBv3ay2s"
      },
      "source": [
        "results_list = ['./Results/LSTM/ConvLSTM_HS_experiments_5f_batch_2.df',\n",
        "                './Results/LSTM/ConvLSTM_HS_experiments_5f_batch_2-2.df']\n",
        "\n",
        "results_df = results_utils.mergeDataFrames(results_list, './Results/LSTM/ConvLSTM_HS_experiments_5f.df')   "
      ],
      "execution_count": null,
      "outputs": []
    },
    {
      "cell_type": "code",
      "metadata": {
        "colab": {
          "base_uri": "https://localhost:8080/"
        },
        "id": "bPARc-kZvDlq",
        "outputId": "2ab4da2a-91de-4db6-b727-84cecdd19a3e"
      },
      "source": [
        "import pickle\n",
        "from pandas import DataFrame\n",
        "\n",
        "with open('./Results/LSTM/ConvLSTM_HS_experiments_5f.df', 'rb') as file_handler:\n",
        "  results_df = pickle.load(file_handler)\n",
        "\n",
        "results_df.shape"
      ],
      "execution_count": null,
      "outputs": [
        {
          "output_type": "execute_result",
          "data": {
            "text/plain": [
              "(15, 22)"
            ]
          },
          "metadata": {
            "tags": []
          },
          "execution_count": 9
        }
      ]
    },
    {
      "cell_type": "code",
      "metadata": {
        "id": "1p2Y4bKo8erk",
        "colab": {
          "base_uri": "https://localhost:8080/",
          "height": 178
        },
        "outputId": "80085dc3-45b5-4311-876b-61035f5d7f3e"
      },
      "source": [
        "results_df.head(3)"
      ],
      "execution_count": null,
      "outputs": [
        {
          "output_type": "execute_result",
          "data": {
            "text/html": [
              "<div>\n",
              "<style scoped>\n",
              "    .dataframe tbody tr th:only-of-type {\n",
              "        vertical-align: middle;\n",
              "    }\n",
              "\n",
              "    .dataframe tbody tr th {\n",
              "        vertical-align: top;\n",
              "    }\n",
              "\n",
              "    .dataframe thead th {\n",
              "        text-align: right;\n",
              "    }\n",
              "</style>\n",
              "<table border=\"1\" class=\"dataframe\">\n",
              "  <thead>\n",
              "    <tr style=\"text-align: right;\">\n",
              "      <th></th>\n",
              "      <th>conf_ID</th>\n",
              "      <th>units_lstm</th>\n",
              "      <th>merge_mode</th>\n",
              "      <th>n_filters</th>\n",
              "      <th>kernels_sizes</th>\n",
              "      <th>dense_layers_sizes</th>\n",
              "      <th>conv_activation</th>\n",
              "      <th>pooling_method</th>\n",
              "      <th>spatial_dropout</th>\n",
              "      <th>lstm_dropout</th>\n",
              "      <th>dense_dropout</th>\n",
              "      <th>optimizer</th>\n",
              "      <th>batch_size</th>\n",
              "      <th>max_epochs</th>\n",
              "      <th>best_epochh</th>\n",
              "      <th>train_acc_A</th>\n",
              "      <th>val_acc_A</th>\n",
              "      <th>min2best</th>\n",
              "      <th>max2best</th>\n",
              "      <th>median2best</th>\n",
              "      <th>train_acc_B</th>\n",
              "      <th>val_acc_B</th>\n",
              "    </tr>\n",
              "  </thead>\n",
              "  <tbody>\n",
              "    <tr>\n",
              "      <th>0</th>\n",
              "      <td>MvOlAtXJ</td>\n",
              "      <td>150</td>\n",
              "      <td>concat</td>\n",
              "      <td>150</td>\n",
              "      <td>(1, 2, 3)</td>\n",
              "      <td>(300, 100)</td>\n",
              "      <td>relu</td>\n",
              "      <td>max</td>\n",
              "      <td>0.7</td>\n",
              "      <td>0.5</td>\n",
              "      <td>0.3</td>\n",
              "      <td>adam-5e-4</td>\n",
              "      <td>512</td>\n",
              "      <td>75</td>\n",
              "      <td>19</td>\n",
              "      <td>0.773765</td>\n",
              "      <td>0.807005</td>\n",
              "      <td>19</td>\n",
              "      <td>68</td>\n",
              "      <td>20</td>\n",
              "      <td>0.810633</td>\n",
              "      <td>0.822797</td>\n",
              "    </tr>\n",
              "    <tr>\n",
              "      <th>1</th>\n",
              "      <td>QOTsRhWU</td>\n",
              "      <td>150</td>\n",
              "      <td>concat</td>\n",
              "      <td>150</td>\n",
              "      <td>(1, 2, 3)</td>\n",
              "      <td>(300, 100)</td>\n",
              "      <td>relu</td>\n",
              "      <td>max</td>\n",
              "      <td>0.7</td>\n",
              "      <td>0.5</td>\n",
              "      <td>0.3</td>\n",
              "      <td>adam-5e-4</td>\n",
              "      <td>1024</td>\n",
              "      <td>75</td>\n",
              "      <td>28</td>\n",
              "      <td>0.779967</td>\n",
              "      <td>0.806197</td>\n",
              "      <td>22</td>\n",
              "      <td>63</td>\n",
              "      <td>34</td>\n",
              "      <td>0.807136</td>\n",
              "      <td>0.821995</td>\n",
              "    </tr>\n",
              "    <tr>\n",
              "      <th>2</th>\n",
              "      <td>SgzKWUEe</td>\n",
              "      <td>150</td>\n",
              "      <td>concat</td>\n",
              "      <td>150</td>\n",
              "      <td>(1, 2, 3)</td>\n",
              "      <td>(300, 100)</td>\n",
              "      <td>relu</td>\n",
              "      <td>max</td>\n",
              "      <td>0.7</td>\n",
              "      <td>0.5</td>\n",
              "      <td>0.3</td>\n",
              "      <td>rmsprop-1e-3</td>\n",
              "      <td>512</td>\n",
              "      <td>75</td>\n",
              "      <td>40</td>\n",
              "      <td>0.783966</td>\n",
              "      <td>0.807006</td>\n",
              "      <td>35</td>\n",
              "      <td>54</td>\n",
              "      <td>40</td>\n",
              "      <td>0.788300</td>\n",
              "      <td>0.820198</td>\n",
              "    </tr>\n",
              "  </tbody>\n",
              "</table>\n",
              "</div>"
            ],
            "text/plain": [
              "    conf_ID  units_lstm merge_mode  ...  median2best train_acc_B val_acc_B\n",
              "0  MvOlAtXJ         150     concat  ...           20    0.810633  0.822797\n",
              "1  QOTsRhWU         150     concat  ...           34    0.807136  0.821995\n",
              "2  SgzKWUEe         150     concat  ...           40    0.788300  0.820198\n",
              "\n",
              "[3 rows x 22 columns]"
            ]
          },
          "metadata": {
            "tags": []
          },
          "execution_count": 10
        }
      ]
    },
    {
      "cell_type": "code",
      "metadata": {
        "id": "N_EiQFzY8UA6",
        "colab": {
          "base_uri": "https://localhost:8080/"
        },
        "outputId": "c63741e5-efb9-45ec-d236-1326188a209a"
      },
      "source": [
        "# prepare the permanent directory \n",
        "import os\n",
        "import shutil\n",
        "\n",
        "for config_ID in results_df['conf_ID']:\n",
        "\n",
        "  saved_weights_dir = f'./trained_models/{config_ID}' \n",
        "  json_file_path = f'./models_json_files/{config_ID}.json'\n",
        "\n",
        "  history_dict_path = f'./history_files/{config_ID}.dict'\n",
        "\n",
        "  if os.path.exists(saved_weights_dir):\n",
        "    print('deleting saved weights')\n",
        "    shutil.rmtree(saved_weights_dir)\n",
        "\n",
        "  if os.path.exists(json_file_path):\n",
        "    print('deleting', json_file_path)\n",
        "    os.remove(json_file_path)\n",
        "\n",
        "  if os.path.exists(history_dict_path):\n",
        "    print('deleting', history_dict_path)\n",
        "    os.remove(history_dict_path)"
      ],
      "execution_count": null,
      "outputs": [
        {
          "output_type": "stream",
          "text": [
            "deleting saved weights\n",
            "deleting ./models_json_files/GQquLvWa.json\n",
            "deleting ./history_files/GQquLvWa.dict\n",
            "deleting saved weights\n",
            "deleting ./models_json_files/WYOYgJuB.json\n",
            "deleting ./history_files/WYOYgJuB.dict\n",
            "deleting saved weights\n",
            "deleting ./models_json_files/bAmSiFDJ.json\n",
            "deleting ./history_files/bAmSiFDJ.dict\n",
            "deleting saved weights\n",
            "deleting ./models_json_files/fcdVxCvu.json\n",
            "deleting ./history_files/fcdVxCvu.dict\n",
            "deleting saved weights\n",
            "deleting ./models_json_files/eYPADpzM.json\n",
            "deleting ./history_files/eYPADpzM.dict\n",
            "deleting saved weights\n",
            "deleting ./models_json_files/maVCmilI.json\n",
            "deleting ./history_files/maVCmilI.dict\n",
            "deleting saved weights\n",
            "deleting ./models_json_files/QWoUbOLK.json\n",
            "deleting ./history_files/QWoUbOLK.dict\n",
            "deleting saved weights\n",
            "deleting ./models_json_files/KJAKnJFS.json\n",
            "deleting ./history_files/KJAKnJFS.dict\n"
          ],
          "name": "stdout"
        }
      ]
    }
  ]
}